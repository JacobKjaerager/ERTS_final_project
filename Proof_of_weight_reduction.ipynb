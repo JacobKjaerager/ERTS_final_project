{
 "cells": [
  {
   "cell_type": "code",
   "execution_count": 1,
   "metadata": {
    "id": "Dhy7acfqt0am"
   },
   "outputs": [],
   "source": [
    "import numpy as np\n",
    "import tensorflow as tf\n",
    "from tensorflow import keras\n",
    "from tensorflow.keras import layers\n",
    "from sklearn.decomposition import PCA\n",
    "import matplotlib.pyplot as plt\n",
    "import pandas as pd \n",
    "import os\n",
    "from tensorflow.keras.initializers import RandomNormal\n",
    "import plotly\n",
    "import plotly.graph_objects as go"
   ]
  },
  {
   "cell_type": "code",
<<<<<<< Updated upstream
   "execution_count": null,
=======
   "execution_count": 5,
>>>>>>> Stashed changes
   "metadata": {},
   "outputs": [],
   "source": [
    "def save_to_files(model):\n",
    "    multiplyer = 10\n",
    "    os.remove(\"bias.dat\")\n",
    "    f = open(\"bias.dat\", \"a\")\n",
    "    for layer in model.layers:\n",
    "      for bias in layer.get_weights()[1]:\n",
    "        f.write(str(round(bias*multiplyer))+\",\\n\")\n",
    "    f.close()\n",
    "\n",
    "    os.remove(\"weights.dat\")\n",
    "    f = open(\"weights.dat\", \"a\")\n",
    "    for layer in model.layers:\n",
    "      for neuron in layer.get_weights()[0]:\n",
    "        for weight in neuron:\n",
    "          f.write(str(round(weight*multiplyer))+\",\\n\")\n",
    "    f.close()\n",
    "    \n",
    "def transform_and_save_new_static_files(input_shape, reshaped_training_data, reshaped_test_data):\n",
    "    pca = PCA(n_components=input_shape)\n",
    "    X_pca_train = pca.fit_transform(reshaped_training_data)\n",
    "    X_pca_test = pca.transform(reshaped_test_data)\n",
    "    #Save to static data\n",
    "    pd.DataFrame(X_pca_train).to_pickle(\"./pca_applied_training_images.pkl\")\n",
    "    pd.DataFrame(X_pca_test).to_pickle(\"./pca_applied_test_images.pkl\")\n",
    "\n",
    "def plot_accuracy_vs(x,y,z):\n",
    "    fig = go.Figure(data=[\n",
    "        go.Bar(name='pre_rounded_results', x=x, y=y),\n",
    "        go.Bar(name='post_rounded_results', x=x, y=z)    \n",
    "    ])\n",
    "\n",
    "    fig.update_layout(\n",
    "        barmode='group',\n",
    "        title=\"Accuracy comparison across architectures and neural network weight rounding\",\n",
    "        xaxis_title=\"Arhitecture (u=units/neurons, L=number of layers)\",\n",
    "        yaxis_title=\"Accuracy\",\n",
    "        font=dict(\n",
    "            family=\"Courier New, monospace\",\n",
    "            size=16,\n",
    "            color=\"Black\"\n",
    "        )\n",
    "    )\n",
    "    fig.show()\n",
    "    \n",
    "def generate_pre_and_post(model, \n",
    "                          X_pca_test: np.ndarray, \n",
    "                          y_test: np.ndarray, \n",
    "                          neurons: int, \n",
    "                          weight_rounding: int, \n",
    "                          image_rounding: int, \n",
    "                          no_of_layers: int, \n",
    "                          x: list, \n",
    "                          y: list, \n",
    "                          z: list) -> list:\n",
    "    weights = []\n",
    "    oldWeights = model.get_weights()\n",
    "    pre_rounded_results = model.evaluate(X_pca_test.round(image_rounding), \n",
    "                                         y_test, \n",
    "                                         verbose=0)\n",
    "    for layer in model.get_weights():\n",
    "        weights.append(layer.round(weight_rounding))\n",
    "    model.set_weights(weights) \n",
    "    post_rounded_results = model.evaluate(X_pca_test.round(image_rounding), \n",
    "                                          y_test, \n",
    "                                          verbose=0)\n",
    "    print(\"Error of rounding weights to {}-decimal: {}\".format(weight_rounding, pre_rounded_results[1]-post_rounded_results[1]))\n",
    "    x.append(\"{}L, {}u\".format(no_of_layers,neurons))\n",
    "    y.append(pre_rounded_results[1])\n",
    "    z.append(post_rounded_results[1])\n",
    "    #df = pd.concat([pd.Series(x),pd.Series(y), pd.Series(z)], axis=1).rename(columns={0:\"network_architecture\", \n",
    "    #                                                                                  1:\"pre_rounded_results\",\n",
    "    #                                                                                  2:\"post_rounded_results\"})\n",
    "    return [x,y,z]\n",
    "\n",
    "def fit_and_evaluate_model(X_pca_train: np.ndarray, \n",
    "                           y_train: np.ndarray, \n",
    "                           batch_size: int, \n",
    "                           epochs: int, \n",
    "                           neurons: int, \n",
    "                           num_classes: int, \n",
    "                           no_of_layers: int):\n",
    "    NN_layers =  []\n",
    "    NN_layers.append(keras.Input(shape=input_shape))\n",
    "    for i in range(no_of_layers):\n",
    "        NN_layers.append(layers.Dense(neurons, activation=\"relu\"))\n",
    "    NN_layers.append(layers.Dense(num_classes, activation=\"softmax\"))\n",
    "    \n",
    "    model = keras.Sequential(NN_layers)\n",
    "    model.compile(loss=\"categorical_crossentropy\", \n",
    "                  optimizer=\"adam\", \n",
    "                  metrics=[\"accuracy\"])\n",
    "    model.fit(X_pca_train, \n",
    "              y_train, \n",
    "              batch_size=batch_size, \n",
    "              epochs=epochs,\n",
    "              verbose=1)\n",
    "    return model"
   ]
  },
  {
   "cell_type": "markdown",
   "metadata": {
    "id": "yYEE9-2Mt0ap"
   },
   "source": [
    "## Prepare the data"
   ]
  },
  {
   "cell_type": "code",
   "execution_count": 10,
   "metadata": {
    "colab": {
     "base_uri": "https://localhost:8080/"
    },
    "id": "ANCytu_Pt0ap",
    "outputId": "fc30bc7e-5d54-4f55-92d8-3c72d7519be5"
   },
   "outputs": [
    {
     "name": "stdout",
     "output_type": "stream",
     "text": [
      "x_train shape: (60000, 784)\n",
      "60000 train samples\n",
      "10000 test samples\n"
     ]
    }
   ],
   "source": [
    "# Model / data parameters\n",
    "num_classes = 10\n",
    "input_shape = 80\n",
    "\n",
    "# the data, split between train and test sets\n",
    "(x_train, y_train), (x_test, y_test) = keras.datasets.mnist.load_data()\n",
    "\n",
    "# Scale images to the [0, 1] range\n",
    "x_train = x_train.astype(\"float32\") / 255\n",
    "x_test = x_test.astype(\"float32\") / 255\n",
    "\n",
    "reshaped_training_data = x_train.ravel().reshape(x_train.shape[0], x_train.shape[1]*x_train.shape[2])\n",
    "reshaped_test_data = x_test.ravel().reshape(x_test.shape[0], x_test.shape[1]*x_test.shape[2])\n",
    "\n",
    "print(\"x_train shape:\", reshaped_training_data.shape)\n",
    "print(reshaped_training_data.shape[0], \"train samples\")\n",
    "print(reshaped_test_data.shape[0], \"test samples\")\n",
    "\n",
    "# convert class vectors to binary class matrices\n",
    "y_train = keras.utils.to_categorical(y_train, num_classes)\n",
    "y_test = keras.utils.to_categorical(y_test, num_classes)"
   ]
  },
  {
   "cell_type": "code",
   "execution_count": 272,
   "metadata": {},
   "outputs": [],
   "source": [
    "def save_labels(y_test):\n",
    "    os.remove(\"testLabels.dat\")\n",
    "    f = open(\"testLabels.dat\", \"a\")\n",
    "    for y_label in y_test.argmax(axis=1):\n",
    "        f.write(str(y_label)+\",\\n\")\n",
    "    f.close()\n"
   ]
  },
  {
   "cell_type": "code",
   "execution_count": 273,
   "metadata": {},
   "outputs": [],
   "source": [
    "save_labels(y_test)"
   ]
  },
  {
   "cell_type": "markdown",
   "metadata": {
    "id": "CtfMy4ZPt0ar"
   },
   "source": [
    "## Build the model"
   ]
  },
  {
   "cell_type": "code",
   "execution_count": 280,
   "metadata": {
    "scrolled": true
   },
   "outputs": [],
   "source": [
    "#Import static variables. \n",
    "model = tf.keras.models.load_model(\"./current_model\")\n",
    "X_pca_train = pd.read_pickle(\"./pca_applied_training_images.pkl\").values\n",
    "X_pca_test = pd.read_pickle(\"./pca_applied_test_images.pkl\").values"
   ]
  },
  {
   "cell_type": "code",
   "execution_count": 7,
   "metadata": {},
   "outputs": [],
   "source": [
    "save_to_files(model)"
   ]
  },
  {
   "cell_type": "code",
   "execution_count": 58,
   "metadata": {},
   "outputs": [
    {
     "name": "stdout",
     "output_type": "stream",
     "text": [
      "Error of rounding to 1-decimal: 0.0\n"
     ]
    },
    {
     "data": {
      "application/vnd.plotly.v1+json": {
       "config": {
        "plotlyServerURL": "https://plot.ly"
       },
       "data": [
        {
         "name": "pre_rounded_results",
         "type": "bar",
         "x": [
          "2L, 70u"
         ],
         "y": [
          0.9408000111579895
         ]
        },
        {
         "name": "post_rounded_results",
         "type": "bar",
         "x": [
          "2L, 70u"
         ],
         "y": [
          0.9408000111579895
         ]
        }
       ],
       "layout": {
        "barmode": "group",
        "template": {
         "data": {
          "bar": [
           {
            "error_x": {
             "color": "#2a3f5f"
            },
            "error_y": {
             "color": "#2a3f5f"
            },
            "marker": {
             "line": {
              "color": "#E5ECF6",
              "width": 0.5
             },
             "pattern": {
              "fillmode": "overlay",
              "size": 10,
              "solidity": 0.2
             }
            },
            "type": "bar"
           }
          ],
          "barpolar": [
           {
            "marker": {
             "line": {
              "color": "#E5ECF6",
              "width": 0.5
             },
             "pattern": {
              "fillmode": "overlay",
              "size": 10,
              "solidity": 0.2
             }
            },
            "type": "barpolar"
           }
          ],
          "carpet": [
           {
            "aaxis": {
             "endlinecolor": "#2a3f5f",
             "gridcolor": "white",
             "linecolor": "white",
             "minorgridcolor": "white",
             "startlinecolor": "#2a3f5f"
            },
            "baxis": {
             "endlinecolor": "#2a3f5f",
             "gridcolor": "white",
             "linecolor": "white",
             "minorgridcolor": "white",
             "startlinecolor": "#2a3f5f"
            },
            "type": "carpet"
           }
          ],
          "choropleth": [
           {
            "colorbar": {
             "outlinewidth": 0,
             "ticks": ""
            },
            "type": "choropleth"
           }
          ],
          "contour": [
           {
            "colorbar": {
             "outlinewidth": 0,
             "ticks": ""
            },
            "colorscale": [
             [
              0,
              "#0d0887"
             ],
             [
              0.1111111111111111,
              "#46039f"
             ],
             [
              0.2222222222222222,
              "#7201a8"
             ],
             [
              0.3333333333333333,
              "#9c179e"
             ],
             [
              0.4444444444444444,
              "#bd3786"
             ],
             [
              0.5555555555555556,
              "#d8576b"
             ],
             [
              0.6666666666666666,
              "#ed7953"
             ],
             [
              0.7777777777777778,
              "#fb9f3a"
             ],
             [
              0.8888888888888888,
              "#fdca26"
             ],
             [
              1,
              "#f0f921"
             ]
            ],
            "type": "contour"
           }
          ],
          "contourcarpet": [
           {
            "colorbar": {
             "outlinewidth": 0,
             "ticks": ""
            },
            "type": "contourcarpet"
           }
          ],
          "heatmap": [
           {
            "colorbar": {
             "outlinewidth": 0,
             "ticks": ""
            },
            "colorscale": [
             [
              0,
              "#0d0887"
             ],
             [
              0.1111111111111111,
              "#46039f"
             ],
             [
              0.2222222222222222,
              "#7201a8"
             ],
             [
              0.3333333333333333,
              "#9c179e"
             ],
             [
              0.4444444444444444,
              "#bd3786"
             ],
             [
              0.5555555555555556,
              "#d8576b"
             ],
             [
              0.6666666666666666,
              "#ed7953"
             ],
             [
              0.7777777777777778,
              "#fb9f3a"
             ],
             [
              0.8888888888888888,
              "#fdca26"
             ],
             [
              1,
              "#f0f921"
             ]
            ],
            "type": "heatmap"
           }
          ],
          "heatmapgl": [
           {
            "colorbar": {
             "outlinewidth": 0,
             "ticks": ""
            },
            "colorscale": [
             [
              0,
              "#0d0887"
             ],
             [
              0.1111111111111111,
              "#46039f"
             ],
             [
              0.2222222222222222,
              "#7201a8"
             ],
             [
              0.3333333333333333,
              "#9c179e"
             ],
             [
              0.4444444444444444,
              "#bd3786"
             ],
             [
              0.5555555555555556,
              "#d8576b"
             ],
             [
              0.6666666666666666,
              "#ed7953"
             ],
             [
              0.7777777777777778,
              "#fb9f3a"
             ],
             [
              0.8888888888888888,
              "#fdca26"
             ],
             [
              1,
              "#f0f921"
             ]
            ],
            "type": "heatmapgl"
           }
          ],
          "histogram": [
           {
            "marker": {
             "pattern": {
              "fillmode": "overlay",
              "size": 10,
              "solidity": 0.2
             }
            },
            "type": "histogram"
           }
          ],
          "histogram2d": [
           {
            "colorbar": {
             "outlinewidth": 0,
             "ticks": ""
            },
            "colorscale": [
             [
              0,
              "#0d0887"
             ],
             [
              0.1111111111111111,
              "#46039f"
             ],
             [
              0.2222222222222222,
              "#7201a8"
             ],
             [
              0.3333333333333333,
              "#9c179e"
             ],
             [
              0.4444444444444444,
              "#bd3786"
             ],
             [
              0.5555555555555556,
              "#d8576b"
             ],
             [
              0.6666666666666666,
              "#ed7953"
             ],
             [
              0.7777777777777778,
              "#fb9f3a"
             ],
             [
              0.8888888888888888,
              "#fdca26"
             ],
             [
              1,
              "#f0f921"
             ]
            ],
            "type": "histogram2d"
           }
          ],
          "histogram2dcontour": [
           {
            "colorbar": {
             "outlinewidth": 0,
             "ticks": ""
            },
            "colorscale": [
             [
              0,
              "#0d0887"
             ],
             [
              0.1111111111111111,
              "#46039f"
             ],
             [
              0.2222222222222222,
              "#7201a8"
             ],
             [
              0.3333333333333333,
              "#9c179e"
             ],
             [
              0.4444444444444444,
              "#bd3786"
             ],
             [
              0.5555555555555556,
              "#d8576b"
             ],
             [
              0.6666666666666666,
              "#ed7953"
             ],
             [
              0.7777777777777778,
              "#fb9f3a"
             ],
             [
              0.8888888888888888,
              "#fdca26"
             ],
             [
              1,
              "#f0f921"
             ]
            ],
            "type": "histogram2dcontour"
           }
          ],
          "mesh3d": [
           {
            "colorbar": {
             "outlinewidth": 0,
             "ticks": ""
            },
            "type": "mesh3d"
           }
          ],
          "parcoords": [
           {
            "line": {
             "colorbar": {
              "outlinewidth": 0,
              "ticks": ""
             }
            },
            "type": "parcoords"
           }
          ],
          "pie": [
           {
            "automargin": true,
            "type": "pie"
           }
          ],
          "scatter": [
           {
            "marker": {
             "colorbar": {
              "outlinewidth": 0,
              "ticks": ""
             }
            },
            "type": "scatter"
           }
          ],
          "scatter3d": [
           {
            "line": {
             "colorbar": {
              "outlinewidth": 0,
              "ticks": ""
             }
            },
            "marker": {
             "colorbar": {
              "outlinewidth": 0,
              "ticks": ""
             }
            },
            "type": "scatter3d"
           }
          ],
          "scattercarpet": [
           {
            "marker": {
             "colorbar": {
              "outlinewidth": 0,
              "ticks": ""
             }
            },
            "type": "scattercarpet"
           }
          ],
          "scattergeo": [
           {
            "marker": {
             "colorbar": {
              "outlinewidth": 0,
              "ticks": ""
             }
            },
            "type": "scattergeo"
           }
          ],
          "scattergl": [
           {
            "marker": {
             "colorbar": {
              "outlinewidth": 0,
              "ticks": ""
             }
            },
            "type": "scattergl"
           }
          ],
          "scattermapbox": [
           {
            "marker": {
             "colorbar": {
              "outlinewidth": 0,
              "ticks": ""
             }
            },
            "type": "scattermapbox"
           }
          ],
          "scatterpolar": [
           {
            "marker": {
             "colorbar": {
              "outlinewidth": 0,
              "ticks": ""
             }
            },
            "type": "scatterpolar"
           }
          ],
          "scatterpolargl": [
           {
            "marker": {
             "colorbar": {
              "outlinewidth": 0,
              "ticks": ""
             }
            },
            "type": "scatterpolargl"
           }
          ],
          "scatterternary": [
           {
            "marker": {
             "colorbar": {
              "outlinewidth": 0,
              "ticks": ""
             }
            },
            "type": "scatterternary"
           }
          ],
          "surface": [
           {
            "colorbar": {
             "outlinewidth": 0,
             "ticks": ""
            },
            "colorscale": [
             [
              0,
              "#0d0887"
             ],
             [
              0.1111111111111111,
              "#46039f"
             ],
             [
              0.2222222222222222,
              "#7201a8"
             ],
             [
              0.3333333333333333,
              "#9c179e"
             ],
             [
              0.4444444444444444,
              "#bd3786"
             ],
             [
              0.5555555555555556,
              "#d8576b"
             ],
             [
              0.6666666666666666,
              "#ed7953"
             ],
             [
              0.7777777777777778,
              "#fb9f3a"
             ],
             [
              0.8888888888888888,
              "#fdca26"
             ],
             [
              1,
              "#f0f921"
             ]
            ],
            "type": "surface"
           }
          ],
          "table": [
           {
            "cells": {
             "fill": {
              "color": "#EBF0F8"
             },
             "line": {
              "color": "white"
             }
            },
            "header": {
             "fill": {
              "color": "#C8D4E3"
             },
             "line": {
              "color": "white"
             }
            },
            "type": "table"
           }
          ]
         },
         "layout": {
          "annotationdefaults": {
           "arrowcolor": "#2a3f5f",
           "arrowhead": 0,
           "arrowwidth": 1
          },
          "autotypenumbers": "strict",
          "coloraxis": {
           "colorbar": {
            "outlinewidth": 0,
            "ticks": ""
           }
          },
          "colorscale": {
           "diverging": [
            [
             0,
             "#8e0152"
            ],
            [
             0.1,
             "#c51b7d"
            ],
            [
             0.2,
             "#de77ae"
            ],
            [
             0.3,
             "#f1b6da"
            ],
            [
             0.4,
             "#fde0ef"
            ],
            [
             0.5,
             "#f7f7f7"
            ],
            [
             0.6,
             "#e6f5d0"
            ],
            [
             0.7,
             "#b8e186"
            ],
            [
             0.8,
             "#7fbc41"
            ],
            [
             0.9,
             "#4d9221"
            ],
            [
             1,
             "#276419"
            ]
           ],
           "sequential": [
            [
             0,
             "#0d0887"
            ],
            [
             0.1111111111111111,
             "#46039f"
            ],
            [
             0.2222222222222222,
             "#7201a8"
            ],
            [
             0.3333333333333333,
             "#9c179e"
            ],
            [
             0.4444444444444444,
             "#bd3786"
            ],
            [
             0.5555555555555556,
             "#d8576b"
            ],
            [
             0.6666666666666666,
             "#ed7953"
            ],
            [
             0.7777777777777778,
             "#fb9f3a"
            ],
            [
             0.8888888888888888,
             "#fdca26"
            ],
            [
             1,
             "#f0f921"
            ]
           ],
           "sequentialminus": [
            [
             0,
             "#0d0887"
            ],
            [
             0.1111111111111111,
             "#46039f"
            ],
            [
             0.2222222222222222,
             "#7201a8"
            ],
            [
             0.3333333333333333,
             "#9c179e"
            ],
            [
             0.4444444444444444,
             "#bd3786"
            ],
            [
             0.5555555555555556,
             "#d8576b"
            ],
            [
             0.6666666666666666,
             "#ed7953"
            ],
            [
             0.7777777777777778,
             "#fb9f3a"
            ],
            [
             0.8888888888888888,
             "#fdca26"
            ],
            [
             1,
             "#f0f921"
            ]
           ]
          },
          "colorway": [
           "#636efa",
           "#EF553B",
           "#00cc96",
           "#ab63fa",
           "#FFA15A",
           "#19d3f3",
           "#FF6692",
           "#B6E880",
           "#FF97FF",
           "#FECB52"
          ],
          "font": {
           "color": "#2a3f5f"
          },
          "geo": {
           "bgcolor": "white",
           "lakecolor": "white",
           "landcolor": "#E5ECF6",
           "showlakes": true,
           "showland": true,
           "subunitcolor": "white"
          },
          "hoverlabel": {
           "align": "left"
          },
          "hovermode": "closest",
          "mapbox": {
           "style": "light"
          },
          "paper_bgcolor": "white",
          "plot_bgcolor": "#E5ECF6",
          "polar": {
           "angularaxis": {
            "gridcolor": "white",
            "linecolor": "white",
            "ticks": ""
           },
           "bgcolor": "#E5ECF6",
           "radialaxis": {
            "gridcolor": "white",
            "linecolor": "white",
            "ticks": ""
           }
          },
          "scene": {
           "xaxis": {
            "backgroundcolor": "#E5ECF6",
            "gridcolor": "white",
            "gridwidth": 2,
            "linecolor": "white",
            "showbackground": true,
            "ticks": "",
            "zerolinecolor": "white"
           },
           "yaxis": {
            "backgroundcolor": "#E5ECF6",
            "gridcolor": "white",
            "gridwidth": 2,
            "linecolor": "white",
            "showbackground": true,
            "ticks": "",
            "zerolinecolor": "white"
           },
           "zaxis": {
            "backgroundcolor": "#E5ECF6",
            "gridcolor": "white",
            "gridwidth": 2,
            "linecolor": "white",
            "showbackground": true,
            "ticks": "",
            "zerolinecolor": "white"
           }
          },
          "shapedefaults": {
           "line": {
            "color": "#2a3f5f"
           }
          },
          "ternary": {
           "aaxis": {
            "gridcolor": "white",
            "linecolor": "white",
            "ticks": ""
           },
           "baxis": {
            "gridcolor": "white",
            "linecolor": "white",
            "ticks": ""
           },
           "bgcolor": "#E5ECF6",
           "caxis": {
            "gridcolor": "white",
            "linecolor": "white",
            "ticks": ""
           }
          },
          "title": {
           "x": 0.05
          },
          "xaxis": {
           "automargin": true,
           "gridcolor": "white",
           "linecolor": "white",
           "ticks": "",
           "title": {
            "standoff": 15
           },
           "zerolinecolor": "white",
           "zerolinewidth": 2
          },
          "yaxis": {
           "automargin": true,
           "gridcolor": "white",
           "linecolor": "white",
           "ticks": "",
           "title": {
            "standoff": 15
           },
           "zerolinecolor": "white",
           "zerolinewidth": 2
          }
         }
        }
       }
      },
      "text/html": [
       "<div>                            <div id=\"45fd38a0-a962-4a20-9b6a-f2edc1c72399\" class=\"plotly-graph-div\" style=\"height:525px; width:100%;\"></div>            <script type=\"text/javascript\">                require([\"plotly\"], function(Plotly) {                    window.PLOTLYENV=window.PLOTLYENV || {};                                    if (document.getElementById(\"45fd38a0-a962-4a20-9b6a-f2edc1c72399\")) {                    Plotly.newPlot(                        \"45fd38a0-a962-4a20-9b6a-f2edc1c72399\",                        [{\"name\":\"pre_rounded_results\",\"type\":\"bar\",\"x\":[\"2L, 70u\"],\"y\":[0.9408000111579895]},{\"name\":\"post_rounded_results\",\"type\":\"bar\",\"x\":[\"2L, 70u\"],\"y\":[0.9408000111579895]}],                        {\"barmode\":\"group\",\"template\":{\"data\":{\"bar\":[{\"error_x\":{\"color\":\"#2a3f5f\"},\"error_y\":{\"color\":\"#2a3f5f\"},\"marker\":{\"line\":{\"color\":\"#E5ECF6\",\"width\":0.5},\"pattern\":{\"fillmode\":\"overlay\",\"size\":10,\"solidity\":0.2}},\"type\":\"bar\"}],\"barpolar\":[{\"marker\":{\"line\":{\"color\":\"#E5ECF6\",\"width\":0.5},\"pattern\":{\"fillmode\":\"overlay\",\"size\":10,\"solidity\":0.2}},\"type\":\"barpolar\"}],\"carpet\":[{\"aaxis\":{\"endlinecolor\":\"#2a3f5f\",\"gridcolor\":\"white\",\"linecolor\":\"white\",\"minorgridcolor\":\"white\",\"startlinecolor\":\"#2a3f5f\"},\"baxis\":{\"endlinecolor\":\"#2a3f5f\",\"gridcolor\":\"white\",\"linecolor\":\"white\",\"minorgridcolor\":\"white\",\"startlinecolor\":\"#2a3f5f\"},\"type\":\"carpet\"}],\"choropleth\":[{\"colorbar\":{\"outlinewidth\":0,\"ticks\":\"\"},\"type\":\"choropleth\"}],\"contour\":[{\"colorbar\":{\"outlinewidth\":0,\"ticks\":\"\"},\"colorscale\":[[0.0,\"#0d0887\"],[0.1111111111111111,\"#46039f\"],[0.2222222222222222,\"#7201a8\"],[0.3333333333333333,\"#9c179e\"],[0.4444444444444444,\"#bd3786\"],[0.5555555555555556,\"#d8576b\"],[0.6666666666666666,\"#ed7953\"],[0.7777777777777778,\"#fb9f3a\"],[0.8888888888888888,\"#fdca26\"],[1.0,\"#f0f921\"]],\"type\":\"contour\"}],\"contourcarpet\":[{\"colorbar\":{\"outlinewidth\":0,\"ticks\":\"\"},\"type\":\"contourcarpet\"}],\"heatmap\":[{\"colorbar\":{\"outlinewidth\":0,\"ticks\":\"\"},\"colorscale\":[[0.0,\"#0d0887\"],[0.1111111111111111,\"#46039f\"],[0.2222222222222222,\"#7201a8\"],[0.3333333333333333,\"#9c179e\"],[0.4444444444444444,\"#bd3786\"],[0.5555555555555556,\"#d8576b\"],[0.6666666666666666,\"#ed7953\"],[0.7777777777777778,\"#fb9f3a\"],[0.8888888888888888,\"#fdca26\"],[1.0,\"#f0f921\"]],\"type\":\"heatmap\"}],\"heatmapgl\":[{\"colorbar\":{\"outlinewidth\":0,\"ticks\":\"\"},\"colorscale\":[[0.0,\"#0d0887\"],[0.1111111111111111,\"#46039f\"],[0.2222222222222222,\"#7201a8\"],[0.3333333333333333,\"#9c179e\"],[0.4444444444444444,\"#bd3786\"],[0.5555555555555556,\"#d8576b\"],[0.6666666666666666,\"#ed7953\"],[0.7777777777777778,\"#fb9f3a\"],[0.8888888888888888,\"#fdca26\"],[1.0,\"#f0f921\"]],\"type\":\"heatmapgl\"}],\"histogram\":[{\"marker\":{\"pattern\":{\"fillmode\":\"overlay\",\"size\":10,\"solidity\":0.2}},\"type\":\"histogram\"}],\"histogram2d\":[{\"colorbar\":{\"outlinewidth\":0,\"ticks\":\"\"},\"colorscale\":[[0.0,\"#0d0887\"],[0.1111111111111111,\"#46039f\"],[0.2222222222222222,\"#7201a8\"],[0.3333333333333333,\"#9c179e\"],[0.4444444444444444,\"#bd3786\"],[0.5555555555555556,\"#d8576b\"],[0.6666666666666666,\"#ed7953\"],[0.7777777777777778,\"#fb9f3a\"],[0.8888888888888888,\"#fdca26\"],[1.0,\"#f0f921\"]],\"type\":\"histogram2d\"}],\"histogram2dcontour\":[{\"colorbar\":{\"outlinewidth\":0,\"ticks\":\"\"},\"colorscale\":[[0.0,\"#0d0887\"],[0.1111111111111111,\"#46039f\"],[0.2222222222222222,\"#7201a8\"],[0.3333333333333333,\"#9c179e\"],[0.4444444444444444,\"#bd3786\"],[0.5555555555555556,\"#d8576b\"],[0.6666666666666666,\"#ed7953\"],[0.7777777777777778,\"#fb9f3a\"],[0.8888888888888888,\"#fdca26\"],[1.0,\"#f0f921\"]],\"type\":\"histogram2dcontour\"}],\"mesh3d\":[{\"colorbar\":{\"outlinewidth\":0,\"ticks\":\"\"},\"type\":\"mesh3d\"}],\"parcoords\":[{\"line\":{\"colorbar\":{\"outlinewidth\":0,\"ticks\":\"\"}},\"type\":\"parcoords\"}],\"pie\":[{\"automargin\":true,\"type\":\"pie\"}],\"scatter\":[{\"marker\":{\"colorbar\":{\"outlinewidth\":0,\"ticks\":\"\"}},\"type\":\"scatter\"}],\"scatter3d\":[{\"line\":{\"colorbar\":{\"outlinewidth\":0,\"ticks\":\"\"}},\"marker\":{\"colorbar\":{\"outlinewidth\":0,\"ticks\":\"\"}},\"type\":\"scatter3d\"}],\"scattercarpet\":[{\"marker\":{\"colorbar\":{\"outlinewidth\":0,\"ticks\":\"\"}},\"type\":\"scattercarpet\"}],\"scattergeo\":[{\"marker\":{\"colorbar\":{\"outlinewidth\":0,\"ticks\":\"\"}},\"type\":\"scattergeo\"}],\"scattergl\":[{\"marker\":{\"colorbar\":{\"outlinewidth\":0,\"ticks\":\"\"}},\"type\":\"scattergl\"}],\"scattermapbox\":[{\"marker\":{\"colorbar\":{\"outlinewidth\":0,\"ticks\":\"\"}},\"type\":\"scattermapbox\"}],\"scatterpolar\":[{\"marker\":{\"colorbar\":{\"outlinewidth\":0,\"ticks\":\"\"}},\"type\":\"scatterpolar\"}],\"scatterpolargl\":[{\"marker\":{\"colorbar\":{\"outlinewidth\":0,\"ticks\":\"\"}},\"type\":\"scatterpolargl\"}],\"scatterternary\":[{\"marker\":{\"colorbar\":{\"outlinewidth\":0,\"ticks\":\"\"}},\"type\":\"scatterternary\"}],\"surface\":[{\"colorbar\":{\"outlinewidth\":0,\"ticks\":\"\"},\"colorscale\":[[0.0,\"#0d0887\"],[0.1111111111111111,\"#46039f\"],[0.2222222222222222,\"#7201a8\"],[0.3333333333333333,\"#9c179e\"],[0.4444444444444444,\"#bd3786\"],[0.5555555555555556,\"#d8576b\"],[0.6666666666666666,\"#ed7953\"],[0.7777777777777778,\"#fb9f3a\"],[0.8888888888888888,\"#fdca26\"],[1.0,\"#f0f921\"]],\"type\":\"surface\"}],\"table\":[{\"cells\":{\"fill\":{\"color\":\"#EBF0F8\"},\"line\":{\"color\":\"white\"}},\"header\":{\"fill\":{\"color\":\"#C8D4E3\"},\"line\":{\"color\":\"white\"}},\"type\":\"table\"}]},\"layout\":{\"annotationdefaults\":{\"arrowcolor\":\"#2a3f5f\",\"arrowhead\":0,\"arrowwidth\":1},\"autotypenumbers\":\"strict\",\"coloraxis\":{\"colorbar\":{\"outlinewidth\":0,\"ticks\":\"\"}},\"colorscale\":{\"diverging\":[[0,\"#8e0152\"],[0.1,\"#c51b7d\"],[0.2,\"#de77ae\"],[0.3,\"#f1b6da\"],[0.4,\"#fde0ef\"],[0.5,\"#f7f7f7\"],[0.6,\"#e6f5d0\"],[0.7,\"#b8e186\"],[0.8,\"#7fbc41\"],[0.9,\"#4d9221\"],[1,\"#276419\"]],\"sequential\":[[0.0,\"#0d0887\"],[0.1111111111111111,\"#46039f\"],[0.2222222222222222,\"#7201a8\"],[0.3333333333333333,\"#9c179e\"],[0.4444444444444444,\"#bd3786\"],[0.5555555555555556,\"#d8576b\"],[0.6666666666666666,\"#ed7953\"],[0.7777777777777778,\"#fb9f3a\"],[0.8888888888888888,\"#fdca26\"],[1.0,\"#f0f921\"]],\"sequentialminus\":[[0.0,\"#0d0887\"],[0.1111111111111111,\"#46039f\"],[0.2222222222222222,\"#7201a8\"],[0.3333333333333333,\"#9c179e\"],[0.4444444444444444,\"#bd3786\"],[0.5555555555555556,\"#d8576b\"],[0.6666666666666666,\"#ed7953\"],[0.7777777777777778,\"#fb9f3a\"],[0.8888888888888888,\"#fdca26\"],[1.0,\"#f0f921\"]]},\"colorway\":[\"#636efa\",\"#EF553B\",\"#00cc96\",\"#ab63fa\",\"#FFA15A\",\"#19d3f3\",\"#FF6692\",\"#B6E880\",\"#FF97FF\",\"#FECB52\"],\"font\":{\"color\":\"#2a3f5f\"},\"geo\":{\"bgcolor\":\"white\",\"lakecolor\":\"white\",\"landcolor\":\"#E5ECF6\",\"showlakes\":true,\"showland\":true,\"subunitcolor\":\"white\"},\"hoverlabel\":{\"align\":\"left\"},\"hovermode\":\"closest\",\"mapbox\":{\"style\":\"light\"},\"paper_bgcolor\":\"white\",\"plot_bgcolor\":\"#E5ECF6\",\"polar\":{\"angularaxis\":{\"gridcolor\":\"white\",\"linecolor\":\"white\",\"ticks\":\"\"},\"bgcolor\":\"#E5ECF6\",\"radialaxis\":{\"gridcolor\":\"white\",\"linecolor\":\"white\",\"ticks\":\"\"}},\"scene\":{\"xaxis\":{\"backgroundcolor\":\"#E5ECF6\",\"gridcolor\":\"white\",\"gridwidth\":2,\"linecolor\":\"white\",\"showbackground\":true,\"ticks\":\"\",\"zerolinecolor\":\"white\"},\"yaxis\":{\"backgroundcolor\":\"#E5ECF6\",\"gridcolor\":\"white\",\"gridwidth\":2,\"linecolor\":\"white\",\"showbackground\":true,\"ticks\":\"\",\"zerolinecolor\":\"white\"},\"zaxis\":{\"backgroundcolor\":\"#E5ECF6\",\"gridcolor\":\"white\",\"gridwidth\":2,\"linecolor\":\"white\",\"showbackground\":true,\"ticks\":\"\",\"zerolinecolor\":\"white\"}},\"shapedefaults\":{\"line\":{\"color\":\"#2a3f5f\"}},\"ternary\":{\"aaxis\":{\"gridcolor\":\"white\",\"linecolor\":\"white\",\"ticks\":\"\"},\"baxis\":{\"gridcolor\":\"white\",\"linecolor\":\"white\",\"ticks\":\"\"},\"bgcolor\":\"#E5ECF6\",\"caxis\":{\"gridcolor\":\"white\",\"linecolor\":\"white\",\"ticks\":\"\"}},\"title\":{\"x\":0.05},\"xaxis\":{\"automargin\":true,\"gridcolor\":\"white\",\"linecolor\":\"white\",\"ticks\":\"\",\"title\":{\"standoff\":15},\"zerolinecolor\":\"white\",\"zerolinewidth\":2},\"yaxis\":{\"automargin\":true,\"gridcolor\":\"white\",\"linecolor\":\"white\",\"ticks\":\"\",\"title\":{\"standoff\":15},\"zerolinecolor\":\"white\",\"zerolinewidth\":2}}}},                        {\"responsive\": true}                    ).then(function(){\n",
       "                            \n",
       "var gd = document.getElementById('45fd38a0-a962-4a20-9b6a-f2edc1c72399');\n",
       "var x = new MutationObserver(function (mutations, observer) {{\n",
       "        var display = window.getComputedStyle(gd).display;\n",
       "        if (!display || display === 'none') {{\n",
       "            console.log([gd, 'removed!']);\n",
       "            Plotly.purge(gd);\n",
       "            observer.disconnect();\n",
       "        }}\n",
       "}});\n",
       "\n",
       "// Listen for the removal of the full notebook cells\n",
       "var notebookContainer = gd.closest('#notebook-container');\n",
       "if (notebookContainer) {{\n",
       "    x.observe(notebookContainer, {childList: true});\n",
       "}}\n",
       "\n",
       "// Listen for the clearing of the current output cell\n",
       "var outputEl = gd.closest('.output');\n",
       "if (outputEl) {{\n",
       "    x.observe(outputEl, {childList: true});\n",
       "}}\n",
       "\n",
       "                        })                };                });            </script>        </div>"
      ]
     },
     "metadata": {},
     "output_type": "display_data"
    }
   ],
   "source": [
    "x = []\n",
    "y = []\n",
    "z = []\n",
    "#Single model\n",
    "[x,y,z] = generate_pre_and_post(model=model,\n",
    "                                X_pca_test=X_pca_test,\n",
    "                                y_test=y_test, \n",
    "                                neurons=70, \n",
    "                                weight_rounding=1, \n",
    "                                image_rounding=0,\n",
    "                                no_of_layers=2,\n",
    "                                x=x, \n",
    "                                y=y, \n",
    "                                z=z)\n",
    "plot_accuracy_vs(x,y,z)"
   ]
  },
  {
   "cell_type": "markdown",
   "metadata": {
    "id": "EinUYtgJt0aw"
   },
   "source": [
    "## Multiple model head-to-head"
   ]
  },
  {
   "cell_type": "code",
   "execution_count": null,
   "metadata": {
    "scrolled": true
   },
   "outputs": [
    {
     "name": "stdout",
     "output_type": "stream",
     "text": [
      "64\n",
      "Epoch 1/30\n",
      "469/469 [==============================] - 1s 2ms/step - loss: 0.5039 - accuracy: 0.8572\n",
      "Epoch 2/30\n",
      "469/469 [==============================] - 1s 2ms/step - loss: 0.1731 - accuracy: 0.9484\n",
      "Epoch 3/30\n",
      "469/469 [==============================] - 1s 3ms/step - loss: 0.1265 - accuracy: 0.9624: 0s - loss: 0.1269 - accuracy: 0.96\n",
      "Epoch 4/30\n",
      "469/469 [==============================] - 1s 2ms/step - loss: 0.1012 - accuracy: 0.9703\n",
      "Epoch 5/30\n",
      "469/469 [==============================] - 2s 4ms/step - loss: 0.0847 - accuracy: 0.9744\n",
      "Epoch 6/30\n",
      "469/469 [==============================] - 2s 4ms/step - loss: 0.0729 - accuracy: 0.9784\n",
      "Epoch 7/30\n",
      "469/469 [==============================] - 2s 4ms/step - loss: 0.0636 - accuracy: 0.9809: 2s - loss: 0.064 - ETA: 1s - - ETA: 0s - loss: 0.0614 - \n",
      "Epoch 8/30\n",
      "469/469 [==============================] - 2s 5ms/step - loss: 0.0565 - accuracy: 0.9834\n",
      "Epoch 9/30\n",
      "469/469 [==============================] - 2s 5ms/step - loss: 0.0506 - accuracy: 0.9850\n",
      "Epoch 10/30\n",
      "469/469 [==============================] - 2s 4ms/step - loss: 0.0455 - accuracy: 0.9865\n",
      "Epoch 11/30\n",
      "469/469 [==============================] - 2s 4ms/step - loss: 0.0412 - accuracy: 0.9879: 0s - loss: 0.0405 - \n",
      "Epoch 12/30\n",
      "469/469 [==============================] - 2s 4ms/step - loss: 0.0370 - accuracy: 0.9889\n",
      "Epoch 13/30\n",
      "469/469 [==============================] - 2s 3ms/step - loss: 0.0336 - accuracy: 0.9905: 1s - loss: 0.024 - ETA\n",
      "Epoch 14/30\n",
      "469/469 [==============================] - 1s 3ms/step - loss: 0.0304 - accuracy: 0.9911: 0s - loss: 0.0292 - accuracy: 0. - ETA: 0s - loss: 0.0300 - accuracy: 0.99 - ETA: 0s - loss: 0.0303 - accuracy: 0.99\n",
      "Epoch 15/30\n",
      "469/469 [==============================] - 2s 3ms/step - loss: 0.0274 - accuracy: 0.9919\n",
      "Epoch 16/30\n",
      "469/469 [==============================] - 2s 5ms/step - loss: 0.0250 - accuracy: 0.9927\n",
      "Epoch 17/30\n",
      "469/469 [==============================] - 2s 5ms/step - loss: 0.0226 - accuracy: 0.9935\n",
      "Epoch 18/30\n",
      "469/469 [==============================] - ETA: 0s - loss: 0.0205 - accuracy: 0.99 - 2s 5ms/step - loss: 0.0205 - accuracy: 0.9942\n",
      "Epoch 19/30\n",
      "469/469 [==============================] - 2s 5ms/step - loss: 0.0186 - accuracy: 0.9948\n",
      "Epoch 20/30\n",
      "469/469 [==============================] - 2s 3ms/step - loss: 0.0169 - accuracy: 0.9952\n",
      "Epoch 21/30\n",
      "469/469 [==============================] - 2s 4ms/step - loss: 0.0149 - accuracy: 0.9963\n",
      "Epoch 22/30\n",
      "469/469 [==============================] - 2s 5ms/step - loss: 0.0138 - accuracy: 0.9963: 1s - ETA\n",
      "Epoch 23/30\n",
      "469/469 [==============================] - 2s 4ms/step - loss: 0.0128 - accuracy: 0.9965: 0s -\n",
      "Epoch 24/30\n",
      "469/469 [==============================] - ETA: 0s - loss: 0.0116 - accuracy: 0.9970 ETA: 0s - loss: 0 - 2s 4ms/step - loss: 0.0117 - accuracy: 0.9969\n",
      "Epoch 25/30\n",
      "469/469 [==============================] - 1s 3ms/step - loss: 0.0104 - accuracy: 0.9974\n",
      "Epoch 26/30\n",
      "469/469 [==============================] - 2s 4ms/step - loss: 0.0101 - accuracy: 0.9974\n",
      "Epoch 27/30\n",
      "469/469 [==============================] - 3s 6ms/step - loss: 0.0079 - accuracy: 0.9984\n",
      "Epoch 28/30\n",
      "469/469 [==============================] - 2s 5ms/step - loss: 0.0072 - accuracy: 0.9984\n",
      "Epoch 29/30\n",
      "469/469 [==============================] - 1s 3ms/step - loss: 0.0070 - accuracy: 0.9985\n",
      "Epoch 30/30\n",
      "469/469 [==============================] - 1s 3ms/step - loss: 0.0067 - accuracy: 0.9984\n",
      "Error of rounding weights to 1-decimal: 0.006099998950958252\n",
      "64\n",
      "Epoch 1/30\n",
      "469/469 [==============================] - 2s 2ms/step - loss: 0.4607 - accuracy: 0.8640\n",
      "Epoch 2/30\n",
      "469/469 [==============================] - 1s 2ms/step - loss: 0.1515 - accuracy: 0.9556: 0s - loss: 0.1596 - \n",
      "Epoch 3/30\n",
      "469/469 [==============================] - 1s 2ms/step - loss: 0.1115 - accuracy: 0.9668\n",
      "Epoch 4/30\n",
      "469/469 [==============================] - 1s 3ms/step - loss: 0.0889 - accuracy: 0.9730: 0s\n",
      "Epoch 5/30\n",
      "469/469 [==============================] - 1s 3ms/step - loss: 0.0745 - accuracy: 0.9770\n",
      "Epoch 6/30\n",
      "469/469 [==============================] - 1s 2ms/step - loss: 0.0631 - accuracy: 0.9804\n",
      "Epoch 7/30\n",
      "469/469 [==============================] - 1s 2ms/step - loss: 0.0545 - accuracy: 0.9828\n",
      "Epoch 8/30\n",
      "469/469 [==============================] - 2s 5ms/step - loss: 0.0482 - accuracy: 0.9850: 1s - loss: 0.0455 \n",
      "Epoch 9/30\n",
      "469/469 [==============================] - 2s 4ms/step - loss: 0.0418 - accuracy: 0.9864\n",
      "Epoch 10/30\n",
      "469/469 [==============================] - 2s 4ms/step - loss: 0.0374 - accuracy: 0.9880\n",
      "Epoch 11/30\n",
      "469/469 [==============================] - 1s 3ms/step - loss: 0.0337 - accuracy: 0.9890\n",
      "Epoch 12/30\n",
      "469/469 [==============================] - 1s 2ms/step - loss: 0.0296 - accuracy: 0.9906\n",
      "Epoch 13/30\n",
      "469/469 [==============================] - 1s 2ms/step - loss: 0.0281 - accuracy: 0.9907\n",
      "Epoch 14/30\n",
      "469/469 [==============================] - 1s 2ms/step - loss: 0.0248 - accuracy: 0.9919: 0s - loss: 0.0241 - accu\n",
      "Epoch 15/30\n",
      "469/469 [==============================] - 1s 2ms/step - loss: 0.0219 - accuracy: 0.9929\n",
      "Epoch 16/30\n",
      "469/469 [==============================] - 1s 2ms/step - loss: 0.0188 - accuracy: 0.9939\n",
      "Epoch 17/30\n",
      "469/469 [==============================] - 1s 2ms/step - loss: 0.0174 - accuracy: 0.9944: 0s - los\n",
      "Epoch 18/30\n",
      "469/469 [==============================] - 1s 2ms/step - loss: 0.0168 - accuracy: 0.9942\n",
      "Epoch 19/30\n",
      "469/469 [==============================] - 1s 2ms/step - loss: 0.0152 - accuracy: 0.9950\n",
      "Epoch 20/30\n",
      "469/469 [==============================] - 1s 2ms/step - loss: 0.0130 - accuracy: 0.9960\n",
      "Epoch 21/30\n",
      "469/469 [==============================] - 1s 2ms/step - loss: 0.0132 - accuracy: 0.9956\n",
      "Epoch 22/30\n",
      "469/469 [==============================] - 1s 2ms/step - loss: 0.0133 - accuracy: 0.9956\n",
      "Epoch 23/30\n",
      "469/469 [==============================] - 1s 2ms/step - loss: 0.0109 - accuracy: 0.9966\n",
      "Epoch 24/30\n",
      "469/469 [==============================] - 1s 2ms/step - loss: 0.0099 - accuracy: 0.9969\n",
      "Epoch 25/30\n",
      "469/469 [==============================] - 1s 2ms/step - loss: 0.0099 - accuracy: 0.9969\n",
      "Epoch 26/30\n",
      "469/469 [==============================] - 1s 2ms/step - loss: 0.0129 - accuracy: 0.9953\n",
      "Epoch 27/30\n",
      "469/469 [==============================] - 1s 2ms/step - loss: 0.0105 - accuracy: 0.9966\n",
      "Epoch 28/30\n",
      "469/469 [==============================] - 1s 2ms/step - loss: 0.0086 - accuracy: 0.9971\n",
      "Epoch 29/30\n",
      "469/469 [==============================] - 1s 2ms/step - loss: 0.0078 - accuracy: 0.9973\n",
      "Epoch 30/30\n",
      "469/469 [==============================] - 1s 2ms/step - loss: 0.0089 - accuracy: 0.9969\n",
      "Error of rounding weights to 1-decimal: 0.010699987411499023\n",
      "64\n",
      "Epoch 1/30\n",
      "469/469 [==============================] - 2s 3ms/step - loss: 0.4467 - accuracy: 0.8650\n",
      "Epoch 2/30\n",
      "469/469 [==============================] - 2s 5ms/step - loss: 0.1518 - accuracy: 0.9542\n",
      "Epoch 3/30\n",
      "469/469 [==============================] - 2s 4ms/step - loss: 0.1098 - accuracy: 0.9661\n",
      "Epoch 4/30\n",
      "469/469 [==============================] - 2s 3ms/step - loss: 0.0869 - accuracy: 0.9738\n",
      "Epoch 5/30\n",
      "469/469 [==============================] - 1s 3ms/step - loss: 0.0723 - accuracy: 0.9776\n",
      "Epoch 6/30\n",
      "469/469 [==============================] - 1s 3ms/step - loss: 0.0614 - accuracy: 0.9809\n",
      "Epoch 7/30\n",
      "469/469 [==============================] - 1s 2ms/step - loss: 0.0529 - accuracy: 0.9832\n",
      "Epoch 8/30\n",
      "469/469 [==============================] - 1s 3ms/step - loss: 0.0478 - accuracy: 0.9849: 0s - loss: 0.0457 - accu\n",
      "Epoch 9/30\n",
      "469/469 [==============================] - 1s 3ms/step - loss: 0.0412 - accuracy: 0.9866\n",
      "Epoch 10/30\n",
      "469/469 [==============================] - 1s 3ms/step - loss: 0.0365 - accuracy: 0.9882\n",
      "Epoch 11/30\n",
      "469/469 [==============================] - 1s 2ms/step - loss: 0.0343 - accuracy: 0.9888\n",
      "Epoch 12/30\n",
      "469/469 [==============================] - 1s 2ms/step - loss: 0.0295 - accuracy: 0.9908\n",
      "Epoch 13/30\n",
      "469/469 [==============================] - 1s 2ms/step - loss: 0.0255 - accuracy: 0.9917\n",
      "Epoch 14/30\n",
      "469/469 [==============================] - 1s 2ms/step - loss: 0.0252 - accuracy: 0.9917\n",
      "Epoch 15/30\n",
      "469/469 [==============================] - 1s 2ms/step - loss: 0.0220 - accuracy: 0.9930\n",
      "Epoch 16/30\n"
     ]
    },
    {
     "name": "stdout",
     "output_type": "stream",
     "text": [
      "469/469 [==============================] - 1s 3ms/step - loss: 0.0207 - accuracy: 0.9930\n",
      "Epoch 17/30\n",
      "469/469 [==============================] - 1s 2ms/step - loss: 0.0187 - accuracy: 0.9932\n",
      "Epoch 18/30\n",
      "469/469 [==============================] - 1s 2ms/step - loss: 0.0158 - accuracy: 0.9950\n",
      "Epoch 19/30\n",
      "469/469 [==============================] - 1s 2ms/step - loss: 0.0144 - accuracy: 0.9954\n",
      "Epoch 20/30\n",
      "469/469 [==============================] - 1s 2ms/step - loss: 0.0164 - accuracy: 0.9945\n",
      "Epoch 21/30\n",
      "469/469 [==============================] - 1s 2ms/step - loss: 0.0165 - accuracy: 0.9941\n",
      "Epoch 22/30\n",
      "469/469 [==============================] - 1s 2ms/step - loss: 0.0151 - accuracy: 0.9949\n",
      "Epoch 23/30\n",
      "469/469 [==============================] - 1s 2ms/step - loss: 0.0122 - accuracy: 0.9958\n",
      "Epoch 24/30\n",
      "469/469 [==============================] - 1s 2ms/step - loss: 0.0108 - accuracy: 0.9962\n",
      "Epoch 25/30\n",
      "469/469 [==============================] - 1s 2ms/step - loss: 0.0130 - accuracy: 0.9953\n",
      "Epoch 26/30\n",
      "469/469 [==============================] - 1s 2ms/step - loss: 0.0123 - accuracy: 0.9957\n",
      "Epoch 27/30\n",
      "469/469 [==============================] - 1s 2ms/step - loss: 0.0077 - accuracy: 0.9974\n",
      "Epoch 28/30\n",
      "469/469 [==============================] - 1s 2ms/step - loss: 0.0097 - accuracy: 0.9966\n",
      "Epoch 29/30\n",
      "469/469 [==============================] - 1s 3ms/step - loss: 0.0124 - accuracy: 0.9957\n",
      "Epoch 30/30\n",
      "469/469 [==============================] - 1s 2ms/step - loss: 0.0125 - accuracy: 0.9957\n",
      "Error of rounding weights to 1-decimal: 0.015299975872039795\n",
      "128\n",
      "Epoch 1/30\n",
      "469/469 [==============================] - 2s 3ms/step - loss: 0.3644 - accuracy: 0.8948\n",
      "Epoch 2/30\n",
      "469/469 [==============================] - 1s 3ms/step - loss: 0.1286 - accuracy: 0.9626\n",
      "Epoch 3/30\n",
      "469/469 [==============================] - 1s 3ms/step - loss: 0.0861 - accuracy: 0.9744\n",
      "Epoch 4/30\n",
      "469/469 [==============================] - 1s 2ms/step - loss: 0.0649 - accuracy: 0.9809\n",
      "Epoch 5/30\n",
      "469/469 [==============================] - 1s 2ms/step - loss: 0.0510 - accuracy: 0.9847\n",
      "Epoch 6/30\n",
      "469/469 [==============================] - 1s 2ms/step - loss: 0.0404 - accuracy: 0.9877\n",
      "Epoch 7/30\n",
      "469/469 [==============================] - 1s 2ms/step - loss: 0.0325 - accuracy: 0.9903\n",
      "Epoch 8/30\n",
      "469/469 [==============================] - 1s 2ms/step - loss: 0.0264 - accuracy: 0.9922\n",
      "Epoch 9/30\n",
      "469/469 [==============================] - 1s 2ms/step - loss: 0.0216 - accuracy: 0.9939\n",
      "Epoch 10/30\n",
      "469/469 [==============================] - 1s 2ms/step - loss: 0.0183 - accuracy: 0.9949\n",
      "Epoch 11/30\n",
      "469/469 [==============================] - 1s 2ms/step - loss: 0.0145 - accuracy: 0.9959: 0s - loss:\n",
      "Epoch 12/30\n",
      "469/469 [==============================] - 1s 2ms/step - loss: 0.0120 - accuracy: 0.9969\n",
      "Epoch 13/30\n",
      "469/469 [==============================] - 1s 2ms/step - loss: 0.0105 - accuracy: 0.9971\n",
      "Epoch 14/30\n",
      "469/469 [==============================] - 1s 2ms/step - loss: 0.0088 - accuracy: 0.9977\n",
      "Epoch 15/30\n",
      "469/469 [==============================] - 1s 2ms/step - loss: 0.0078 - accuracy: 0.9978\n",
      "Epoch 16/30\n",
      "469/469 [==============================] - 1s 2ms/step - loss: 0.0081 - accuracy: 0.9976\n",
      "Epoch 17/30\n",
      "469/469 [==============================] - 1s 2ms/step - loss: 0.0061 - accuracy: 0.9983\n",
      "Epoch 18/30\n",
      "469/469 [==============================] - 1s 3ms/step - loss: 0.0040 - accuracy: 0.9992: 0s - loss: 0.0037 - accu\n",
      "Epoch 19/30\n",
      "469/469 [==============================] - 1s 2ms/step - loss: 0.0085 - accuracy: 0.9972\n",
      "Epoch 20/30\n",
      "469/469 [==============================] - 1s 2ms/step - loss: 0.0064 - accuracy: 0.9978\n",
      "Epoch 21/30\n",
      "469/469 [==============================] - 2s 3ms/step - loss: 0.0064 - accuracy: 0.9981\n",
      "Epoch 22/30\n",
      "469/469 [==============================] - 1s 2ms/step - loss: 0.0040 - accuracy: 0.9989\n",
      "Epoch 23/30\n",
      "469/469 [==============================] - 1s 2ms/step - loss: 0.0021 - accuracy: 0.9996\n",
      "Epoch 24/30\n",
      "469/469 [==============================] - 1s 2ms/step - loss: 0.0019 - accuracy: 0.9996\n",
      "Epoch 25/30\n",
      "469/469 [==============================] - 1s 2ms/step - loss: 0.0046 - accuracy: 0.9986\n",
      "Epoch 26/30\n",
      "469/469 [==============================] - 1s 2ms/step - loss: 0.0088 - accuracy: 0.9970\n",
      "Epoch 27/30\n",
      "469/469 [==============================] - 1s 2ms/step - loss: 0.0041 - accuracy: 0.9986\n",
      "Epoch 28/30\n",
      "469/469 [==============================] - 1s 2ms/step - loss: 0.0014 - accuracy: 0.9998\n",
      "Epoch 29/30\n",
      "469/469 [==============================] - 1s 2ms/step - loss: 3.2290e-04 - accuracy: 1.0000\n",
      "Epoch 30/30\n",
      "469/469 [==============================] - 1s 2ms/step - loss: 1.9112e-04 - accuracy: 1.0000\n",
      "Error of rounding weights to 1-decimal: 0.006600022315979004\n",
      "128\n",
      "Epoch 1/30\n",
      "469/469 [==============================] - 2s 3ms/step - loss: 0.3119 - accuracy: 0.9111\n",
      "Epoch 2/30\n",
      "469/469 [==============================] - 1s 3ms/step - loss: 0.1100 - accuracy: 0.9672\n",
      "Epoch 3/30\n",
      "469/469 [==============================] - 1s 3ms/step - loss: 0.0737 - accuracy: 0.9774: 0s - loss: 0.0737 - accuracy\n",
      "Epoch 4/30\n",
      "469/469 [==============================] - 2s 3ms/step - loss: 0.0555 - accuracy: 0.9831: 0s - loss: 0.0\n",
      "Epoch 5/30\n",
      "469/469 [==============================] - 1s 3ms/step - loss: 0.0419 - accuracy: 0.9872\n",
      "Epoch 6/30\n",
      "469/469 [==============================] - 2s 4ms/step - loss: 0.0342 - accuracy: 0.9891\n",
      "Epoch 7/30\n",
      "469/469 [==============================] - 2s 4ms/step - loss: 0.0265 - accuracy: 0.9916\n",
      "Epoch 8/30\n",
      "469/469 [==============================] - 1s 3ms/step - loss: 0.0222 - accuracy: 0.9928: 0s - loss: 0.0203 - \n",
      "Epoch 9/30\n",
      "469/469 [==============================] - 2s 4ms/step - loss: 0.0184 - accuracy: 0.9940: \n",
      "Epoch 10/30\n",
      "469/469 [==============================] - 2s 3ms/step - loss: 0.0159 - accuracy: 0.9947\n",
      "Epoch 11/30\n",
      "469/469 [==============================] - 1s 3ms/step - loss: 0.0146 - accuracy: 0.9953\n",
      "Epoch 12/30\n",
      "469/469 [==============================] - 2s 3ms/step - loss: 0.0108 - accuracy: 0.9965\n",
      "Epoch 13/30\n",
      "469/469 [==============================] - 1s 3ms/step - loss: 0.0117 - accuracy: 0.9959\n",
      "Epoch 14/30\n",
      "469/469 [==============================] - 2s 3ms/step - loss: 0.0128 - accuracy: 0.9955: 0s - loss: 0.0129 - accuracy: \n",
      "Epoch 15/30\n",
      "469/469 [==============================] - 1s 3ms/step - loss: 0.0111 - accuracy: 0.9963: 0s - loss: 0.0109 - accuracy: 0.\n",
      "Epoch 16/30\n",
      "469/469 [==============================] - 1s 3ms/step - loss: 0.0074 - accuracy: 0.9975\n",
      "Epoch 17/30\n",
      "469/469 [==============================] - 2s 5ms/step - loss: 0.0097 - accuracy: 0.9968\n",
      "Epoch 18/30\n",
      "469/469 [==============================] - 2s 3ms/step - loss: 0.0062 - accuracy: 0.9979\n",
      "Epoch 19/30\n",
      "469/469 [==============================] - 2s 3ms/step - loss: 0.0101 - accuracy: 0.9967\n",
      "Epoch 20/30\n",
      "469/469 [==============================] - 1s 3ms/step - loss: 0.0086 - accuracy: 0.9968\n",
      "Epoch 21/30\n",
      "469/469 [==============================] - 2s 3ms/step - loss: 0.0089 - accuracy: 0.9970\n",
      "Epoch 22/30\n",
      "469/469 [==============================] - 2s 4ms/step - loss: 0.0067 - accuracy: 0.9976\n",
      "Epoch 23/30\n",
      "469/469 [==============================] - 2s 5ms/step - loss: 0.0063 - accuracy: 0.9978: 0s - loss: 0.0068 - ac\n",
      "Epoch 24/30\n",
      "469/469 [==============================] - 2s 4ms/step - loss: 0.0049 - accuracy: 0.9984: 0s - loss: 0.0050 - accuracy: \n",
      "Epoch 25/30\n",
      "469/469 [==============================] - 1s 3ms/step - loss: 0.0075 - accuracy: 0.9973\n",
      "Epoch 26/30\n",
      "469/469 [==============================] - 2s 4ms/step - loss: 0.0096 - accuracy: 0.9968\n",
      "Epoch 27/30\n",
      "469/469 [==============================] - 1s 3ms/step - loss: 0.0060 - accuracy: 0.9980\n",
      "Epoch 28/30\n",
      "469/469 [==============================] - 1s 3ms/step - loss: 0.0069 - accuracy: 0.9974\n",
      "Epoch 29/30\n",
      "469/469 [==============================] - 1s 3ms/step - loss: 0.0043 - accuracy: 0.9985\n",
      "Epoch 30/30\n",
      "469/469 [==============================] - 1s 3ms/step - loss: 0.0038 - accuracy: 0.9988\n",
      "Error of rounding weights to 1-decimal: 0.0073999762535095215\n",
      "128\n",
      "Epoch 1/30\n",
      "469/469 [==============================] - 2s 3ms/step - loss: 0.3133 - accuracy: 0.9069\n",
      "Epoch 2/30\n",
      "469/469 [==============================] - 2s 4ms/step - loss: 0.1050 - accuracy: 0.9687\n",
      "Epoch 3/30\n"
     ]
    },
    {
     "name": "stdout",
     "output_type": "stream",
     "text": [
      "469/469 [==============================] - 2s 5ms/step - loss: 0.0739 - accuracy: 0.9766\n",
      "Epoch 4/30\n",
      "469/469 [==============================] - 2s 4ms/step - loss: 0.0546 - accuracy: 0.9833\n",
      "Epoch 5/30\n",
      "469/469 [==============================] - 2s 4ms/step - loss: 0.0417 - accuracy: 0.9865\n",
      "Epoch 6/30\n",
      "469/469 [==============================] - 2s 4ms/step - loss: 0.0345 - accuracy: 0.9886\n",
      "Epoch 7/30\n",
      "469/469 [==============================] - 2s 4ms/step - loss: 0.0281 - accuracy: 0.9908\n",
      "Epoch 8/30\n",
      "469/469 [==============================] - 2s 5ms/step - loss: 0.0281 - accuracy: 0.9901\n",
      "Epoch 9/30\n",
      "469/469 [==============================] - 2s 5ms/step - loss: 0.0208 - accuracy: 0.9929\n",
      "Epoch 10/30\n",
      "469/469 [==============================] - 2s 4ms/step - loss: 0.0188 - accuracy: 0.9934\n",
      "Epoch 11/30\n",
      "469/469 [==============================] - 2s 5ms/step - loss: 0.0177 - accuracy: 0.9940\n",
      "Epoch 12/30\n",
      "469/469 [==============================] - 2s 4ms/step - loss: 0.0126 - accuracy: 0.9961\n",
      "Epoch 13/30\n",
      "469/469 [==============================] - 2s 3ms/step - loss: 0.0165 - accuracy: 0.9947: 0s - loss: 0.0160 - \n",
      "Epoch 14/30\n",
      "469/469 [==============================] - 1s 3ms/step - loss: 0.0132 - accuracy: 0.9954\n",
      "Epoch 15/30\n",
      "469/469 [==============================] - 1s 3ms/step - loss: 0.0160 - accuracy: 0.9946\n",
      "Epoch 16/30\n",
      "469/469 [==============================] - 1s 3ms/step - loss: 0.0101 - accuracy: 0.9968\n",
      "Epoch 17/30\n",
      "469/469 [==============================] - 2s 4ms/step - loss: 0.0098 - accuracy: 0.9968\n",
      "Epoch 18/30\n",
      "469/469 [==============================] - 2s 4ms/step - loss: 0.0122 - accuracy: 0.9959\n",
      "Epoch 19/30\n",
      "469/469 [==============================] - 2s 4ms/step - loss: 0.0120 - accuracy: 0.9960\n",
      "Epoch 20/30\n",
      "469/469 [==============================] - 2s 5ms/step - loss: 0.0083 - accuracy: 0.9973\n",
      "Epoch 21/30\n",
      "469/469 [==============================] - 3s 5ms/step - loss: 0.0091 - accuracy: 0.9971\n",
      "Epoch 22/30\n",
      "469/469 [==============================] - 2s 5ms/step - loss: 0.0132 - accuracy: 0.9957\n",
      "Epoch 23/30\n",
      "469/469 [==============================] - 2s 4ms/step - loss: 0.0063 - accuracy: 0.9979\n",
      "Epoch 24/30\n",
      "469/469 [==============================] - 2s 3ms/step - loss: 0.0077 - accuracy: 0.9979\n",
      "Epoch 25/30\n",
      "469/469 [==============================] - 2s 3ms/step - loss: 0.0133 - accuracy: 0.9957\n",
      "Epoch 26/30\n",
      "469/469 [==============================] - 2s 3ms/step - loss: 0.0070 - accuracy: 0.9977\n",
      "Epoch 27/30\n",
      "469/469 [==============================] - 2s 3ms/step - loss: 0.0084 - accuracy: 0.9974\n",
      "Epoch 28/30\n",
      "469/469 [==============================] - 1s 3ms/step - loss: 0.0069 - accuracy: 0.9976\n",
      "Epoch 29/30\n",
      "469/469 [==============================] - 2s 4ms/step - loss: 0.0065 - accuracy: 0.9980\n",
      "Epoch 30/30\n",
      "469/469 [==============================] - 1s 3ms/step - loss: 0.0103 - accuracy: 0.9969\n",
      "Error of rounding weights to 1-decimal: 0.009999990463256836\n",
      "256\n",
      "Epoch 1/30\n",
      "469/469 [==============================] - 3s 5ms/step - loss: 0.2698 - accuracy: 0.9244\n",
      "Epoch 2/30\n",
      "469/469 [==============================] - 2s 5ms/step - loss: 0.0926 - accuracy: 0.9723\n",
      "Epoch 3/30\n",
      "469/469 [==============================] - 2s 4ms/step - loss: 0.0598 - accuracy: 0.9821\n",
      "Epoch 4/30\n",
      "469/469 [==============================] - 2s 4ms/step - loss: 0.0423 - accuracy: 0.9871\n",
      "Epoch 5/30\n",
      "469/469 [==============================] - 2s 3ms/step - loss: 0.0298 - accuracy: 0.9908\n",
      "Epoch 6/30\n",
      "469/469 [==============================] - 2s 3ms/step - loss: 0.0226 - accuracy: 0.9927\n",
      "Epoch 7/30\n",
      "469/469 [==============================] - 2s 3ms/step - loss: 0.0181 - accuracy: 0.9944\n",
      "Epoch 8/30\n",
      "469/469 [==============================] - 2s 3ms/step - loss: 0.0129 - accuracy: 0.9963\n",
      "Epoch 9/30\n",
      "469/469 [==============================] - 2s 3ms/step - loss: 0.0116 - accuracy: 0.9965\n",
      "Epoch 10/30\n",
      "469/469 [==============================] - 1s 3ms/step - loss: 0.0099 - accuracy: 0.9970\n",
      "Epoch 11/30\n",
      "469/469 [==============================] - 2s 4ms/step - loss: 0.0079 - accuracy: 0.9978\n",
      "Epoch 12/30\n",
      "469/469 [==============================] - 2s 3ms/step - loss: 0.0079 - accuracy: 0.9973\n",
      "Epoch 13/30\n",
      "469/469 [==============================] - 2s 4ms/step - loss: 0.0123 - accuracy: 0.9959\n",
      "Epoch 14/30\n",
      "469/469 [==============================] - 2s 4ms/step - loss: 0.0075 - accuracy: 0.9974\n",
      "Epoch 15/30\n",
      "469/469 [==============================] - 2s 5ms/step - loss: 0.0036 - accuracy: 0.9989\n",
      "Epoch 16/30\n",
      "469/469 [==============================] - 2s 4ms/step - loss: 0.0062 - accuracy: 0.9979\n",
      "Epoch 17/30\n",
      "469/469 [==============================] - 2s 4ms/step - loss: 0.0098 - accuracy: 0.9967\n",
      "Epoch 18/30\n",
      "469/469 [==============================] - 2s 3ms/step - loss: 0.0080 - accuracy: 0.9973\n",
      "Epoch 19/30\n",
      "469/469 [==============================] - 2s 3ms/step - loss: 0.0041 - accuracy: 0.9986\n",
      "Epoch 20/30\n",
      "469/469 [==============================] - 1s 3ms/step - loss: 0.0026 - accuracy: 0.9993\n",
      "Epoch 21/30\n",
      "469/469 [==============================] - 1s 3ms/step - loss: 0.0065 - accuracy: 0.9978\n",
      "Epoch 22/30\n",
      "469/469 [==============================] - 2s 3ms/step - loss: 0.0074 - accuracy: 0.9973\n",
      "Epoch 23/30\n",
      "469/469 [==============================] - 1s 3ms/step - loss: 0.0040 - accuracy: 0.9987\n",
      "Epoch 24/30\n",
      "469/469 [==============================] - 2s 3ms/step - loss: 0.0016 - accuracy: 0.9996\n",
      "Epoch 25/30\n",
      "469/469 [==============================] - 2s 3ms/step - loss: 7.8544e-04 - accuracy: 0.9998\n",
      "Epoch 26/30\n",
      "469/469 [==============================] - 2s 3ms/step - loss: 0.0118 - accuracy: 0.9959\n",
      "Epoch 27/30\n",
      "469/469 [==============================] - 2s 4ms/step - loss: 0.0073 - accuracy: 0.9976\n",
      "Epoch 28/30\n",
      "469/469 [==============================] - 1s 3ms/step - loss: 0.0026 - accuracy: 0.9992\n",
      "Epoch 29/30\n",
      "469/469 [==============================] - 2s 3ms/step - loss: 0.0033 - accuracy: 0.9992: 0s - loss: 0.0034 - accuracy\n",
      "Epoch 30/30\n",
      "469/469 [==============================] - 2s 4ms/step - loss: 0.0014 - accuracy: 0.9996\n",
      "Error of rounding weights to 1-decimal: 0.009700000286102295\n",
      "256\n",
      "Epoch 1/30\n",
      "469/469 [==============================] - 3s 5ms/step - loss: 0.2423 - accuracy: 0.9292\n",
      "Epoch 2/30\n",
      "469/469 [==============================] - 2s 5ms/step - loss: 0.0816 - accuracy: 0.9750\n",
      "Epoch 3/30\n",
      "469/469 [==============================] - 2s 5ms/step - loss: 0.0525 - accuracy: 0.9835\n",
      "Epoch 4/30\n",
      "469/469 [==============================] - 2s 4ms/step - loss: 0.0381 - accuracy: 0.9879\n",
      "Epoch 5/30\n",
      "469/469 [==============================] - 2s 4ms/step - loss: 0.0275 - accuracy: 0.9914\n",
      "Epoch 6/30\n",
      "469/469 [==============================] - 2s 4ms/step - loss: 0.0243 - accuracy: 0.9920\n",
      "Epoch 7/30\n",
      "469/469 [==============================] - 2s 4ms/step - loss: 0.0185 - accuracy: 0.9938\n",
      "Epoch 8/30\n",
      "469/469 [==============================] - 2s 4ms/step - loss: 0.0136 - accuracy: 0.9954\n",
      "Epoch 9/30\n",
      "469/469 [==============================] - 2s 4ms/step - loss: 0.0145 - accuracy: 0.9952\n",
      "Epoch 10/30\n",
      "469/469 [==============================] - 2s 4ms/step - loss: 0.0139 - accuracy: 0.9954\n",
      "Epoch 11/30\n",
      "469/469 [==============================] - ETA: 0s - loss: 0.0113 - accuracy: 0.99 - 2s 4ms/step - loss: 0.0114 - accuracy: 0.9962\n",
      "Epoch 12/30\n",
      "469/469 [==============================] - 2s 4ms/step - loss: 0.0114 - accuracy: 0.9961\n",
      "Epoch 13/30\n",
      "469/469 [==============================] - 2s 4ms/step - loss: 0.0108 - accuracy: 0.9963\n",
      "Epoch 14/30\n",
      "469/469 [==============================] - 2s 5ms/step - loss: 0.0116 - accuracy: 0.9960\n",
      "Epoch 15/30\n",
      "469/469 [==============================] - 2s 5ms/step - loss: 0.0081 - accuracy: 0.9975\n",
      "Epoch 16/30\n",
      "469/469 [==============================] - 3s 6ms/step - loss: 0.0106 - accuracy: 0.9966\n",
      "Epoch 17/30\n",
      "469/469 [==============================] - 3s 6ms/step - loss: 0.0095 - accuracy: 0.9970: 0s -\n",
      "Epoch 18/30\n",
      "469/469 [==============================] - 3s 6ms/step - loss: 0.0064 - accuracy: 0.9979\n",
      "Epoch 19/30\n",
      "469/469 [==============================] - 3s 5ms/step - loss: 0.0064 - accuracy: 0.9981\n",
      "Epoch 20/30\n",
      "469/469 [==============================] - 3s 5ms/step - loss: 0.0077 - accuracy: 0.9974\n",
      "Epoch 21/30\n",
      "469/469 [==============================] - 3s 5ms/step - loss: 0.0114 - accuracy: 0.9968\n",
      "Epoch 22/30\n"
     ]
    },
    {
     "name": "stdout",
     "output_type": "stream",
     "text": [
      "469/469 [==============================] - 2s 5ms/step - loss: 0.0050 - accuracy: 0.9984\n",
      "Epoch 23/30\n",
      "469/469 [==============================] - 2s 5ms/step - loss: 0.0062 - accuracy: 0.9981: 1s - los - ETA: 0s - loss: 0.0066 - ac\n",
      "Epoch 24/30\n",
      "469/469 [==============================] - 2s 5ms/step - loss: 0.0041 - accuracy: 0.9985\n",
      "Epoch 25/30\n",
      "469/469 [==============================] - 2s 5ms/step - loss: 0.0078 - accuracy: 0.9977\n",
      "Epoch 26/30\n",
      "469/469 [==============================] - 2s 4ms/step - loss: 0.0107 - accuracy: 0.9966\n",
      "Epoch 27/30\n",
      "469/469 [==============================] - 2s 4ms/step - loss: 0.0043 - accuracy: 0.9987\n",
      "Epoch 28/30\n",
      "469/469 [==============================] - 2s 4ms/step - loss: 0.0052 - accuracy: 0.9983\n",
      "Epoch 29/30\n",
      "469/469 [==============================] - 2s 5ms/step - loss: 0.0049 - accuracy: 0.9984\n",
      "Epoch 30/30\n",
      "469/469 [==============================] - 3s 5ms/step - loss: 0.0073 - accuracy: 0.9979\n",
      "Error of rounding weights to 1-decimal: 0.004400014877319336\n",
      "256\n",
      "Epoch 1/30\n",
      "469/469 [==============================] - 3s 6ms/step - loss: 0.2339 - accuracy: 0.9298\n",
      "Epoch 2/30\n",
      "469/469 [==============================] - 3s 5ms/step - loss: 0.0823 - accuracy: 0.9742\n",
      "Epoch 3/30\n",
      "469/469 [==============================] - 3s 6ms/step - loss: 0.0546 - accuracy: 0.9826\n",
      "Epoch 4/30\n",
      "469/469 [==============================] - 3s 5ms/step - loss: 0.0380 - accuracy: 0.9881\n",
      "Epoch 5/30\n",
      "469/469 [==============================] - 3s 5ms/step - loss: 0.0320 - accuracy: 0.9894\n",
      "Epoch 6/30\n",
      "469/469 [==============================] - 3s 6ms/step - loss: 0.0266 - accuracy: 0.9909\n",
      "Epoch 7/30\n",
      "469/469 [==============================] - 3s 6ms/step - loss: 0.0213 - accuracy: 0.9930\n",
      "Epoch 8/30\n",
      "469/469 [==============================] - 3s 6ms/step - loss: 0.0219 - accuracy: 0.9930\n",
      "Epoch 9/30\n",
      "469/469 [==============================] - 3s 6ms/step - loss: 0.0162 - accuracy: 0.9944\n",
      "Epoch 10/30\n",
      "469/469 [==============================] - 3s 6ms/step - loss: 0.0167 - accuracy: 0.9947\n",
      "Epoch 11/30\n",
      "469/469 [==============================] - 3s 6ms/step - loss: 0.0126 - accuracy: 0.9961\n",
      "Epoch 12/30\n",
      "469/469 [==============================] - 3s 5ms/step - loss: 0.0140 - accuracy: 0.9957\n",
      "Epoch 13/30\n",
      "469/469 [==============================] - 3s 6ms/step - loss: 0.0157 - accuracy: 0.9951\n",
      "Epoch 14/30\n",
      "469/469 [==============================] - 3s 5ms/step - loss: 0.0087 - accuracy: 0.9969\n",
      "Epoch 15/30\n",
      "469/469 [==============================] - 3s 6ms/step - loss: 0.0156 - accuracy: 0.9952\n",
      "Epoch 16/30\n",
      "469/469 [==============================] - 3s 6ms/step - loss: 0.0102 - accuracy: 0.9968\n",
      "Epoch 17/30\n",
      "469/469 [==============================] - 3s 6ms/step - loss: 0.0077 - accuracy: 0.9974: 0s - loss: 0.0071 \n",
      "Epoch 18/30\n",
      "469/469 [==============================] - 3s 6ms/step - loss: 0.0115 - accuracy: 0.9964\n",
      "Epoch 19/30\n",
      "469/469 [==============================] - 3s 5ms/step - loss: 0.0087 - accuracy: 0.9974\n",
      "Epoch 20/30\n",
      "469/469 [==============================] - 3s 5ms/step - loss: 0.0098 - accuracy: 0.9971\n",
      "Epoch 21/30\n",
      "469/469 [==============================] - 3s 6ms/step - loss: 0.0092 - accuracy: 0.9970\n",
      "Epoch 22/30\n",
      "469/469 [==============================] - 3s 6ms/step - loss: 0.0098 - accuracy: 0.9971\n",
      "Epoch 23/30\n",
      "469/469 [==============================] - 3s 5ms/step - loss: 0.0091 - accuracy: 0.9973\n",
      "Epoch 24/30\n",
      "469/469 [==============================] - 3s 6ms/step - loss: 0.0063 - accuracy: 0.9984\n",
      "Epoch 25/30\n",
      "469/469 [==============================] - 3s 6ms/step - loss: 0.0058 - accuracy: 0.9982\n",
      "Epoch 26/30\n",
      "469/469 [==============================] - 3s 5ms/step - loss: 0.0087 - accuracy: 0.9973\n",
      "Epoch 27/30\n",
      "469/469 [==============================] - 3s 6ms/step - loss: 0.0084 - accuracy: 0.9976\n",
      "Epoch 28/30\n",
      "469/469 [==============================] - 3s 7ms/step - loss: 0.0055 - accuracy: 0.9981\n",
      "Epoch 29/30\n",
      "469/469 [==============================] - 3s 6ms/step - loss: 0.0093 - accuracy: 0.9973\n",
      "Epoch 30/30\n",
      "469/469 [==============================] - 3s 5ms/step - loss: 0.0027 - accuracy: 0.9992\n",
      "Error of rounding weights to 1-decimal: 0.0034000277519226074\n",
      "512\n",
      "Epoch 1/30\n",
      "469/469 [==============================] - 5s 8ms/step - loss: 0.2103 - accuracy: 0.9402\n",
      "Epoch 2/30\n",
      "469/469 [==============================] - 4s 9ms/step - loss: 0.0725 - accuracy: 0.9777\n",
      "Epoch 3/30\n",
      "469/469 [==============================] - 4s 8ms/step - loss: 0.0466 - accuracy: 0.9859\n",
      "Epoch 4/30\n",
      "469/469 [==============================] - 4s 8ms/step - loss: 0.0295 - accuracy: 0.9910\n",
      "Epoch 5/30\n",
      "469/469 [==============================] - 4s 8ms/step - loss: 0.0218 - accuracy: 0.9931\n",
      "Epoch 6/30\n",
      "469/469 [==============================] - 4s 8ms/step - loss: 0.0192 - accuracy: 0.9939\n",
      "Epoch 7/30\n",
      "469/469 [==============================] - 4s 8ms/step - loss: 0.0152 - accuracy: 0.9949\n",
      "Epoch 8/30\n",
      "469/469 [==============================] - 4s 8ms/step - loss: 0.0138 - accuracy: 0.9955\n",
      "Epoch 9/30\n",
      "469/469 [==============================] - 4s 8ms/step - loss: 0.0122 - accuracy: 0.9958\n",
      "Epoch 10/30\n",
      "469/469 [==============================] - 4s 8ms/step - loss: 0.0110 - accuracy: 0.9963\n",
      "Epoch 11/30\n",
      "469/469 [==============================] - 4s 8ms/step - loss: 0.0085 - accuracy: 0.9972\n",
      "Epoch 12/30\n",
      "469/469 [==============================] - 4s 8ms/step - loss: 0.0095 - accuracy: 0.9965\n",
      "Epoch 13/30\n",
      "469/469 [==============================] - 4s 8ms/step - loss: 0.0082 - accuracy: 0.9973\n",
      "Epoch 14/30\n",
      "469/469 [==============================] - 4s 8ms/step - loss: 0.0109 - accuracy: 0.9966\n",
      "Epoch 15/30\n",
      "469/469 [==============================] - 4s 8ms/step - loss: 0.0096 - accuracy: 0.9965\n",
      "Epoch 16/30\n",
      "469/469 [==============================] - 4s 9ms/step - loss: 0.0073 - accuracy: 0.9978\n",
      "Epoch 17/30\n",
      "469/469 [==============================] - 5s 11ms/step - loss: 0.0039 - accuracy: 0.9988\n",
      "Epoch 18/30\n",
      "469/469 [==============================] - 6s 13ms/step - loss: 0.0062 - accuracy: 0.9979\n",
      "Epoch 19/30\n",
      "469/469 [==============================] - 5s 11ms/step - loss: 0.0110 - accuracy: 0.9968\n",
      "Epoch 20/30\n",
      "469/469 [==============================] - 6s 12ms/step - loss: 0.0067 - accuracy: 0.9978\n",
      "Epoch 21/30\n",
      "469/469 [==============================] - 8s 17ms/step - loss: 0.0016 - accuracy: 0.9995\n",
      "Epoch 22/30\n",
      "469/469 [==============================] - 4s 9ms/step - loss: 0.0048 - accuracy: 0.9985\n",
      "Epoch 23/30\n",
      "469/469 [==============================] - 4s 8ms/step - loss: 0.0114 - accuracy: 0.9963\n",
      "Epoch 24/30\n",
      "469/469 [==============================] - 4s 8ms/step - loss: 0.0036 - accuracy: 0.9988\n",
      "Epoch 25/30\n",
      "469/469 [==============================] - 6s 12ms/step - loss: 0.0053 - accuracy: 0.9983\n",
      "Epoch 26/30\n",
      "469/469 [==============================] - 5s 11ms/step - loss: 0.0059 - accuracy: 0.9982\n",
      "Epoch 27/30\n",
      "469/469 [==============================] - 4s 9ms/step - loss: 0.0067 - accuracy: 0.9984\n",
      "Epoch 28/30\n",
      "469/469 [==============================] - 4s 9ms/step - loss: 0.0032 - accuracy: 0.9992\n",
      "Epoch 29/30\n",
      "469/469 [==============================] - 4s 9ms/step - loss: 0.0028 - accuracy: 0.9993\n",
      "Epoch 30/30\n",
      "469/469 [==============================] - 4s 8ms/step - loss: 0.0081 - accuracy: 0.9980\n",
      "Error of rounding weights to 1-decimal: 0.002499997615814209\n",
      "512\n",
      "Epoch 1/30\n",
      "469/469 [==============================] - 8s 15ms/step - loss: 0.1936 - accuracy: 0.9430\n",
      "Epoch 2/30\n",
      "469/469 [==============================] - 10s 22ms/step - loss: 0.0711 - accuracy: 0.9775\n",
      "Epoch 3/30\n",
      "469/469 [==============================] - 11s 23ms/step - loss: 0.0453 - accuracy: 0.9857\n",
      "Epoch 4/30\n",
      "469/469 [==============================] - 10s 22ms/step - loss: 0.0327 - accuracy: 0.9896\n",
      "Epoch 5/30\n",
      "469/469 [==============================] - 11s 23ms/step - loss: 0.0259 - accuracy: 0.9916\n",
      "Epoch 6/30\n",
      "469/469 [==============================] - 10s 21ms/step - loss: 0.0240 - accuracy: 0.9920\n",
      "Epoch 7/30\n",
      "469/469 [==============================] - 8s 17ms/step - loss: 0.0177 - accuracy: 0.9943\n",
      "Epoch 8/30\n",
      "469/469 [==============================] - 7s 15ms/step - loss: 0.0158 - accuracy: 0.9947\n",
      "Epoch 9/30\n",
      "469/469 [==============================] - 7s 16ms/step - loss: 0.0189 - accuracy: 0.9939\n",
      "Epoch 10/30\n"
     ]
    },
    {
     "name": "stdout",
     "output_type": "stream",
     "text": [
      "469/469 [==============================] - 9s 18ms/step - loss: 0.0102 - accuracy: 0.9968\n",
      "Epoch 11/30\n",
      "469/469 [==============================] - 9s 20ms/step - loss: 0.0127 - accuracy: 0.9963\n",
      "Epoch 12/30\n",
      "469/469 [==============================] - 9s 20ms/step - loss: 0.0128 - accuracy: 0.9961\n",
      "Epoch 13/30\n",
      "469/469 [==============================] - 9s 19ms/step - loss: 0.0104 - accuracy: 0.9966\n",
      "Epoch 14/30\n",
      "469/469 [==============================] - 7s 16ms/step - loss: 0.0134 - accuracy: 0.9962\n",
      "Epoch 15/30\n",
      "469/469 [==============================] - 9s 18ms/step - loss: 0.0089 - accuracy: 0.9972\n",
      "Epoch 16/30\n",
      "469/469 [==============================] - 8s 16ms/step - loss: 0.0128 - accuracy: 0.9958\n",
      "Epoch 17/30\n",
      "469/469 [==============================] - 8s 17ms/step - loss: 0.0065 - accuracy: 0.9981\n",
      "Epoch 18/30\n",
      "469/469 [==============================] - 7s 16ms/step - loss: 0.0107 - accuracy: 0.9969\n",
      "Epoch 19/30\n",
      "469/469 [==============================] - 7s 16ms/step - loss: 0.0058 - accuracy: 0.9982\n",
      "Epoch 20/30\n",
      "469/469 [==============================] - 7s 15ms/step - loss: 0.0092 - accuracy: 0.9972\n",
      "Epoch 21/30\n",
      "469/469 [==============================] - 8s 17ms/step - loss: 0.0092 - accuracy: 0.9972 1s\n",
      "Epoch 22/30\n",
      "469/469 [==============================] - 7s 16ms/step - loss: 0.0063 - accuracy: 0.9981\n",
      "Epoch 23/30\n",
      "469/469 [==============================] - 7s 14ms/step - loss: 0.0090 - accuracy: 0.9977\n",
      "Epoch 24/30\n",
      "469/469 [==============================] - 6s 14ms/step - loss: 0.0068 - accuracy: 0.9982\n",
      "Epoch 25/30\n",
      "469/469 [==============================] - 7s 14ms/step - loss: 0.0059 - accuracy: 0.9984\n",
      "Epoch 26/30\n",
      "469/469 [==============================] - 7s 15ms/step - loss: 0.0076 - accuracy: 0.9978\n",
      "Epoch 27/30\n",
      "469/469 [==============================] - 7s 14ms/step - loss: 0.0070 - accuracy: 0.9980\n",
      "Epoch 28/30\n",
      "469/469 [==============================] - 7s 14ms/step - loss: 0.0063 - accuracy: 0.9980\n",
      "Epoch 29/30\n",
      " 63/469 [===>..........................] - ETA: 5s - loss: 0.0087 - accuracy: 0.9980"
     ]
    }
   ],
   "source": [
    "batch_size = 128\n",
    "epochs = 30\n",
    "units = [64,128,256,512]#[10,20,30,40,50,60,70,80,90,100,110,120,130,140,150,160,170,180,190,200,210,220,230,240,250,260,270,280,290,300]\n",
    "no_of_layers = [2,3,4]\n",
    "weight_rounding=1\n",
    "image_rounding=0\n",
    "x = []\n",
    "y = []\n",
    "z = []\n",
    "#Multi model setup\n",
    "for i in units:\n",
    "    for number_of_layers in no_of_layers:\n",
    "        print(i)\n",
    "        model = fit_and_evaluate_model(X_pca_train=X_pca_train, \n",
    "                                       y_train=y_train, \n",
    "                                       batch_size=batch_size, \n",
    "                                       epochs=epochs, \n",
    "                                       neurons=i,\n",
    "                                       num_classes=num_classes,\n",
    "                                       no_of_layers=number_of_layers)\n",
    "        [x,y,z] = generate_pre_and_post(model= model,\n",
    "                                        X_pca_test= X_pca_test,\n",
    "                                        y_test=y_test, \n",
    "                                        neurons=i, \n",
    "                                        weight_rounding=weight_rounding, \n",
    "                                        image_rounding=image_rounding,\n",
    "                                        no_of_layers=number_of_layers,\n",
    "                                        x=x, \n",
    "                                        y=y, \n",
    "                                        z=z)\n",
    "plot_accuracy_vs(x,y,z)\n"
   ]
  },
  {
   "cell_type": "code",
   "execution_count": 176,
   "metadata": {
    "scrolled": true
   },
   "outputs": [
    {
     "data": {
      "text/plain": [
       "18      0.543404\n",
       "250     0.557002\n",
       "270     0.571735\n",
       "273     0.538938\n",
       "314     0.514792\n",
       "          ...   \n",
       "8944    0.592173\n",
       "9286    0.574124\n",
       "9610    0.542406\n",
       "9677    0.501449\n",
       "9851    0.576398\n",
       "Length: 127, dtype: float32"
      ]
     },
     "execution_count": 176,
     "metadata": {},
     "output_type": "execute_result"
    }
   ],
   "source": [
    "#Architecture documentation\n",
    "#plot_accuracy_vs(x,y,z)\n",
    "df = pd.DataFrame(a)\n",
    "df[(df.max(axis=1) > 0.4) & (df.max(axis=1) < 0.6)].max(axis=1)"
   ]
  },
  {
   "cell_type": "code",
   "execution_count": null,
   "metadata": {},
   "outputs": [],
   "source": [
    "x = [\"2l,128u\", \"3l,128u\", \"2l,256u\", \"3l,256u\", \"2l,512u\", \"3l,512u\"]\n",
    "y = [0.9617000222206116, 0.9593999981880188, 0.9624000191688538, 0.9639000296592712, 0.9681000113487244, 0.96670001745224]\n",
    "z = [0.9556000232696533, 0.954200029373169, 0.9595000147819519, 0.9596999883651733, 0.9621000289916992, 0.9645000100135803]"
   ]
  },
  {
   "cell_type": "code",
   "execution_count": 283,
   "metadata": {},
   "outputs": [
    {
     "name": "stdout",
     "output_type": "stream",
     "text": [
      "img no: 3601\n"
     ]
    },
    {
     "data": {
      "image/png": "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\n",
      "text/plain": [
       "<Figure size 432x288 with 1 Axes>"
      ]
     },
     "metadata": {
      "needs_background": "light"
     },
     "output_type": "display_data"
    },
    {
     "name": "stdout",
     "output_type": "stream",
     "text": [
      "[0. 1. 0. 0. 0. 0. 0. 0. 0. 0.]\n",
      "certancy of class 0: 0.0000000\n",
      "certancy of class 1: 0.0005991\n",
      "certancy of class 2: 0.0000026\n",
      "certancy of class 3: 0.0000005\n",
      "certancy of class 4: 0.0186668\n",
      "certancy of class 5: 0.0015216\n",
      "certancy of class 6: 0.9792093\n",
      "certancy of class 7: 0.0000000\n",
      "certancy of class 8: 0.0000000\n",
      "certancy of class 9: 0.0000000\n"
     ]
    },
    {
     "data": {
      "text/plain": [
       "array([-3,  0,  1,  1,  0, -2,  1, -1, -1,  1,  1,  1,  1,  0,  0,  0,  0,\n",
       "        0,  0, -1, -1,  0,  0,  0,  1, -1, -1, -1, -1,  0, -1,  0, -1,  0,\n",
       "        0,  0, -1,  0,  0,  0, -1,  0,  0,  0,  0,  0,  0, -1,  0,  0,  0,\n",
       "        0, -1,  0,  0,  0,  0,  0,  0,  0,  0,  0,  0,  0,  1,  0,  0,  0,\n",
       "        0,  0,  0,  0,  0,  0,  0,  1,  0,  0,  0,  0])"
      ]
     },
     "execution_count": 283,
     "metadata": {},
     "output_type": "execute_result"
    }
   ],
   "source": [
    "#Direct evaluation\n",
    "import random\n",
    "current_image =random.randint(0, len(x_test))\n",
    "print(\"img no: {}\".format(current_image))\n",
    "plt.imshow(x_test[current_image].reshape(28,28))\n",
    "plt.show()\n",
    "print(y_test[current_image])\n",
    "input_image = (X_pca_test[current_image]).round(0).astype(int)\n",
    "keras_preds = model.predict(X_pca_test.round(0))\n",
    "n=0\n",
    "for i in keras_preds[current_image]:\n",
    "    print(\"certancy of class {}: {:,.7f}\".format(n, i))\n",
    "    n+=1\n",
    "input_image"
   ]
  },
  {
   "cell_type": "code",
   "execution_count": 284,
   "metadata": {},
   "outputs": [
    {
     "name": "stdout",
     "output_type": "stream",
     "text": [
      "0      5668\n",
      "1   -121146\n",
      "2     66010\n",
      "3     39927\n",
      "4     50530\n",
      "5       131\n",
      "6   -139012\n",
      "7   -144189\n",
      "8    -61281\n",
      "9     28413\n",
      "dtype: int32\n",
      "Certancy of class 0: 0.0000000\n",
      "Certancy of class 1: 0.0000000\n",
      "Certancy of class 2: 0.9999998\n",
      "Certancy of class 3: 0.0000000\n",
      "Certancy of class 4: 0.0000002\n",
      "Certancy of class 5: 0.0000000\n",
      "Certancy of class 6: 0.0000000\n",
      "Certancy of class 7: 0.0000000\n",
      "Certancy of class 8: 0.0000000\n",
      "Certancy of class 9: 0.0000000\n"
     ]
    }
   ],
   "source": [
    "from math import exp\n",
    "\n",
    "def execute_relu(neuron_vector: list) -> pd.Series:\n",
    "    n = pd.Series(neuron_vector)\n",
    "    n[n < 0] = 0\n",
    "    return n\n",
    "\n",
    "def execute_layer(Weight_matrix: pd.DataFrame, input_neurons: pd.Series) -> pd.Series:\n",
    "    q=[]\n",
    "    for i in range(Weight_matrix.shape[1]):\n",
    "        q.append(sum(Weight_matrix[i]*input_neurons))\n",
    "    return execute_relu(pd.Series(q).append(pd.Series(1)).reset_index(drop=True)) #Added the one for the next bias\n",
    "\n",
    "def execute_output(Weight_matrix: pd.DataFrame, input_neurons: pd.Series) -> pd.Series:\n",
    "    q=[]\n",
    "    for i in range(Weight_matrix.shape[1]):\n",
    "        q.append(sum(Weight_matrix[i]*input_neurons))\n",
    "    return pd.Series(q) #Added the one for the next bias\n",
    "\n",
    "\n",
    "def execute_softmax(just_before_output: pd.Series) -> None:\n",
    "    exps= []\n",
    "    for i in just_before_output:\n",
    "        exps.append(exp(i))\n",
    "    q = pd.Series(exps)\n",
    "    p0 = q[0] / q.sum()\n",
    "    p1 = q[1] / q.sum()\n",
    "    p2 = q[2] / q.sum()\n",
    "    p3 = q[3] / q.sum()\n",
    "    p4 = q[4] / q.sum()\n",
    "    p5 = q[5] / q.sum()\n",
    "    p6 = q[6] / q.sum()\n",
    "    p7 = q[7] / q.sum()\n",
    "    p8 = q[8] / q.sum()\n",
    "    p9 = q[9] / q.sum()\n",
    "    total =[p0,p1,p2,p3,p4,p5,p6,p7,p8,p9]\n",
    "    n = 0\n",
    "    for i in total:\n",
    "        print(\"Certancy of class {}: {:,.7f}\".format(n, i))\n",
    "        n+=1\n",
    "\n",
    "input_img = pd.Series(X_pca_test.round(0)[current_image]).append(pd.Series(1)).reset_index(drop=True)\n",
    "W1 = pd.DataFrame(model.layers[0].get_weights()[0]).append(pd.DataFrame(model.layers[0].get_weights()[1]).T).reset_index(drop=True)*10\n",
    "W2 = pd.DataFrame(model.layers[1].get_weights()[0]).append(pd.DataFrame(model.layers[1].get_weights()[1]).T).reset_index(drop=True)*10\n",
    "W2.loc[70] = W2.loc[70]*10\n",
    "W3 = pd.DataFrame(model.layers[2].get_weights()[0]).append(pd.DataFrame(model.layers[2].get_weights()[1]).T).reset_index(drop=True)*10\n",
    "W3.loc[70] = W3.loc[70]*100\n",
    "neurons_h1 = execute_layer(W1, input_img).astype(int)\n",
    "neurons_h2 = execute_layer(W2, neurons_h1).astype(int)\n",
    "output = execute_output(W3, neurons_h2).astype(int)\n",
    "print(output)\n",
    "execute_softmax(output/1000)\n"
   ]
  },
  {
   "cell_type": "code",
   "execution_count": 239,
   "metadata": {},
   "outputs": [
    {
     "name": "stdout",
     "output_type": "stream",
     "text": [
      "0.0% done\n",
      "1.0% done\n",
      "2.0% done\n",
      "3.0% done\n",
      "4.0% done\n",
      "5.0% done\n",
      "6.0% done\n",
      "7.0% done\n",
      "8.0% done\n",
      "9.0% done\n",
      "10.0% done\n",
      "11.0% done\n",
      "12.0% done\n",
      "13.0% done\n",
      "14.0% done\n",
      "15.0% done\n",
      "16.0% done\n",
      "17.0% done\n",
      "18.0% done\n",
      "19.0% done\n",
      "20.0% done\n",
      "21.0% done\n",
      "22.0% done\n",
      "23.0% done\n",
      "24.0% done\n",
      "25.0% done\n",
      "26.0% done\n",
      "27.0% done\n",
      "28.0% done\n",
      "29.0% done\n",
      "30.0% done\n",
      "31.0% done\n",
      "32.0% done\n",
      "33.0% done\n",
      "34.0% done\n",
      "35.0% done\n",
      "36.0% done\n",
      "37.0% done\n",
      "38.0% done\n",
      "39.0% done\n",
      "40.0% done\n",
      "41.0% done\n",
      "42.0% done\n",
      "43.0% done\n",
      "44.0% done\n",
      "45.0% done\n",
      "46.0% done\n",
      "47.0% done\n",
      "48.0% done\n",
      "49.0% done\n",
      "50.0% done\n",
      "51.0% done\n",
      "52.0% done\n",
      "53.0% done\n",
      "54.0% done\n",
      "55.0% done\n",
      "56.0% done\n",
      "57.0% done\n",
      "58.0% done\n",
      "59.0% done\n",
      "60.0% done\n",
      "61.0% done\n",
      "62.0% done\n",
      "63.0% done\n",
      "64.0% done\n",
      "65.0% done\n",
      "66.0% done\n",
      "67.0% done\n",
      "68.0% done\n",
      "69.0% done\n",
      "70.0% done\n",
      "71.0% done\n",
      "72.0% done\n",
      "73.0% done\n",
      "74.0% done\n",
      "75.0% done\n",
      "76.0% done\n",
      "77.0% done\n",
      "78.0% done\n",
      "79.0% done\n",
      "80.0% done\n",
      "81.0% done\n",
      "82.0% done\n",
      "83.0% done\n",
      "84.0% done\n",
      "85.0% done\n",
      "86.0% done\n",
      "87.0% done\n",
      "88.0% done\n",
      "89.0% done\n",
      "90.0% done\n",
      "91.0% done\n",
      "92.0% done\n",
      "93.0% done\n",
      "94.0% done\n",
      "95.0% done\n",
      "96.0% done\n",
      "97.0% done\n",
      "98.0% done\n",
      "99.0% done\n"
     ]
    }
   ],
   "source": [
    "y_pred = []\n",
    "W1 = pd.DataFrame(model.layers[0].get_weights()[0]).append(pd.DataFrame(model.layers[0].get_weights()[1]).T).reset_index(drop=True)*10\n",
    "W2 = pd.DataFrame(model.layers[1].get_weights()[0]).append(pd.DataFrame(model.layers[1].get_weights()[1]).T).reset_index(drop=True)*10\n",
    "W2.loc[70] = W2.loc[70]*10\n",
    "W3 = pd.DataFrame(model.layers[2].get_weights()[0]).append(pd.DataFrame(model.layers[2].get_weights()[1]).T).reset_index(drop=True)*10\n",
    "W3.loc[70] = W3.loc[70]*100\n",
    "for current_img in range(X_pca_test.shape[0]):\n",
    "    if current_img%100 == 0:\n",
    "        print(\"{}% done\".format(current_img/100))\n",
    "    input_img = pd.Series(X_pca_test[current_img].round(0)).append(pd.Series(1)).reset_index(drop=True)\n",
    "    neurons_h1 = execute_layer(W1, input_img).astype(int)\n",
    "    neurons_h2 = execute_layer(W2, neurons_h1).astype(int)\n",
    "    output = execute_output(W3, neurons_h2).astype(int)\n",
    "    y_pred.append(output[output==output.max()].index.values[0])\n"
   ]
  },
  {
   "cell_type": "code",
   "execution_count": 243,
   "metadata": {},
   "outputs": [
    {
     "data": {
      "text/html": [
       "<div>\n",
       "<style scoped>\n",
       "    .dataframe tbody tr th:only-of-type {\n",
       "        vertical-align: middle;\n",
       "    }\n",
       "\n",
       "    .dataframe tbody tr th {\n",
       "        vertical-align: top;\n",
       "    }\n",
       "\n",
       "    .dataframe thead th {\n",
       "        text-align: right;\n",
       "    }\n",
       "</style>\n",
       "<table border=\"1\" class=\"dataframe\">\n",
       "  <thead>\n",
       "    <tr style=\"text-align: right;\">\n",
       "      <th></th>\n",
       "      <th>own_model_predictions</th>\n",
       "      <th>keras_model_prediction</th>\n",
       "      <th>y_test</th>\n",
       "    </tr>\n",
       "  </thead>\n",
       "  <tbody>\n",
       "    <tr>\n",
       "      <th>0</th>\n",
       "      <td>7</td>\n",
       "      <td>7</td>\n",
       "      <td>7</td>\n",
       "    </tr>\n",
       "    <tr>\n",
       "      <th>1</th>\n",
       "      <td>2</td>\n",
       "      <td>2</td>\n",
       "      <td>2</td>\n",
       "    </tr>\n",
       "    <tr>\n",
       "      <th>2</th>\n",
       "      <td>1</td>\n",
       "      <td>1</td>\n",
       "      <td>1</td>\n",
       "    </tr>\n",
       "    <tr>\n",
       "      <th>3</th>\n",
       "      <td>0</td>\n",
       "      <td>0</td>\n",
       "      <td>0</td>\n",
       "    </tr>\n",
       "    <tr>\n",
       "      <th>4</th>\n",
       "      <td>4</td>\n",
       "      <td>4</td>\n",
       "      <td>4</td>\n",
       "    </tr>\n",
       "    <tr>\n",
       "      <th>...</th>\n",
       "      <td>...</td>\n",
       "      <td>...</td>\n",
       "      <td>...</td>\n",
       "    </tr>\n",
       "    <tr>\n",
       "      <th>9995</th>\n",
       "      <td>2</td>\n",
       "      <td>2</td>\n",
       "      <td>2</td>\n",
       "    </tr>\n",
       "    <tr>\n",
       "      <th>9996</th>\n",
       "      <td>3</td>\n",
       "      <td>3</td>\n",
       "      <td>3</td>\n",
       "    </tr>\n",
       "    <tr>\n",
       "      <th>9997</th>\n",
       "      <td>4</td>\n",
       "      <td>4</td>\n",
       "      <td>4</td>\n",
       "    </tr>\n",
       "    <tr>\n",
       "      <th>9998</th>\n",
       "      <td>5</td>\n",
       "      <td>5</td>\n",
       "      <td>5</td>\n",
       "    </tr>\n",
       "    <tr>\n",
       "      <th>9999</th>\n",
       "      <td>6</td>\n",
       "      <td>6</td>\n",
       "      <td>6</td>\n",
       "    </tr>\n",
       "  </tbody>\n",
       "</table>\n",
       "<p>10000 rows × 3 columns</p>\n",
       "</div>"
      ],
      "text/plain": [
       "      own_model_predictions  keras_model_prediction  y_test\n",
       "0                         7                       7       7\n",
       "1                         2                       2       2\n",
       "2                         1                       1       1\n",
       "3                         0                       0       0\n",
       "4                         4                       4       4\n",
       "...                     ...                     ...     ...\n",
       "9995                      2                       2       2\n",
       "9996                      3                       3       3\n",
       "9997                      4                       4       4\n",
       "9998                      5                       5       5\n",
       "9999                      6                       6       6\n",
       "\n",
       "[10000 rows x 3 columns]"
      ]
     },
     "execution_count": 243,
     "metadata": {},
     "output_type": "execute_result"
    }
   ],
   "source": [
    "comparison = pd.concat([pd.Series(y_pred), \n",
    "                        pd.Series(keras_preds.argmax(axis=1)), \n",
    "                        pd.Series(y_test.argmax(axis=1)\n",
    "                       )], axis=1).rename(columns={0: \"own_model_predictions\", 1:\"keras_model_prediction\", 2: \"y_test\"})\n",
    "comparison"
   ]
  },
  {
   "cell_type": "code",
   "execution_count": 241,
   "metadata": {},
   "outputs": [
    {
     "name": "stdout",
     "output_type": "stream",
     "text": [
      "Accuracy of own implemented model: 0.9352\n",
      "Accuracy of Keras implemented model: 0.9352\n",
      "Accuracy of y_true implemented model: 1.0\n"
     ]
    }
   ],
   "source": [
    "from sklearn.metrics import accuracy_score\n",
    "print(\"Accuracy of own implemented model: {}\".format(accuracy_score(comparison[\"y_test\"], comparison[comparison.columns[0]]))) \n",
    "print(\"Accuracy of Keras implemented model: {}\".format(accuracy_score(comparison[\"y_test\"], comparison[comparison.columns[1]])))\n",
    "print(\"Accuracy of y_true implemented model: {}\".format(accuracy_score(comparison[\"y_test\"], comparison[comparison.columns[2]])))"
   ]
  }
 ],
 "metadata": {
  "colab": {
   "collapsed_sections": [
    "3gZLZT9Kt0al"
   ],
   "name": "Proof of weight reduction",
   "provenance": [],
   "toc_visible": true
  },
  "kernelspec": {
   "display_name": "Python 3 (ipykernel)",
   "language": "python",
   "name": "python3"
  },
  "language_info": {
   "codemirror_mode": {
    "name": "ipython",
    "version": 3
   },
   "file_extension": ".py",
   "mimetype": "text/x-python",
   "name": "python",
   "nbconvert_exporter": "python",
   "pygments_lexer": "ipython3",
   "version": "3.6.6"
  }
 },
 "nbformat": 4,
 "nbformat_minor": 1
}
