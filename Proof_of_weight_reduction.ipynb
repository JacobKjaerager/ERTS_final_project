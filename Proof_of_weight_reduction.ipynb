{
 "cells": [
  {
   "cell_type": "code",
   "execution_count": 2,
   "metadata": {
    "id": "Dhy7acfqt0am"
   },
   "outputs": [],
   "source": [
    "import numpy as np\n",
    "import tensorflow as tf\n",
    "from tensorflow import keras\n",
    "from tensorflow.keras import layers\n",
    "from sklearn.decomposition import PCA\n",
    "import matplotlib.pyplot as plt\n",
    "import pandas as pd \n",
    "import os\n",
    "from tensorflow.keras.initializers import RandomNormal\n",
    "import plotly\n",
    "import plotly.graph_objects as go"
   ]
  },
  {
   "cell_type": "code",
   "execution_count": 9,
   "metadata": {},
   "outputs": [],
   "source": [
    "def save_to_files(model):\n",
    "    multiplyer = 10\n",
    "\n",
    "    os.remove(\"bias.dat\")\n",
    "    f = open(\"bias.dat\", \"a\")\n",
    "    for layer in model.layers:\n",
    "      for bias in layer.get_weights()[1]:\n",
    "        f.write(str(round(bias*multiplyer))+\",\\n\")\n",
    "    f.close()\n",
    "\n",
    "    os.remove(\"weights.dat\")\n",
    "    f = open(\"weights.dat\", \"a\")\n",
    "    for layer in model.layers:\n",
    "      for neuron in layer.get_weights()[0]:\n",
    "        for weight in neuron:\n",
    "          f.write(str(round(weight*multiplyer))+\",\\n\")\n",
    "    f.close()\n",
    "    \n",
    "def transform_and_save_new_static_files(input_shape, reshaped_training_data, reshaped_test_data):\n",
    "    pca = PCA(n_components=input_shape)\n",
    "    X_pca_train = pca.fit_transform(reshaped_training_data)\n",
    "    X_pca_test = pca.transform(reshaped_test_data)\n",
    "    #Save to static data\n",
    "    pd.DataFrame(X_pca_train).to_pickle(\"./pca_applied_training_images.pkl\")\n",
    "    pd.DataFrame(X_pca_test).to_pickle(\"./pca_applied_test_images.pkl\")\n",
    "\n",
    "def plot_accuracy_vs(x,y,z):\n",
    "    fig = go.Figure(data=[\n",
    "        go.Bar(name='pre_rounded_results', x=x, y=y),\n",
    "        go.Bar(name='post_rounded_results', x=x, y=z)    \n",
    "    ])\n",
    "\n",
    "    fig.update_layout(\n",
    "        barmode='group',\n",
    "        title=\"Accuracy comparison across architectures and neural network weight rounding\",\n",
    "        xaxis_title=\"Arhitecture (u=units/neurons, L=number of layers)\",\n",
    "        yaxis_title=\"Accuracy\",\n",
    "        font=dict(\n",
    "            family=\"Courier New, monospace\",\n",
    "            size=16,\n",
    "            color=\"Black\"\n",
    "        )\n",
    "    )\n",
    "    fig.show()\n",
    "def generate_pre_and_post(model, \n",
    "                          X_pca_test: np.ndarray, \n",
    "                          y_test: np.ndarray, \n",
    "                          neurons: int, \n",
    "                          weight_rounding: int, \n",
    "                          image_rounding: int, \n",
    "                          no_of_layers: int, \n",
    "                          x: list, \n",
    "                          y: list, \n",
    "                          z: list) -> list:\n",
    "    weights = []\n",
    "    oldWeights = model.get_weights()\n",
    "    pre_rounded_results = model.evaluate(X_pca_test.round(image_rounding), \n",
    "                                         y_test, \n",
    "                                         verbose=0)\n",
    "    for layer in model.get_weights():\n",
    "        weights.append(layer.round(weight_rounding))\n",
    "    model.set_weights(weights) \n",
    "    post_rounded_results = model.evaluate(X_pca_test.round(image_rounding), \n",
    "                                          y_test, \n",
    "                                          verbose=0)\n",
    "    print(\"Error of rounding weights to {}-decimal: {}\".format(weight_rounding, pre_rounded_results[1]-post_rounded_results[1]))\n",
    "    x.append(\"{}L, {}u\".format(no_of_layers,neurons))\n",
    "    y.append(pre_rounded_results[1])\n",
    "    z.append(post_rounded_results[1])\n",
    "    #df = pd.concat([pd.Series(x),pd.Series(y), pd.Series(z)], axis=1).rename(columns={0:\"network_architecture\", \n",
    "    #                                                                                  1:\"pre_rounded_results\",\n",
    "    #                                                                                  2:\"post_rounded_results\"})\n",
    "    return [x,y,z]\n",
    "\n",
    "def fit_and_evaluate_model(X_pca_train: np.ndarray, \n",
    "                           y_train: np.ndarray, \n",
    "                           batch_size: int, \n",
    "                           epochs: int, \n",
    "                           neurons: int, \n",
    "                           num_classes: int, \n",
    "                           no_of_layers: int):\n",
    "    NN_layers =  []\n",
    "    NN_layers.append(keras.Input(shape=input_shape))\n",
    "    for i in range(no_of_layers):\n",
    "        NN_layers.append(layers.Dense(neurons, activation=\"relu\"))\n",
    "    NN_layers.append(layers.Dense(num_classes, activation=\"softmax\"))\n",
    "    \n",
    "    model = keras.Sequential(NN_layers)\n",
    "    model.compile(loss=\"categorical_crossentropy\", \n",
    "                  optimizer=\"adam\", \n",
    "                  metrics=[\"accuracy\"])\n",
    "    model.fit(X_pca_train, \n",
    "              y_train, \n",
    "              batch_size=batch_size, \n",
    "              epochs=epochs,\n",
    "              verbose=1)\n",
    "    return model"
   ]
  },
  {
   "cell_type": "markdown",
   "metadata": {
    "id": "yYEE9-2Mt0ap"
   },
   "source": [
    "## Prepare the data"
   ]
  },
  {
   "cell_type": "code",
   "execution_count": 10,
   "metadata": {
    "colab": {
     "base_uri": "https://localhost:8080/"
    },
    "id": "ANCytu_Pt0ap",
    "outputId": "fc30bc7e-5d54-4f55-92d8-3c72d7519be5"
   },
   "outputs": [
    {
     "name": "stdout",
     "output_type": "stream",
     "text": [
      "x_train shape: (60000, 784)\n",
      "60000 train samples\n",
      "10000 test samples\n"
     ]
    }
   ],
   "source": [
    "# Model / data parameters\n",
    "num_classes = 10\n",
    "input_shape = 80\n",
    "\n",
    "# the data, split between train and test sets\n",
    "(x_train, y_train), (x_test, y_test) = keras.datasets.mnist.load_data()\n",
    "\n",
    "# Scale images to the [0, 1] range\n",
    "x_train = x_train.astype(\"float32\") / 255\n",
    "x_test = x_test.astype(\"float32\") / 255\n",
    "\n",
    "reshaped_training_data = x_train.ravel().reshape(x_train.shape[0], x_train.shape[1]*x_train.shape[2])\n",
    "reshaped_test_data = x_test.ravel().reshape(x_test.shape[0], x_test.shape[1]*x_test.shape[2])\n",
    "\n",
    "print(\"x_train shape:\", reshaped_training_data.shape)\n",
    "print(reshaped_training_data.shape[0], \"train samples\")\n",
    "print(reshaped_test_data.shape[0], \"test samples\")\n",
    "\n",
    "# convert class vectors to binary class matrices\n",
    "y_train = keras.utils.to_categorical(y_train, num_classes)\n",
    "y_test = keras.utils.to_categorical(y_test, num_classes)"
   ]
  },
  {
   "cell_type": "markdown",
   "metadata": {
    "id": "CtfMy4ZPt0ar"
   },
   "source": [
    "## Build the model"
   ]
  },
  {
   "cell_type": "code",
   "execution_count": 11,
   "metadata": {
    "scrolled": true
   },
   "outputs": [],
   "source": [
    "#Import static variables. \n",
    "model = tf.keras.models.load_model(\"./current_model\")\n",
    "X_pca_train = pd.read_pickle(\"./pca_applied_training_images.pkl\").values\n",
    "X_pca_test = pd.read_pickle(\"./pca_applied_test_images.pkl\").values"
   ]
  },
  {
   "cell_type": "code",
   "execution_count": 58,
   "metadata": {},
   "outputs": [
    {
     "name": "stdout",
     "output_type": "stream",
     "text": [
      "Error of rounding to 1-decimal: 0.0\n"
     ]
    },
    {
     "data": {
      "application/vnd.plotly.v1+json": {
       "config": {
        "plotlyServerURL": "https://plot.ly"
       },
       "data": [
        {
         "name": "pre_rounded_results",
         "type": "bar",
         "x": [
          "2L, 70u"
         ],
         "y": [
          0.9408000111579895
         ]
        },
        {
         "name": "post_rounded_results",
         "type": "bar",
         "x": [
          "2L, 70u"
         ],
         "y": [
          0.9408000111579895
         ]
        }
       ],
       "layout": {
        "barmode": "group",
        "template": {
         "data": {
          "bar": [
           {
            "error_x": {
             "color": "#2a3f5f"
            },
            "error_y": {
             "color": "#2a3f5f"
            },
            "marker": {
             "line": {
              "color": "#E5ECF6",
              "width": 0.5
             },
             "pattern": {
              "fillmode": "overlay",
              "size": 10,
              "solidity": 0.2
             }
            },
            "type": "bar"
           }
          ],
          "barpolar": [
           {
            "marker": {
             "line": {
              "color": "#E5ECF6",
              "width": 0.5
             },
             "pattern": {
              "fillmode": "overlay",
              "size": 10,
              "solidity": 0.2
             }
            },
            "type": "barpolar"
           }
          ],
          "carpet": [
           {
            "aaxis": {
             "endlinecolor": "#2a3f5f",
             "gridcolor": "white",
             "linecolor": "white",
             "minorgridcolor": "white",
             "startlinecolor": "#2a3f5f"
            },
            "baxis": {
             "endlinecolor": "#2a3f5f",
             "gridcolor": "white",
             "linecolor": "white",
             "minorgridcolor": "white",
             "startlinecolor": "#2a3f5f"
            },
            "type": "carpet"
           }
          ],
          "choropleth": [
           {
            "colorbar": {
             "outlinewidth": 0,
             "ticks": ""
            },
            "type": "choropleth"
           }
          ],
          "contour": [
           {
            "colorbar": {
             "outlinewidth": 0,
             "ticks": ""
            },
            "colorscale": [
             [
              0,
              "#0d0887"
             ],
             [
              0.1111111111111111,
              "#46039f"
             ],
             [
              0.2222222222222222,
              "#7201a8"
             ],
             [
              0.3333333333333333,
              "#9c179e"
             ],
             [
              0.4444444444444444,
              "#bd3786"
             ],
             [
              0.5555555555555556,
              "#d8576b"
             ],
             [
              0.6666666666666666,
              "#ed7953"
             ],
             [
              0.7777777777777778,
              "#fb9f3a"
             ],
             [
              0.8888888888888888,
              "#fdca26"
             ],
             [
              1,
              "#f0f921"
             ]
            ],
            "type": "contour"
           }
          ],
          "contourcarpet": [
           {
            "colorbar": {
             "outlinewidth": 0,
             "ticks": ""
            },
            "type": "contourcarpet"
           }
          ],
          "heatmap": [
           {
            "colorbar": {
             "outlinewidth": 0,
             "ticks": ""
            },
            "colorscale": [
             [
              0,
              "#0d0887"
             ],
             [
              0.1111111111111111,
              "#46039f"
             ],
             [
              0.2222222222222222,
              "#7201a8"
             ],
             [
              0.3333333333333333,
              "#9c179e"
             ],
             [
              0.4444444444444444,
              "#bd3786"
             ],
             [
              0.5555555555555556,
              "#d8576b"
             ],
             [
              0.6666666666666666,
              "#ed7953"
             ],
             [
              0.7777777777777778,
              "#fb9f3a"
             ],
             [
              0.8888888888888888,
              "#fdca26"
             ],
             [
              1,
              "#f0f921"
             ]
            ],
            "type": "heatmap"
           }
          ],
          "heatmapgl": [
           {
            "colorbar": {
             "outlinewidth": 0,
             "ticks": ""
            },
            "colorscale": [
             [
              0,
              "#0d0887"
             ],
             [
              0.1111111111111111,
              "#46039f"
             ],
             [
              0.2222222222222222,
              "#7201a8"
             ],
             [
              0.3333333333333333,
              "#9c179e"
             ],
             [
              0.4444444444444444,
              "#bd3786"
             ],
             [
              0.5555555555555556,
              "#d8576b"
             ],
             [
              0.6666666666666666,
              "#ed7953"
             ],
             [
              0.7777777777777778,
              "#fb9f3a"
             ],
             [
              0.8888888888888888,
              "#fdca26"
             ],
             [
              1,
              "#f0f921"
             ]
            ],
            "type": "heatmapgl"
           }
          ],
          "histogram": [
           {
            "marker": {
             "pattern": {
              "fillmode": "overlay",
              "size": 10,
              "solidity": 0.2
             }
            },
            "type": "histogram"
           }
          ],
          "histogram2d": [
           {
            "colorbar": {
             "outlinewidth": 0,
             "ticks": ""
            },
            "colorscale": [
             [
              0,
              "#0d0887"
             ],
             [
              0.1111111111111111,
              "#46039f"
             ],
             [
              0.2222222222222222,
              "#7201a8"
             ],
             [
              0.3333333333333333,
              "#9c179e"
             ],
             [
              0.4444444444444444,
              "#bd3786"
             ],
             [
              0.5555555555555556,
              "#d8576b"
             ],
             [
              0.6666666666666666,
              "#ed7953"
             ],
             [
              0.7777777777777778,
              "#fb9f3a"
             ],
             [
              0.8888888888888888,
              "#fdca26"
             ],
             [
              1,
              "#f0f921"
             ]
            ],
            "type": "histogram2d"
           }
          ],
          "histogram2dcontour": [
           {
            "colorbar": {
             "outlinewidth": 0,
             "ticks": ""
            },
            "colorscale": [
             [
              0,
              "#0d0887"
             ],
             [
              0.1111111111111111,
              "#46039f"
             ],
             [
              0.2222222222222222,
              "#7201a8"
             ],
             [
              0.3333333333333333,
              "#9c179e"
             ],
             [
              0.4444444444444444,
              "#bd3786"
             ],
             [
              0.5555555555555556,
              "#d8576b"
             ],
             [
              0.6666666666666666,
              "#ed7953"
             ],
             [
              0.7777777777777778,
              "#fb9f3a"
             ],
             [
              0.8888888888888888,
              "#fdca26"
             ],
             [
              1,
              "#f0f921"
             ]
            ],
            "type": "histogram2dcontour"
           }
          ],
          "mesh3d": [
           {
            "colorbar": {
             "outlinewidth": 0,
             "ticks": ""
            },
            "type": "mesh3d"
           }
          ],
          "parcoords": [
           {
            "line": {
             "colorbar": {
              "outlinewidth": 0,
              "ticks": ""
             }
            },
            "type": "parcoords"
           }
          ],
          "pie": [
           {
            "automargin": true,
            "type": "pie"
           }
          ],
          "scatter": [
           {
            "marker": {
             "colorbar": {
              "outlinewidth": 0,
              "ticks": ""
             }
            },
            "type": "scatter"
           }
          ],
          "scatter3d": [
           {
            "line": {
             "colorbar": {
              "outlinewidth": 0,
              "ticks": ""
             }
            },
            "marker": {
             "colorbar": {
              "outlinewidth": 0,
              "ticks": ""
             }
            },
            "type": "scatter3d"
           }
          ],
          "scattercarpet": [
           {
            "marker": {
             "colorbar": {
              "outlinewidth": 0,
              "ticks": ""
             }
            },
            "type": "scattercarpet"
           }
          ],
          "scattergeo": [
           {
            "marker": {
             "colorbar": {
              "outlinewidth": 0,
              "ticks": ""
             }
            },
            "type": "scattergeo"
           }
          ],
          "scattergl": [
           {
            "marker": {
             "colorbar": {
              "outlinewidth": 0,
              "ticks": ""
             }
            },
            "type": "scattergl"
           }
          ],
          "scattermapbox": [
           {
            "marker": {
             "colorbar": {
              "outlinewidth": 0,
              "ticks": ""
             }
            },
            "type": "scattermapbox"
           }
          ],
          "scatterpolar": [
           {
            "marker": {
             "colorbar": {
              "outlinewidth": 0,
              "ticks": ""
             }
            },
            "type": "scatterpolar"
           }
          ],
          "scatterpolargl": [
           {
            "marker": {
             "colorbar": {
              "outlinewidth": 0,
              "ticks": ""
             }
            },
            "type": "scatterpolargl"
           }
          ],
          "scatterternary": [
           {
            "marker": {
             "colorbar": {
              "outlinewidth": 0,
              "ticks": ""
             }
            },
            "type": "scatterternary"
           }
          ],
          "surface": [
           {
            "colorbar": {
             "outlinewidth": 0,
             "ticks": ""
            },
            "colorscale": [
             [
              0,
              "#0d0887"
             ],
             [
              0.1111111111111111,
              "#46039f"
             ],
             [
              0.2222222222222222,
              "#7201a8"
             ],
             [
              0.3333333333333333,
              "#9c179e"
             ],
             [
              0.4444444444444444,
              "#bd3786"
             ],
             [
              0.5555555555555556,
              "#d8576b"
             ],
             [
              0.6666666666666666,
              "#ed7953"
             ],
             [
              0.7777777777777778,
              "#fb9f3a"
             ],
             [
              0.8888888888888888,
              "#fdca26"
             ],
             [
              1,
              "#f0f921"
             ]
            ],
            "type": "surface"
           }
          ],
          "table": [
           {
            "cells": {
             "fill": {
              "color": "#EBF0F8"
             },
             "line": {
              "color": "white"
             }
            },
            "header": {
             "fill": {
              "color": "#C8D4E3"
             },
             "line": {
              "color": "white"
             }
            },
            "type": "table"
           }
          ]
         },
         "layout": {
          "annotationdefaults": {
           "arrowcolor": "#2a3f5f",
           "arrowhead": 0,
           "arrowwidth": 1
          },
          "autotypenumbers": "strict",
          "coloraxis": {
           "colorbar": {
            "outlinewidth": 0,
            "ticks": ""
           }
          },
          "colorscale": {
           "diverging": [
            [
             0,
             "#8e0152"
            ],
            [
             0.1,
             "#c51b7d"
            ],
            [
             0.2,
             "#de77ae"
            ],
            [
             0.3,
             "#f1b6da"
            ],
            [
             0.4,
             "#fde0ef"
            ],
            [
             0.5,
             "#f7f7f7"
            ],
            [
             0.6,
             "#e6f5d0"
            ],
            [
             0.7,
             "#b8e186"
            ],
            [
             0.8,
             "#7fbc41"
            ],
            [
             0.9,
             "#4d9221"
            ],
            [
             1,
             "#276419"
            ]
           ],
           "sequential": [
            [
             0,
             "#0d0887"
            ],
            [
             0.1111111111111111,
             "#46039f"
            ],
            [
             0.2222222222222222,
             "#7201a8"
            ],
            [
             0.3333333333333333,
             "#9c179e"
            ],
            [
             0.4444444444444444,
             "#bd3786"
            ],
            [
             0.5555555555555556,
             "#d8576b"
            ],
            [
             0.6666666666666666,
             "#ed7953"
            ],
            [
             0.7777777777777778,
             "#fb9f3a"
            ],
            [
             0.8888888888888888,
             "#fdca26"
            ],
            [
             1,
             "#f0f921"
            ]
           ],
           "sequentialminus": [
            [
             0,
             "#0d0887"
            ],
            [
             0.1111111111111111,
             "#46039f"
            ],
            [
             0.2222222222222222,
             "#7201a8"
            ],
            [
             0.3333333333333333,
             "#9c179e"
            ],
            [
             0.4444444444444444,
             "#bd3786"
            ],
            [
             0.5555555555555556,
             "#d8576b"
            ],
            [
             0.6666666666666666,
             "#ed7953"
            ],
            [
             0.7777777777777778,
             "#fb9f3a"
            ],
            [
             0.8888888888888888,
             "#fdca26"
            ],
            [
             1,
             "#f0f921"
            ]
           ]
          },
          "colorway": [
           "#636efa",
           "#EF553B",
           "#00cc96",
           "#ab63fa",
           "#FFA15A",
           "#19d3f3",
           "#FF6692",
           "#B6E880",
           "#FF97FF",
           "#FECB52"
          ],
          "font": {
           "color": "#2a3f5f"
          },
          "geo": {
           "bgcolor": "white",
           "lakecolor": "white",
           "landcolor": "#E5ECF6",
           "showlakes": true,
           "showland": true,
           "subunitcolor": "white"
          },
          "hoverlabel": {
           "align": "left"
          },
          "hovermode": "closest",
          "mapbox": {
           "style": "light"
          },
          "paper_bgcolor": "white",
          "plot_bgcolor": "#E5ECF6",
          "polar": {
           "angularaxis": {
            "gridcolor": "white",
            "linecolor": "white",
            "ticks": ""
           },
           "bgcolor": "#E5ECF6",
           "radialaxis": {
            "gridcolor": "white",
            "linecolor": "white",
            "ticks": ""
           }
          },
          "scene": {
           "xaxis": {
            "backgroundcolor": "#E5ECF6",
            "gridcolor": "white",
            "gridwidth": 2,
            "linecolor": "white",
            "showbackground": true,
            "ticks": "",
            "zerolinecolor": "white"
           },
           "yaxis": {
            "backgroundcolor": "#E5ECF6",
            "gridcolor": "white",
            "gridwidth": 2,
            "linecolor": "white",
            "showbackground": true,
            "ticks": "",
            "zerolinecolor": "white"
           },
           "zaxis": {
            "backgroundcolor": "#E5ECF6",
            "gridcolor": "white",
            "gridwidth": 2,
            "linecolor": "white",
            "showbackground": true,
            "ticks": "",
            "zerolinecolor": "white"
           }
          },
          "shapedefaults": {
           "line": {
            "color": "#2a3f5f"
           }
          },
          "ternary": {
           "aaxis": {
            "gridcolor": "white",
            "linecolor": "white",
            "ticks": ""
           },
           "baxis": {
            "gridcolor": "white",
            "linecolor": "white",
            "ticks": ""
           },
           "bgcolor": "#E5ECF6",
           "caxis": {
            "gridcolor": "white",
            "linecolor": "white",
            "ticks": ""
           }
          },
          "title": {
           "x": 0.05
          },
          "xaxis": {
           "automargin": true,
           "gridcolor": "white",
           "linecolor": "white",
           "ticks": "",
           "title": {
            "standoff": 15
           },
           "zerolinecolor": "white",
           "zerolinewidth": 2
          },
          "yaxis": {
           "automargin": true,
           "gridcolor": "white",
           "linecolor": "white",
           "ticks": "",
           "title": {
            "standoff": 15
           },
           "zerolinecolor": "white",
           "zerolinewidth": 2
          }
         }
        }
       }
      },
      "text/html": [
       "<div>                            <div id=\"45fd38a0-a962-4a20-9b6a-f2edc1c72399\" class=\"plotly-graph-div\" style=\"height:525px; width:100%;\"></div>            <script type=\"text/javascript\">                require([\"plotly\"], function(Plotly) {                    window.PLOTLYENV=window.PLOTLYENV || {};                                    if (document.getElementById(\"45fd38a0-a962-4a20-9b6a-f2edc1c72399\")) {                    Plotly.newPlot(                        \"45fd38a0-a962-4a20-9b6a-f2edc1c72399\",                        [{\"name\":\"pre_rounded_results\",\"type\":\"bar\",\"x\":[\"2L, 70u\"],\"y\":[0.9408000111579895]},{\"name\":\"post_rounded_results\",\"type\":\"bar\",\"x\":[\"2L, 70u\"],\"y\":[0.9408000111579895]}],                        {\"barmode\":\"group\",\"template\":{\"data\":{\"bar\":[{\"error_x\":{\"color\":\"#2a3f5f\"},\"error_y\":{\"color\":\"#2a3f5f\"},\"marker\":{\"line\":{\"color\":\"#E5ECF6\",\"width\":0.5},\"pattern\":{\"fillmode\":\"overlay\",\"size\":10,\"solidity\":0.2}},\"type\":\"bar\"}],\"barpolar\":[{\"marker\":{\"line\":{\"color\":\"#E5ECF6\",\"width\":0.5},\"pattern\":{\"fillmode\":\"overlay\",\"size\":10,\"solidity\":0.2}},\"type\":\"barpolar\"}],\"carpet\":[{\"aaxis\":{\"endlinecolor\":\"#2a3f5f\",\"gridcolor\":\"white\",\"linecolor\":\"white\",\"minorgridcolor\":\"white\",\"startlinecolor\":\"#2a3f5f\"},\"baxis\":{\"endlinecolor\":\"#2a3f5f\",\"gridcolor\":\"white\",\"linecolor\":\"white\",\"minorgridcolor\":\"white\",\"startlinecolor\":\"#2a3f5f\"},\"type\":\"carpet\"}],\"choropleth\":[{\"colorbar\":{\"outlinewidth\":0,\"ticks\":\"\"},\"type\":\"choropleth\"}],\"contour\":[{\"colorbar\":{\"outlinewidth\":0,\"ticks\":\"\"},\"colorscale\":[[0.0,\"#0d0887\"],[0.1111111111111111,\"#46039f\"],[0.2222222222222222,\"#7201a8\"],[0.3333333333333333,\"#9c179e\"],[0.4444444444444444,\"#bd3786\"],[0.5555555555555556,\"#d8576b\"],[0.6666666666666666,\"#ed7953\"],[0.7777777777777778,\"#fb9f3a\"],[0.8888888888888888,\"#fdca26\"],[1.0,\"#f0f921\"]],\"type\":\"contour\"}],\"contourcarpet\":[{\"colorbar\":{\"outlinewidth\":0,\"ticks\":\"\"},\"type\":\"contourcarpet\"}],\"heatmap\":[{\"colorbar\":{\"outlinewidth\":0,\"ticks\":\"\"},\"colorscale\":[[0.0,\"#0d0887\"],[0.1111111111111111,\"#46039f\"],[0.2222222222222222,\"#7201a8\"],[0.3333333333333333,\"#9c179e\"],[0.4444444444444444,\"#bd3786\"],[0.5555555555555556,\"#d8576b\"],[0.6666666666666666,\"#ed7953\"],[0.7777777777777778,\"#fb9f3a\"],[0.8888888888888888,\"#fdca26\"],[1.0,\"#f0f921\"]],\"type\":\"heatmap\"}],\"heatmapgl\":[{\"colorbar\":{\"outlinewidth\":0,\"ticks\":\"\"},\"colorscale\":[[0.0,\"#0d0887\"],[0.1111111111111111,\"#46039f\"],[0.2222222222222222,\"#7201a8\"],[0.3333333333333333,\"#9c179e\"],[0.4444444444444444,\"#bd3786\"],[0.5555555555555556,\"#d8576b\"],[0.6666666666666666,\"#ed7953\"],[0.7777777777777778,\"#fb9f3a\"],[0.8888888888888888,\"#fdca26\"],[1.0,\"#f0f921\"]],\"type\":\"heatmapgl\"}],\"histogram\":[{\"marker\":{\"pattern\":{\"fillmode\":\"overlay\",\"size\":10,\"solidity\":0.2}},\"type\":\"histogram\"}],\"histogram2d\":[{\"colorbar\":{\"outlinewidth\":0,\"ticks\":\"\"},\"colorscale\":[[0.0,\"#0d0887\"],[0.1111111111111111,\"#46039f\"],[0.2222222222222222,\"#7201a8\"],[0.3333333333333333,\"#9c179e\"],[0.4444444444444444,\"#bd3786\"],[0.5555555555555556,\"#d8576b\"],[0.6666666666666666,\"#ed7953\"],[0.7777777777777778,\"#fb9f3a\"],[0.8888888888888888,\"#fdca26\"],[1.0,\"#f0f921\"]],\"type\":\"histogram2d\"}],\"histogram2dcontour\":[{\"colorbar\":{\"outlinewidth\":0,\"ticks\":\"\"},\"colorscale\":[[0.0,\"#0d0887\"],[0.1111111111111111,\"#46039f\"],[0.2222222222222222,\"#7201a8\"],[0.3333333333333333,\"#9c179e\"],[0.4444444444444444,\"#bd3786\"],[0.5555555555555556,\"#d8576b\"],[0.6666666666666666,\"#ed7953\"],[0.7777777777777778,\"#fb9f3a\"],[0.8888888888888888,\"#fdca26\"],[1.0,\"#f0f921\"]],\"type\":\"histogram2dcontour\"}],\"mesh3d\":[{\"colorbar\":{\"outlinewidth\":0,\"ticks\":\"\"},\"type\":\"mesh3d\"}],\"parcoords\":[{\"line\":{\"colorbar\":{\"outlinewidth\":0,\"ticks\":\"\"}},\"type\":\"parcoords\"}],\"pie\":[{\"automargin\":true,\"type\":\"pie\"}],\"scatter\":[{\"marker\":{\"colorbar\":{\"outlinewidth\":0,\"ticks\":\"\"}},\"type\":\"scatter\"}],\"scatter3d\":[{\"line\":{\"colorbar\":{\"outlinewidth\":0,\"ticks\":\"\"}},\"marker\":{\"colorbar\":{\"outlinewidth\":0,\"ticks\":\"\"}},\"type\":\"scatter3d\"}],\"scattercarpet\":[{\"marker\":{\"colorbar\":{\"outlinewidth\":0,\"ticks\":\"\"}},\"type\":\"scattercarpet\"}],\"scattergeo\":[{\"marker\":{\"colorbar\":{\"outlinewidth\":0,\"ticks\":\"\"}},\"type\":\"scattergeo\"}],\"scattergl\":[{\"marker\":{\"colorbar\":{\"outlinewidth\":0,\"ticks\":\"\"}},\"type\":\"scattergl\"}],\"scattermapbox\":[{\"marker\":{\"colorbar\":{\"outlinewidth\":0,\"ticks\":\"\"}},\"type\":\"scattermapbox\"}],\"scatterpolar\":[{\"marker\":{\"colorbar\":{\"outlinewidth\":0,\"ticks\":\"\"}},\"type\":\"scatterpolar\"}],\"scatterpolargl\":[{\"marker\":{\"colorbar\":{\"outlinewidth\":0,\"ticks\":\"\"}},\"type\":\"scatterpolargl\"}],\"scatterternary\":[{\"marker\":{\"colorbar\":{\"outlinewidth\":0,\"ticks\":\"\"}},\"type\":\"scatterternary\"}],\"surface\":[{\"colorbar\":{\"outlinewidth\":0,\"ticks\":\"\"},\"colorscale\":[[0.0,\"#0d0887\"],[0.1111111111111111,\"#46039f\"],[0.2222222222222222,\"#7201a8\"],[0.3333333333333333,\"#9c179e\"],[0.4444444444444444,\"#bd3786\"],[0.5555555555555556,\"#d8576b\"],[0.6666666666666666,\"#ed7953\"],[0.7777777777777778,\"#fb9f3a\"],[0.8888888888888888,\"#fdca26\"],[1.0,\"#f0f921\"]],\"type\":\"surface\"}],\"table\":[{\"cells\":{\"fill\":{\"color\":\"#EBF0F8\"},\"line\":{\"color\":\"white\"}},\"header\":{\"fill\":{\"color\":\"#C8D4E3\"},\"line\":{\"color\":\"white\"}},\"type\":\"table\"}]},\"layout\":{\"annotationdefaults\":{\"arrowcolor\":\"#2a3f5f\",\"arrowhead\":0,\"arrowwidth\":1},\"autotypenumbers\":\"strict\",\"coloraxis\":{\"colorbar\":{\"outlinewidth\":0,\"ticks\":\"\"}},\"colorscale\":{\"diverging\":[[0,\"#8e0152\"],[0.1,\"#c51b7d\"],[0.2,\"#de77ae\"],[0.3,\"#f1b6da\"],[0.4,\"#fde0ef\"],[0.5,\"#f7f7f7\"],[0.6,\"#e6f5d0\"],[0.7,\"#b8e186\"],[0.8,\"#7fbc41\"],[0.9,\"#4d9221\"],[1,\"#276419\"]],\"sequential\":[[0.0,\"#0d0887\"],[0.1111111111111111,\"#46039f\"],[0.2222222222222222,\"#7201a8\"],[0.3333333333333333,\"#9c179e\"],[0.4444444444444444,\"#bd3786\"],[0.5555555555555556,\"#d8576b\"],[0.6666666666666666,\"#ed7953\"],[0.7777777777777778,\"#fb9f3a\"],[0.8888888888888888,\"#fdca26\"],[1.0,\"#f0f921\"]],\"sequentialminus\":[[0.0,\"#0d0887\"],[0.1111111111111111,\"#46039f\"],[0.2222222222222222,\"#7201a8\"],[0.3333333333333333,\"#9c179e\"],[0.4444444444444444,\"#bd3786\"],[0.5555555555555556,\"#d8576b\"],[0.6666666666666666,\"#ed7953\"],[0.7777777777777778,\"#fb9f3a\"],[0.8888888888888888,\"#fdca26\"],[1.0,\"#f0f921\"]]},\"colorway\":[\"#636efa\",\"#EF553B\",\"#00cc96\",\"#ab63fa\",\"#FFA15A\",\"#19d3f3\",\"#FF6692\",\"#B6E880\",\"#FF97FF\",\"#FECB52\"],\"font\":{\"color\":\"#2a3f5f\"},\"geo\":{\"bgcolor\":\"white\",\"lakecolor\":\"white\",\"landcolor\":\"#E5ECF6\",\"showlakes\":true,\"showland\":true,\"subunitcolor\":\"white\"},\"hoverlabel\":{\"align\":\"left\"},\"hovermode\":\"closest\",\"mapbox\":{\"style\":\"light\"},\"paper_bgcolor\":\"white\",\"plot_bgcolor\":\"#E5ECF6\",\"polar\":{\"angularaxis\":{\"gridcolor\":\"white\",\"linecolor\":\"white\",\"ticks\":\"\"},\"bgcolor\":\"#E5ECF6\",\"radialaxis\":{\"gridcolor\":\"white\",\"linecolor\":\"white\",\"ticks\":\"\"}},\"scene\":{\"xaxis\":{\"backgroundcolor\":\"#E5ECF6\",\"gridcolor\":\"white\",\"gridwidth\":2,\"linecolor\":\"white\",\"showbackground\":true,\"ticks\":\"\",\"zerolinecolor\":\"white\"},\"yaxis\":{\"backgroundcolor\":\"#E5ECF6\",\"gridcolor\":\"white\",\"gridwidth\":2,\"linecolor\":\"white\",\"showbackground\":true,\"ticks\":\"\",\"zerolinecolor\":\"white\"},\"zaxis\":{\"backgroundcolor\":\"#E5ECF6\",\"gridcolor\":\"white\",\"gridwidth\":2,\"linecolor\":\"white\",\"showbackground\":true,\"ticks\":\"\",\"zerolinecolor\":\"white\"}},\"shapedefaults\":{\"line\":{\"color\":\"#2a3f5f\"}},\"ternary\":{\"aaxis\":{\"gridcolor\":\"white\",\"linecolor\":\"white\",\"ticks\":\"\"},\"baxis\":{\"gridcolor\":\"white\",\"linecolor\":\"white\",\"ticks\":\"\"},\"bgcolor\":\"#E5ECF6\",\"caxis\":{\"gridcolor\":\"white\",\"linecolor\":\"white\",\"ticks\":\"\"}},\"title\":{\"x\":0.05},\"xaxis\":{\"automargin\":true,\"gridcolor\":\"white\",\"linecolor\":\"white\",\"ticks\":\"\",\"title\":{\"standoff\":15},\"zerolinecolor\":\"white\",\"zerolinewidth\":2},\"yaxis\":{\"automargin\":true,\"gridcolor\":\"white\",\"linecolor\":\"white\",\"ticks\":\"\",\"title\":{\"standoff\":15},\"zerolinecolor\":\"white\",\"zerolinewidth\":2}}}},                        {\"responsive\": true}                    ).then(function(){\n",
       "                            \n",
       "var gd = document.getElementById('45fd38a0-a962-4a20-9b6a-f2edc1c72399');\n",
       "var x = new MutationObserver(function (mutations, observer) {{\n",
       "        var display = window.getComputedStyle(gd).display;\n",
       "        if (!display || display === 'none') {{\n",
       "            console.log([gd, 'removed!']);\n",
       "            Plotly.purge(gd);\n",
       "            observer.disconnect();\n",
       "        }}\n",
       "}});\n",
       "\n",
       "// Listen for the removal of the full notebook cells\n",
       "var notebookContainer = gd.closest('#notebook-container');\n",
       "if (notebookContainer) {{\n",
       "    x.observe(notebookContainer, {childList: true});\n",
       "}}\n",
       "\n",
       "// Listen for the clearing of the current output cell\n",
       "var outputEl = gd.closest('.output');\n",
       "if (outputEl) {{\n",
       "    x.observe(outputEl, {childList: true});\n",
       "}}\n",
       "\n",
       "                        })                };                });            </script>        </div>"
      ]
     },
     "metadata": {},
     "output_type": "display_data"
    }
   ],
   "source": [
    "x = []\n",
    "y = []\n",
    "z = []\n",
    "#Single model\n",
    "[x,y,z] = generate_pre_and_post(model=model,\n",
    "                                X_pca_test=X_pca_test,\n",
    "                                y_test=y_test, \n",
    "                                neurons=70, \n",
    "                                weight_rounding=1, \n",
    "                                image_rounding=0,\n",
    "                                no_of_layers=2,\n",
    "                                x=x, \n",
    "                                y=y, \n",
    "                                z=z)\n",
    "plot_accuracy_vs(x,y,z)"
   ]
  },
  {
   "cell_type": "markdown",
   "metadata": {
    "id": "EinUYtgJt0aw"
   },
   "source": [
    "## Multiple model head-to-head"
   ]
  },
  {
   "cell_type": "code",
   "execution_count": 68,
   "metadata": {
    "scrolled": true
   },
   "outputs": [
    {
     "name": "stdout",
     "output_type": "stream",
     "text": [
      "640\n",
      "Epoch 1/30\n",
      "469/469 [==============================] - 2s 3ms/step - loss: 0.4977 - accuracy: 0.8596\n",
      "Epoch 2/30\n",
      "469/469 [==============================] - 1s 3ms/step - loss: 0.1763 - accuracy: 0.9482\n",
      "Epoch 3/30\n",
      "469/469 [==============================] - 1s 3ms/step - loss: 0.1314 - accuracy: 0.9625: 0s - loss: 0.136\n",
      "Epoch 4/30\n",
      "469/469 [==============================] - 1s 3ms/step - loss: 0.1056 - accuracy: 0.9681\n",
      "Epoch 5/30\n",
      "469/469 [==============================] - 2s 3ms/step - loss: 0.0884 - accuracy: 0.9741\n",
      "Epoch 6/30\n",
      "469/469 [==============================] - 1s 3ms/step - loss: 0.0758 - accuracy: 0.9778\n",
      "Epoch 7/30\n",
      "469/469 [==============================] - 1s 3ms/step - loss: 0.0665 - accuracy: 0.9808\n",
      "Epoch 8/30\n",
      "469/469 [==============================] - 2s 4ms/step - loss: 0.0588 - accuracy: 0.9825\n",
      "Epoch 9/30\n",
      "469/469 [==============================] - 1s 3ms/step - loss: 0.0523 - accuracy: 0.9846\n",
      "Epoch 10/30\n",
      "469/469 [==============================] - 1s 3ms/step - loss: 0.0473 - accuracy: 0.9861\n",
      "Epoch 11/30\n",
      "469/469 [==============================] - 1s 3ms/step - loss: 0.0424 - accuracy: 0.9877: 0s - loss: 0.040\n",
      "Epoch 12/30\n",
      "469/469 [==============================] - 1s 3ms/step - loss: 0.0384 - accuracy: 0.9882\n",
      "Epoch 13/30\n",
      "469/469 [==============================] - 1s 3ms/step - loss: 0.0355 - accuracy: 0.9892\n",
      "Epoch 14/30\n",
      "469/469 [==============================] - 1s 3ms/step - loss: 0.0325 - accuracy: 0.9902\n",
      "Epoch 15/30\n",
      "469/469 [==============================] - 1s 3ms/step - loss: 0.0293 - accuracy: 0.9915\n",
      "Epoch 16/30\n",
      "469/469 [==============================] - 1s 3ms/step - loss: 0.0271 - accuracy: 0.9918: 0s -\n",
      "Epoch 17/30\n",
      "469/469 [==============================] - 1s 3ms/step - loss: 0.0244 - accuracy: 0.9931\n",
      "Epoch 18/30\n",
      "469/469 [==============================] - 1s 3ms/step - loss: 0.0229 - accuracy: 0.9936\n",
      "Epoch 19/30\n",
      "469/469 [==============================] - 1s 3ms/step - loss: 0.0204 - accuracy: 0.9942\n",
      "Epoch 20/30\n",
      "469/469 [==============================] - 1s 3ms/step - loss: 0.0191 - accuracy: 0.9944\n",
      "Epoch 21/30\n",
      "469/469 [==============================] - 1s 2ms/step - loss: 0.0170 - accuracy: 0.9953\n",
      "Epoch 22/30\n",
      "469/469 [==============================] - 1s 3ms/step - loss: 0.0156 - accuracy: 0.9956\n",
      "Epoch 23/30\n",
      "469/469 [==============================] - 1s 3ms/step - loss: 0.0143 - accuracy: 0.9960\n",
      "Epoch 24/30\n",
      "469/469 [==============================] - 1s 3ms/step - loss: 0.0131 - accuracy: 0.9966\n",
      "Epoch 25/30\n",
      "469/469 [==============================] - 1s 3ms/step - loss: 0.0128 - accuracy: 0.9964\n",
      "Epoch 26/30\n",
      "469/469 [==============================] - 1s 3ms/step - loss: 0.0110 - accuracy: 0.9970\n",
      "Epoch 27/30\n",
      "469/469 [==============================] - 1s 3ms/step - loss: 0.0094 - accuracy: 0.9978\n",
      "Epoch 28/30\n",
      "469/469 [==============================] - 1s 2ms/step - loss: 0.0094 - accuracy: 0.9975\n",
      "Epoch 29/30\n",
      "469/469 [==============================] - 1s 3ms/step - loss: 0.0085 - accuracy: 0.9979: 0s - loss: 0.0069 - ac - ETA: 0s - loss: 0.007\n",
      "Epoch 30/30\n",
      "469/469 [==============================] - 1s 3ms/step - loss: 0.0075 - accuracy: 0.9984: 0s - loss: 0.0065 - ac\n",
      "Error of rounding weights to 1-decimal: 0.00830000638961792\n",
      "1280\n",
      "Epoch 1/30\n",
      "469/469 [==============================] - 3s 4ms/step - loss: 0.3660 - accuracy: 0.8981\n",
      "Epoch 2/30\n",
      "469/469 [==============================] - ETA: 0s - loss: 0.1256 - accuracy: 0.96 - 1s 3ms/step - loss: 0.1252 - accuracy: 0.9637\n",
      "Epoch 3/30\n",
      "469/469 [==============================] - 2s 4ms/step - loss: 0.0854 - accuracy: 0.9759\n",
      "Epoch 4/30\n",
      "469/469 [==============================] - 2s 4ms/step - loss: 0.0648 - accuracy: 0.9805\n",
      "Epoch 5/30\n",
      "469/469 [==============================] - 2s 4ms/step - loss: 0.0515 - accuracy: 0.9843: 0s - loss: 0.049\n",
      "Epoch 6/30\n",
      "469/469 [==============================] - 2s 4ms/step - loss: 0.0415 - accuracy: 0.9875: 0s - loss:\n",
      "Epoch 7/30\n",
      "469/469 [==============================] - 2s 3ms/step - loss: 0.0332 - accuracy: 0.9904\n",
      "Epoch 8/30\n",
      "469/469 [==============================] - 2s 4ms/step - loss: 0.0273 - accuracy: 0.9921\n",
      "Epoch 9/30\n",
      "469/469 [==============================] - 2s 3ms/step - loss: 0.0225 - accuracy: 0.9936\n",
      "Epoch 10/30\n",
      "469/469 [==============================] - 2s 4ms/step - loss: 0.0188 - accuracy: 0.9947\n",
      "Epoch 11/30\n",
      "469/469 [==============================] - 2s 4ms/step - loss: 0.0149 - accuracy: 0.9959\n",
      "Epoch 12/30\n",
      "469/469 [==============================] - 2s 4ms/step - loss: 0.0131 - accuracy: 0.9960\n",
      "Epoch 13/30\n",
      "469/469 [==============================] - 2s 4ms/step - loss: 0.0109 - accuracy: 0.9970\n",
      "Epoch 14/30\n",
      "469/469 [==============================] - 2s 4ms/step - loss: 0.0093 - accuracy: 0.9973\n",
      "Epoch 15/30\n",
      "469/469 [==============================] - 2s 4ms/step - loss: 0.0085 - accuracy: 0.9977: 0s - loss: 0.0075 \n",
      "Epoch 16/30\n",
      "469/469 [==============================] - 1s 3ms/step - loss: 0.0065 - accuracy: 0.9986\n",
      "Epoch 17/30\n",
      "469/469 [==============================] - 1s 3ms/step - loss: 0.0063 - accuracy: 0.9983\n",
      "Epoch 18/30\n",
      "469/469 [==============================] - 1s 3ms/step - loss: 0.0070 - accuracy: 0.9980\n",
      "Epoch 19/30\n",
      "469/469 [==============================] - 1s 3ms/step - loss: 0.0084 - accuracy: 0.9972\n",
      "Epoch 20/30\n",
      "469/469 [==============================] - 2s 3ms/step - loss: 0.0043 - accuracy: 0.9988\n",
      "Epoch 21/30\n",
      "469/469 [==============================] - 2s 5ms/step - loss: 0.0033 - accuracy: 0.9992\n",
      "Epoch 22/30\n",
      "469/469 [==============================] - 2s 4ms/step - loss: 0.0078 - accuracy: 0.9974: 0s - loss: 0.005\n",
      "Epoch 23/30\n",
      "469/469 [==============================] - 2s 4ms/step - loss: 0.0042 - accuracy: 0.9989\n",
      "Epoch 24/30\n",
      "469/469 [==============================] - 2s 5ms/step - loss: 0.0027 - accuracy: 0.9994\n",
      "Epoch 25/30\n",
      "469/469 [==============================] - 2s 4ms/step - loss: 0.0050 - accuracy: 0.9986: 0s - loss: 0.0050 - accuracy: 0.99\n",
      "Epoch 26/30\n",
      "469/469 [==============================] - 2s 4ms/step - loss: 0.0054 - accuracy: 0.9982\n",
      "Epoch 27/30\n",
      "469/469 [==============================] - 2s 3ms/step - loss: 0.0038 - accuracy: 0.9988\n",
      "Epoch 28/30\n",
      "469/469 [==============================] - 2s 4ms/step - loss: 0.0050 - accuracy: 0.9982\n",
      "Epoch 29/30\n",
      "469/469 [==============================] - 2s 3ms/step - loss: 0.0035 - accuracy: 0.9989\n",
      "Epoch 30/30\n",
      "469/469 [==============================] - 2s 3ms/step - loss: 0.0021 - accuracy: 0.9994\n",
      "Error of rounding weights to 1-decimal: 0.008099973201751709\n",
      "2560\n",
      "Epoch 1/30\n",
      "469/469 [==============================] - 3s 4ms/step - loss: 0.2669 - accuracy: 0.9254\n",
      "Epoch 2/30\n",
      "469/469 [==============================] - 2s 5ms/step - loss: 0.0905 - accuracy: 0.9730\n",
      "Epoch 3/30\n",
      "469/469 [==============================] - 2s 4ms/step - loss: 0.0587 - accuracy: 0.9819\n",
      "Epoch 4/30\n",
      "469/469 [==============================] - 2s 5ms/step - loss: 0.0405 - accuracy: 0.9878\n",
      "Epoch 5/30\n",
      "469/469 [==============================] - ETA: 0s - loss: 0.0297 - accuracy: 0.99 - 2s 4ms/step - loss: 0.0297 - accuracy: 0.9907\n",
      "Epoch 6/30\n",
      "469/469 [==============================] - 2s 4ms/step - loss: 0.0215 - accuracy: 0.9937\n",
      "Epoch 7/30\n",
      "469/469 [==============================] - 2s 4ms/step - loss: 0.0174 - accuracy: 0.9946\n",
      "Epoch 8/30\n",
      "469/469 [==============================] - 2s 4ms/step - loss: 0.0127 - accuracy: 0.9962\n",
      "Epoch 9/30\n",
      "469/469 [==============================] - 2s 4ms/step - loss: 0.0101 - accuracy: 0.9970\n",
      "Epoch 10/30\n",
      "469/469 [==============================] - ETA: 0s - loss: 0.0112 - accuracy: 0.99 - 2s 4ms/step - loss: 0.0114 - accuracy: 0.9963\n",
      "Epoch 11/30\n",
      "469/469 [==============================] - 2s 4ms/step - loss: 0.0102 - accuracy: 0.9966\n",
      "Epoch 12/30\n",
      "469/469 [==============================] - 2s 5ms/step - loss: 0.0069 - accuracy: 0.9978\n",
      "Epoch 13/30\n",
      "469/469 [==============================] - 2s 4ms/step - loss: 0.0075 - accuracy: 0.9973\n",
      "Epoch 14/30\n",
      "469/469 [==============================] - 2s 5ms/step - loss: 0.0098 - accuracy: 0.9965\n",
      "Epoch 15/30\n",
      "469/469 [==============================] - 3s 6ms/step - loss: 0.0063 - accuracy: 0.9977: 0s\n",
      "Epoch 16/30\n",
      "469/469 [==============================] - 3s 6ms/step - loss: 0.0069 - accuracy: 0.9976: 1s - loss: 0.0068 - accura\n",
      "Epoch 17/30\n",
      "469/469 [==============================] - 2s 5ms/step - loss: 0.0052 - accuracy: 0.9983\n",
      "Epoch 18/30\n",
      "469/469 [==============================] - 3s 6ms/step - loss: 0.0054 - accuracy: 0.9982\n",
      "Epoch 19/30\n",
      "469/469 [==============================] - 3s 6ms/step - loss: 0.0077 - accuracy: 0.9973\n",
      "Epoch 20/30\n",
      "469/469 [==============================] - 3s 6ms/step - loss: 0.0059 - accuracy: 0.9981: 1s\n",
      "Epoch 21/30\n",
      "469/469 [==============================] - 3s 7ms/step - loss: 0.0037 - accuracy: 0.9988: 0s - loss: 0.0036 - accuracy: \n",
      "Epoch 22/30\n",
      "469/469 [==============================] - 3s 6ms/step - loss: 0.0057 - accuracy: 0.9983\n",
      "Epoch 23/30\n",
      "469/469 [==============================] - 3s 6ms/step - loss: 0.0047 - accuracy: 0.9985\n",
      "Epoch 24/30\n",
      "469/469 [==============================] - 2s 5ms/step - loss: 0.0073 - accuracy: 0.9974: 0s - loss: 0.0064 - accura\n",
      "Epoch 25/30\n",
      "469/469 [==============================] - 2s 5ms/step - loss: 0.0046 - accuracy: 0.9985\n",
      "Epoch 26/30\n",
      "469/469 [==============================] - 2s 4ms/step - loss: 0.0043 - accuracy: 0.9985\n",
      "Epoch 27/30\n",
      "469/469 [==============================] - 2s 5ms/step - loss: 0.0035 - accuracy: 0.9988\n",
      "Epoch 28/30\n",
      "469/469 [==============================] - 2s 5ms/step - loss: 0.0031 - accuracy: 0.9991: 0s - loss: 0.0031 - accuracy: 0.\n",
      "Epoch 29/30\n",
      "469/469 [==============================] - 2s 5ms/step - loss: 0.0073 - accuracy: 0.9976\n",
      "Epoch 30/30\n",
      "469/469 [==============================] - 3s 6ms/step - loss: 0.0071 - accuracy: 0.9974\n",
      "Error of rounding weights to 1-decimal: 0.004799962043762207\n",
      "5120\n",
      "Epoch 1/30\n",
      "469/469 [==============================] - 6s 11ms/step - loss: 0.2103 - accuracy: 0.9387\n",
      "Epoch 2/30\n",
      "469/469 [==============================] - 4s 10ms/step - loss: 0.0727 - accuracy: 0.9777\n",
      "Epoch 3/30\n",
      "469/469 [==============================] - 5s 12ms/step - loss: 0.0448 - accuracy: 0.9862\n",
      "Epoch 4/30\n",
      "469/469 [==============================] - 5s 10ms/step - loss: 0.0311 - accuracy: 0.9905\n",
      "Epoch 5/30\n",
      "469/469 [==============================] - 6s 12ms/step - loss: 0.0229 - accuracy: 0.9926 1s - l\n",
      "Epoch 6/30\n",
      "469/469 [==============================] - 5s 11ms/step - loss: 0.0176 - accuracy: 0.9944 0s - l\n",
      "Epoch 7/30\n",
      "469/469 [==============================] - 4s 10ms/step - loss: 0.0142 - accuracy: 0.9953\n",
      "Epoch 8/30\n",
      "469/469 [==============================] - 5s 10ms/step - loss: 0.0137 - accuracy: 0.9954\n",
      "Epoch 9/30\n",
      "469/469 [==============================] - 5s 10ms/step - loss: 0.0129 - accuracy: 0.9954\n",
      "Epoch 10/30\n",
      "469/469 [==============================] - 5s 10ms/step - loss: 0.0106 - accuracy: 0.9963\n",
      "Epoch 11/30\n",
      "469/469 [==============================] - 5s 10ms/step - loss: 0.0090 - accuracy: 0.9966\n",
      "Epoch 12/30\n",
      "469/469 [==============================] - 5s 10ms/step - loss: 0.0103 - accuracy: 0.9966 0s - loss: 0.0102 - accura\n",
      "Epoch 13/30\n",
      "469/469 [==============================] - 5s 10ms/step - loss: 0.0079 - accuracy: 0.9973\n",
      "Epoch 14/30\n",
      "469/469 [==============================] - 5s 10ms/step - loss: 0.0077 - accuracy: 0.9973\n",
      "Epoch 15/30\n",
      "469/469 [==============================] - 5s 10ms/step - loss: 0.0113 - accuracy: 0.9961\n",
      "Epoch 16/30\n",
      "469/469 [==============================] - 5s 10ms/step - loss: 0.0074 - accuracy: 0.9978\n",
      "Epoch 17/30\n",
      "469/469 [==============================] - 4s 9ms/step - loss: 0.0060 - accuracy: 0.9981\n",
      "Epoch 18/30\n",
      "469/469 [==============================] - 5s 10ms/step - loss: 0.0044 - accuracy: 0.9986\n",
      "Epoch 19/30\n",
      "469/469 [==============================] - 4s 9ms/step - loss: 0.0039 - accuracy: 0.9989\n",
      "Epoch 20/30\n",
      "469/469 [==============================] - 5s 10ms/step - loss: 0.0093 - accuracy: 0.9971\n",
      "Epoch 21/30\n",
      "469/469 [==============================] - 4s 9ms/step - loss: 0.0079 - accuracy: 0.9970\n",
      "Epoch 22/30\n",
      "469/469 [==============================] - 4s 9ms/step - loss: 0.0075 - accuracy: 0.9978\n",
      "Epoch 23/30\n",
      "469/469 [==============================] - 4s 9ms/step - loss: 0.0038 - accuracy: 0.9988\n",
      "Epoch 24/30\n",
      "469/469 [==============================] - 4s 10ms/step - loss: 0.0034 - accuracy: 0.9990\n",
      "Epoch 25/30\n",
      "469/469 [==============================] - 5s 10ms/step - loss: 0.0074 - accuracy: 0.9976\n",
      "Epoch 26/30\n",
      "469/469 [==============================] - 4s 10ms/step - loss: 0.0057 - accuracy: 0.9980\n",
      "Epoch 27/30\n",
      "469/469 [==============================] - 5s 10ms/step - loss: 0.0036 - accuracy: 0.9989\n",
      "Epoch 28/30\n",
      "469/469 [==============================] - 4s 10ms/step - loss: 0.0057 - accuracy: 0.9982\n",
      "Epoch 29/30\n",
      "469/469 [==============================] - 5s 10ms/step - loss: 0.0077 - accuracy: 0.9977\n",
      "Epoch 30/30\n",
      "469/469 [==============================] - 4s 9ms/step - loss: 0.0021 - accuracy: 0.9993\n",
      "Error of rounding weights to 1-decimal: 0.0026999711990356445\n",
      "640\n",
      "Epoch 1/30\n",
      "469/469 [==============================] - 2s 3ms/step - loss: 0.4697 - accuracy: 0.8644: 0s - loss: 0.5741 - \n",
      "Epoch 2/30\n",
      "469/469 [==============================] - 1s 3ms/step - loss: 0.1534 - accuracy: 0.9542: 0s - loss: 0.1537 - accuracy: 0.\n",
      "Epoch 3/30\n",
      "469/469 [==============================] - 1s 3ms/step - loss: 0.1122 - accuracy: 0.9663\n",
      "Epoch 4/30\n",
      "469/469 [==============================] - 1s 3ms/step - loss: 0.0880 - accuracy: 0.9739: 0s\n",
      "Epoch 5/30\n",
      "469/469 [==============================] - 1s 3ms/step - loss: 0.0733 - accuracy: 0.9774: 0s - loss: 0.0728 - accuracy\n",
      "Epoch 6/30\n",
      "469/469 [==============================] - 1s 3ms/step - loss: 0.0621 - accuracy: 0.9809\n",
      "Epoch 7/30\n",
      "469/469 [==============================] - 1s 3ms/step - loss: 0.0530 - accuracy: 0.9837\n",
      "Epoch 8/30\n",
      "469/469 [==============================] - 1s 3ms/step - loss: 0.0470 - accuracy: 0.9848\n",
      "Epoch 9/30\n",
      "469/469 [==============================] - 1s 3ms/step - loss: 0.0404 - accuracy: 0.9874\n",
      "Epoch 10/30\n",
      "469/469 [==============================] - 1s 3ms/step - loss: 0.0358 - accuracy: 0.9884\n",
      "Epoch 11/30\n",
      "469/469 [==============================] - 1s 3ms/step - loss: 0.0318 - accuracy: 0.9902\n",
      "Epoch 12/30\n",
      "469/469 [==============================] - 1s 3ms/step - loss: 0.0268 - accuracy: 0.9919\n",
      "Epoch 13/30\n",
      "469/469 [==============================] - 1s 3ms/step - loss: 0.0244 - accuracy: 0.9921: 0s - loss: 0.0221 - accu - ETA: 0s - loss: 0.022\n",
      "Epoch 14/30\n",
      "469/469 [==============================] - 1s 3ms/step - loss: 0.0218 - accuracy: 0.9929: \n",
      "Epoch 15/30\n",
      "469/469 [==============================] - 1s 3ms/step - loss: 0.0205 - accuracy: 0.9934\n",
      "Epoch 16/30\n",
      "469/469 [==============================] - 1s 3ms/step - loss: 0.0182 - accuracy: 0.9941\n",
      "Epoch 17/30\n",
      "469/469 [==============================] - ETA: 0s - loss: 0.0168 - accuracy: 0.9947 ETA: 0s - loss: 0.0158 -  - 2s 3ms/step - loss: 0.0167 - accuracy: 0.9947\n",
      "Epoch 18/30\n",
      "469/469 [==============================] - 1s 3ms/step - loss: 0.0143 - accuracy: 0.9955\n",
      "Epoch 19/30\n",
      "469/469 [==============================] - 2s 4ms/step - loss: 0.0134 - accuracy: 0.9959\n",
      "Epoch 20/30\n",
      "469/469 [==============================] - 2s 3ms/step - loss: 0.0139 - accuracy: 0.9952\n",
      "Epoch 21/30\n",
      "469/469 [==============================] - 2s 3ms/step - loss: 0.0107 - accuracy: 0.9966\n",
      "Epoch 22/30\n",
      "469/469 [==============================] - 1s 3ms/step - loss: 0.0097 - accuracy: 0.9971: 0s - loss:\n",
      "Epoch 23/30\n",
      "469/469 [==============================] - 1s 3ms/step - loss: 0.0105 - accuracy: 0.9964\n",
      "Epoch 24/30\n",
      "469/469 [==============================] - 1s 3ms/step - loss: 0.0101 - accuracy: 0.9964: 0s - los\n",
      "Epoch 25/30\n",
      "469/469 [==============================] - 1s 3ms/step - loss: 0.0098 - accuracy: 0.9966\n",
      "Epoch 26/30\n",
      "469/469 [==============================] - 1s 3ms/step - loss: 0.0076 - accuracy: 0.9976\n",
      "Epoch 27/30\n",
      "469/469 [==============================] - 1s 3ms/step - loss: 0.0085 - accuracy: 0.9973\n",
      "Epoch 28/30\n",
      "469/469 [==============================] - 1s 3ms/step - loss: 0.0084 - accuracy: 0.9971\n",
      "Epoch 29/30\n",
      "469/469 [==============================] - 1s 3ms/step - loss: 0.0096 - accuracy: 0.9967\n",
      "Epoch 30/30\n",
      "469/469 [==============================] - 1s 3ms/step - loss: 0.0064 - accuracy: 0.9979\n",
      "Error of rounding weights to 1-decimal: 0.01500004529953003\n",
      "1280\n",
      "Epoch 1/30\n"
     ]
    },
    {
     "name": "stdout",
     "output_type": "stream",
     "text": [
      "469/469 [==============================] - 2s 3ms/step - loss: 0.3285 - accuracy: 0.9052\n",
      "Epoch 2/30\n",
      "469/469 [==============================] - 2s 4ms/step - loss: 0.1056 - accuracy: 0.9686\n",
      "Epoch 3/30\n",
      "469/469 [==============================] - 2s 4ms/step - loss: 0.0726 - accuracy: 0.9782: 0s - loss: 0.0716 - accuracy\n",
      "Epoch 4/30\n",
      "469/469 [==============================] - 2s 5ms/step - loss: 0.0546 - accuracy: 0.9830: 0s - l\n",
      "Epoch 5/30\n",
      "469/469 [==============================] - 2s 5ms/step - loss: 0.0406 - accuracy: 0.9876\n",
      "Epoch 6/30\n",
      "469/469 [==============================] - 2s 5ms/step - loss: 0.0322 - accuracy: 0.9898\n",
      "Epoch 7/30\n",
      "469/469 [==============================] - 2s 5ms/step - loss: 0.0248 - accuracy: 0.9919\n",
      "Epoch 8/30\n",
      "469/469 [==============================] - 2s 4ms/step - loss: 0.0218 - accuracy: 0.9930\n",
      "Epoch 9/30\n",
      "469/469 [==============================] - 2s 4ms/step - loss: 0.0165 - accuracy: 0.9949\n",
      "Epoch 10/30\n",
      "469/469 [==============================] - 2s 4ms/step - loss: 0.0159 - accuracy: 0.9949: 0s - loss: 0.0145 - accura\n",
      "Epoch 11/30\n",
      "469/469 [==============================] - 2s 4ms/step - loss: 0.0156 - accuracy: 0.9946\n",
      "Epoch 12/30\n",
      "469/469 [==============================] - 2s 4ms/step - loss: 0.0124 - accuracy: 0.9959\n",
      "Epoch 13/30\n",
      "469/469 [==============================] - 2s 4ms/step - loss: 0.0120 - accuracy: 0.9960\n",
      "Epoch 14/30\n",
      "469/469 [==============================] - 2s 4ms/step - loss: 0.0113 - accuracy: 0.9961\n",
      "Epoch 15/30\n",
      "469/469 [==============================] - 2s 4ms/step - loss: 0.0103 - accuracy: 0.9966\n",
      "Epoch 16/30\n",
      "469/469 [==============================] - 2s 5ms/step - loss: 0.0096 - accuracy: 0.9969\n",
      "Epoch 17/30\n",
      "469/469 [==============================] - 2s 5ms/step - loss: 0.0063 - accuracy: 0.9979\n",
      "Epoch 18/30\n",
      "469/469 [==============================] - 2s 5ms/step - loss: 0.0083 - accuracy: 0.9970\n",
      "Epoch 19/30\n",
      "469/469 [==============================] - 3s 5ms/step - loss: 0.0120 - accuracy: 0.9958\n",
      "Epoch 20/30\n",
      "469/469 [==============================] - 2s 5ms/step - loss: 0.0088 - accuracy: 0.9970\n",
      "Epoch 21/30\n",
      "469/469 [==============================] - 2s 3ms/step - loss: 0.0048 - accuracy: 0.9985\n",
      "Epoch 22/30\n",
      "469/469 [==============================] - 2s 4ms/step - loss: 0.0071 - accuracy: 0.9979\n",
      "Epoch 23/30\n",
      "469/469 [==============================] - 2s 3ms/step - loss: 0.0101 - accuracy: 0.9966\n",
      "Epoch 24/30\n",
      "469/469 [==============================] - 2s 3ms/step - loss: 0.0067 - accuracy: 0.9977\n",
      "Epoch 25/30\n",
      "469/469 [==============================] - 2s 4ms/step - loss: 0.0060 - accuracy: 0.9981\n",
      "Epoch 26/30\n",
      "469/469 [==============================] - 2s 4ms/step - loss: 0.0053 - accuracy: 0.9983\n",
      "Epoch 27/30\n",
      "469/469 [==============================] - 2s 4ms/step - loss: 0.0073 - accuracy: 0.9975\n",
      "Epoch 28/30\n",
      "469/469 [==============================] - 2s 4ms/step - loss: 0.0073 - accuracy: 0.9977\n",
      "Epoch 29/30\n",
      "469/469 [==============================] - 2s 4ms/step - loss: 0.0053 - accuracy: 0.9982\n",
      "Epoch 30/30\n",
      "469/469 [==============================] - 2s 4ms/step - loss: 0.0044 - accuracy: 0.9985\n",
      "Error of rounding weights to 1-decimal: 0.007600009441375732\n",
      "2560\n",
      "Epoch 1/30\n",
      "469/469 [==============================] - 4s 6ms/step - loss: 0.2397 - accuracy: 0.9308\n",
      "Epoch 2/30\n",
      "469/469 [==============================] - 3s 6ms/step - loss: 0.0816 - accuracy: 0.9746\n",
      "Epoch 3/30\n",
      "469/469 [==============================] - 2s 5ms/step - loss: 0.0534 - accuracy: 0.9836\n",
      "Epoch 4/30\n",
      "469/469 [==============================] - 2s 5ms/step - loss: 0.0366 - accuracy: 0.9888\n",
      "Epoch 5/30\n",
      "469/469 [==============================] - 2s 5ms/step - loss: 0.0278 - accuracy: 0.9911\n",
      "Epoch 6/30\n",
      "469/469 [==============================] - 2s 5ms/step - loss: 0.0210 - accuracy: 0.9931\n",
      "Epoch 7/30\n",
      "469/469 [==============================] - 3s 5ms/step - loss: 0.0215 - accuracy: 0.9927\n",
      "Epoch 8/30\n",
      "469/469 [==============================] - 2s 5ms/step - loss: 0.0139 - accuracy: 0.9956: 0s - loss: 0.0130 - accura\n",
      "Epoch 9/30\n",
      "469/469 [==============================] - 2s 5ms/step - loss: 0.0151 - accuracy: 0.9948\n",
      "Epoch 10/30\n",
      "469/469 [==============================] - 2s 5ms/step - loss: 0.0132 - accuracy: 0.9956\n",
      "Epoch 11/30\n",
      "469/469 [==============================] - 2s 5ms/step - loss: 0.0146 - accuracy: 0.9953\n",
      "Epoch 12/30\n",
      "469/469 [==============================] - 2s 5ms/step - loss: 0.0083 - accuracy: 0.9971\n",
      "Epoch 13/30\n",
      "469/469 [==============================] - 3s 6ms/step - loss: 0.0137 - accuracy: 0.9952: 0s - loss: 0.0135 - accuracy: 0.99\n",
      "Epoch 14/30\n",
      "469/469 [==============================] - 3s 5ms/step - loss: 0.0105 - accuracy: 0.9966\n",
      "Epoch 15/30\n",
      "469/469 [==============================] - 3s 6ms/step - loss: 0.0087 - accuracy: 0.9971\n",
      "Epoch 16/30\n",
      "469/469 [==============================] - 3s 6ms/step - loss: 0.0099 - accuracy: 0.9967\n",
      "Epoch 17/30\n",
      "469/469 [==============================] - 3s 6ms/step - loss: 0.0070 - accuracy: 0.9977\n",
      "Epoch 18/30\n",
      "469/469 [==============================] - 3s 6ms/step - loss: 0.0081 - accuracy: 0.9973\n",
      "Epoch 19/30\n",
      "469/469 [==============================] - 3s 6ms/step - loss: 0.0051 - accuracy: 0.9985\n",
      "Epoch 20/30\n",
      "469/469 [==============================] - 3s 6ms/step - loss: 0.0127 - accuracy: 0.9958\n",
      "Epoch 21/30\n",
      "469/469 [==============================] - 3s 7ms/step - loss: 0.0071 - accuracy: 0.9977\n",
      "Epoch 22/30\n",
      "469/469 [==============================] - 3s 6ms/step - loss: 0.0038 - accuracy: 0.9988\n",
      "Epoch 23/30\n",
      "469/469 [==============================] - 3s 7ms/step - loss: 0.0089 - accuracy: 0.9972\n",
      "Epoch 24/30\n",
      "469/469 [==============================] - 3s 7ms/step - loss: 0.0082 - accuracy: 0.9974\n",
      "Epoch 25/30\n",
      "469/469 [==============================] - 3s 7ms/step - loss: 0.0068 - accuracy: 0.9980\n",
      "Epoch 26/30\n",
      "469/469 [==============================] - 3s 7ms/step - loss: 0.0049 - accuracy: 0.9985\n",
      "Epoch 27/30\n",
      "469/469 [==============================] - 3s 7ms/step - loss: 0.0072 - accuracy: 0.9979\n",
      "Epoch 28/30\n",
      "469/469 [==============================] - 3s 6ms/step - loss: 0.0067 - accuracy: 0.9977: 1s - loss: 0.0052 - accura -\n",
      "Epoch 29/30\n",
      "469/469 [==============================] - 3s 6ms/step - loss: 0.0053 - accuracy: 0.9985\n",
      "Epoch 30/30\n",
      "469/469 [==============================] - 3s 6ms/step - loss: 0.0045 - accuracy: 0.9987\n",
      "Error of rounding weights to 1-decimal: 0.0048999786376953125\n",
      "5120\n",
      "Epoch 1/30\n",
      "469/469 [==============================] - 8s 16ms/step - loss: 0.1984 - accuracy: 0.9419\n",
      "Epoch 2/30\n",
      "469/469 [==============================] - 7s 16ms/step - loss: 0.0713 - accuracy: 0.9776\n",
      "Epoch 3/30\n",
      "469/469 [==============================] - 7s 16ms/step - loss: 0.0452 - accuracy: 0.9856\n",
      "Epoch 4/30\n",
      "469/469 [==============================] - 7s 16ms/step - loss: 0.0342 - accuracy: 0.9893\n",
      "Epoch 5/30\n",
      "469/469 [==============================] - 7s 16ms/step - loss: 0.0248 - accuracy: 0.9916\n",
      "Epoch 6/30\n",
      "469/469 [==============================] - 7s 16ms/step - loss: 0.0205 - accuracy: 0.9927\n",
      "Epoch 7/30\n",
      "469/469 [==============================] - 7s 15ms/step - loss: 0.0196 - accuracy: 0.9936\n",
      "Epoch 8/30\n",
      "469/469 [==============================] - 7s 16ms/step - loss: 0.0176 - accuracy: 0.9942\n",
      "Epoch 9/30\n",
      "469/469 [==============================] - 8s 16ms/step - loss: 0.0186 - accuracy: 0.9941\n",
      "Epoch 10/30\n",
      "469/469 [==============================] - 7s 15ms/step - loss: 0.0105 - accuracy: 0.9968\n",
      "Epoch 11/30\n",
      "469/469 [==============================] - 7s 16ms/step - loss: 0.0140 - accuracy: 0.9955\n",
      "Epoch 12/30\n",
      "469/469 [==============================] - 7s 16ms/step - loss: 0.0117 - accuracy: 0.9964\n",
      "Epoch 13/30\n",
      "469/469 [==============================] - 7s 16ms/step - loss: 0.0116 - accuracy: 0.9964\n",
      "Epoch 14/30\n",
      "469/469 [==============================] - 8s 17ms/step - loss: 0.0135 - accuracy: 0.9960\n",
      "Epoch 15/30\n",
      "469/469 [==============================] - 7s 16ms/step - loss: 0.0085 - accuracy: 0.9972\n",
      "Epoch 16/30\n",
      "469/469 [==============================] - 7s 16ms/step - loss: 0.0104 - accuracy: 0.9966\n",
      "Epoch 17/30\n",
      "469/469 [==============================] - 7s 16ms/step - loss: 0.0100 - accuracy: 0.9969\n",
      "Epoch 18/30\n",
      "469/469 [==============================] - 8s 16ms/step - loss: 0.0081 - accuracy: 0.9977\n",
      "Epoch 19/30\n",
      "469/469 [==============================] - 7s 15ms/step - loss: 0.0064 - accuracy: 0.9981\n",
      "Epoch 20/30\n",
      "469/469 [==============================] - 7s 15ms/step - loss: 0.0099 - accuracy: 0.9972\n",
      "Epoch 21/30\n",
      "469/469 [==============================] - 7s 16ms/step - loss: 0.0064 - accuracy: 0.9983 1s - loss:\n",
      "Epoch 22/30\n",
      "469/469 [==============================] - 8s 16ms/step - loss: 0.0116 - accuracy: 0.9969 0s - loss: 0.0116 \n",
      "Epoch 23/30\n",
      "469/469 [==============================] - 7s 16ms/step - loss: 0.0071 - accuracy: 0.9977\n",
      "Epoch 24/30\n",
      "469/469 [==============================] - 8s 16ms/step - loss: 0.0077 - accuracy: 0.9980\n",
      "Epoch 25/30\n",
      "469/469 [==============================] - 7s 16ms/step - loss: 0.0054 - accuracy: 0.9985\n",
      "Epoch 26/30\n",
      "469/469 [==============================] - 7s 16ms/step - loss: 0.0084 - accuracy: 0.9978\n",
      "Epoch 27/30\n",
      "469/469 [==============================] - 7s 16ms/step - loss: 0.0053 - accuracy: 0.9984\n",
      "Epoch 28/30\n",
      "469/469 [==============================] - 7s 16ms/step - loss: 0.0100 - accuracy: 0.9973\n",
      "Epoch 29/30\n",
      "469/469 [==============================] - 7s 16ms/step - loss: 0.0073 - accuracy: 0.9983\n",
      "Epoch 30/30\n",
      "469/469 [==============================] - 7s 15ms/step - loss: 0.0059 - accuracy: 0.9984\n",
      "Error of rounding weights to 1-decimal: 0.004999995231628418\n",
      "640\n",
      "Epoch 1/30\n",
      "469/469 [==============================] - 3s 4ms/step - loss: 0.4432 - accuracy: 0.8636: 0s - loss: 0.5\n",
      "Epoch 2/30\n",
      "469/469 [==============================] - 1s 3ms/step - loss: 0.1461 - accuracy: 0.9557\n",
      "Epoch 3/30\n",
      "469/469 [==============================] - 2s 3ms/step - loss: 0.1071 - accuracy: 0.9672\n",
      "Epoch 4/30\n",
      "469/469 [==============================] - 2s 4ms/step - loss: 0.0881 - accuracy: 0.9728: 1s\n",
      "Epoch 5/30\n",
      "469/469 [==============================] - 2s 4ms/step - loss: 0.0725 - accuracy: 0.9771\n",
      "Epoch 6/30\n",
      "469/469 [==============================] - 2s 3ms/step - loss: 0.0612 - accuracy: 0.9809\n",
      "Epoch 7/30\n",
      "469/469 [==============================] - 2s 4ms/step - loss: 0.0527 - accuracy: 0.9836: 0s - loss: 0\n",
      "Epoch 8/30\n",
      "469/469 [==============================] - 1s 3ms/step - loss: 0.0457 - accuracy: 0.9852\n",
      "Epoch 9/30\n",
      "469/469 [==============================] - 1s 3ms/step - loss: 0.0414 - accuracy: 0.9866\n",
      "Epoch 10/30\n",
      "469/469 [==============================] - 1s 3ms/step - loss: 0.0357 - accuracy: 0.9883\n",
      "Epoch 11/30\n",
      "469/469 [==============================] - 2s 3ms/step - loss: 0.0313 - accuracy: 0.9898\n",
      "Epoch 12/30\n",
      "469/469 [==============================] - 2s 4ms/step - loss: 0.0290 - accuracy: 0.9901: 0s - loss: 0.0287 - accuracy: 0.\n",
      "Epoch 13/30\n",
      "469/469 [==============================] - 2s 4ms/step - loss: 0.0251 - accuracy: 0.9918: 0s - loss: 0\n",
      "Epoch 14/30\n",
      "469/469 [==============================] - 2s 3ms/step - loss: 0.0234 - accuracy: 0.9920\n",
      "Epoch 15/30\n",
      "469/469 [==============================] - 2s 4ms/step - loss: 0.0211 - accuracy: 0.9929: 0s - loss: 0.0212 - accuracy\n",
      "Epoch 16/30\n",
      "469/469 [==============================] - 2s 4ms/step - loss: 0.0176 - accuracy: 0.9941\n",
      "Epoch 17/30\n",
      "469/469 [==============================] - 2s 4ms/step - loss: 0.0189 - accuracy: 0.9933: 0s\n",
      "Epoch 18/30\n",
      "469/469 [==============================] - 2s 4ms/step - loss: 0.0178 - accuracy: 0.9940: 0s - loss: 0.0177 - accuracy\n",
      "Epoch 19/30\n",
      "469/469 [==============================] - 2s 4ms/step - loss: 0.0160 - accuracy: 0.9946\n",
      "Epoch 20/30\n",
      "469/469 [==============================] - 2s 4ms/step - loss: 0.0132 - accuracy: 0.9954\n",
      "Epoch 21/30\n",
      "469/469 [==============================] - 2s 4ms/step - loss: 0.0134 - accuracy: 0.9951\n",
      "Epoch 22/30\n",
      "469/469 [==============================] - 2s 4ms/step - loss: 0.0133 - accuracy: 0.9955\n",
      "Epoch 23/30\n",
      "469/469 [==============================] - 2s 4ms/step - loss: 0.0120 - accuracy: 0.9960\n",
      "Epoch 24/30\n",
      "469/469 [==============================] - 2s 4ms/step - loss: 0.0133 - accuracy: 0.9952\n",
      "Epoch 25/30\n",
      "469/469 [==============================] - 2s 3ms/step - loss: 0.0110 - accuracy: 0.9963\n",
      "Epoch 26/30\n",
      "469/469 [==============================] - 2s 4ms/step - loss: 0.0108 - accuracy: 0.9959\n",
      "Epoch 27/30\n",
      "469/469 [==============================] - 2s 4ms/step - loss: 0.0105 - accuracy: 0.9963\n",
      "Epoch 28/30\n",
      "469/469 [==============================] - 2s 4ms/step - loss: 0.0104 - accuracy: 0.9963\n",
      "Epoch 29/30\n",
      "469/469 [==============================] - 2s 4ms/step - loss: 0.0096 - accuracy: 0.9966\n",
      "Epoch 30/30\n",
      "469/469 [==============================] - 2s 3ms/step - loss: 0.0108 - accuracy: 0.9961\n",
      "Error of rounding weights to 1-decimal: 0.011399984359741211\n",
      "1280\n",
      "Epoch 1/30\n",
      "469/469 [==============================] - 3s 4ms/step - loss: 0.3072 - accuracy: 0.9083\n",
      "Epoch 2/30\n",
      "469/469 [==============================] - 2s 4ms/step - loss: 0.1043 - accuracy: 0.9678\n",
      "Epoch 3/30\n",
      "469/469 [==============================] - 2s 4ms/step - loss: 0.0701 - accuracy: 0.9783\n",
      "Epoch 4/30\n",
      "469/469 [==============================] - 2s 4ms/step - loss: 0.0509 - accuracy: 0.9834\n",
      "Epoch 5/30\n",
      "469/469 [==============================] - 2s 5ms/step - loss: 0.0401 - accuracy: 0.9869\n",
      "Epoch 6/30\n",
      "469/469 [==============================] - 2s 4ms/step - loss: 0.0319 - accuracy: 0.9895\n",
      "Epoch 7/30\n",
      "469/469 [==============================] - 2s 4ms/step - loss: 0.0278 - accuracy: 0.9911\n",
      "Epoch 8/30\n",
      "469/469 [==============================] - 3s 6ms/step - loss: 0.0213 - accuracy: 0.9928\n",
      "Epoch 9/30\n",
      "469/469 [==============================] - 2s 4ms/step - loss: 0.0190 - accuracy: 0.9934\n",
      "Epoch 10/30\n",
      "469/469 [==============================] - 2s 5ms/step - loss: 0.0170 - accuracy: 0.9941: 0s -\n",
      "Epoch 11/30\n",
      "469/469 [==============================] - 2s 5ms/step - loss: 0.0164 - accuracy: 0.9942\n",
      "Epoch 12/30\n",
      "469/469 [==============================] - 2s 5ms/step - loss: 0.0152 - accuracy: 0.9951\n",
      "Epoch 13/30\n",
      "469/469 [==============================] - 2s 5ms/step - loss: 0.0141 - accuracy: 0.9952\n",
      "Epoch 14/30\n",
      "469/469 [==============================] - 2s 5ms/step - loss: 0.0097 - accuracy: 0.9966\n",
      "Epoch 15/30\n",
      "469/469 [==============================] - 2s 5ms/step - loss: 0.0106 - accuracy: 0.9964\n",
      "Epoch 16/30\n",
      "469/469 [==============================] - 2s 5ms/step - loss: 0.0122 - accuracy: 0.9961\n",
      "Epoch 17/30\n",
      "469/469 [==============================] - 2s 4ms/step - loss: 0.0113 - accuracy: 0.9964: 0s - loss: 0.0109 - accura\n",
      "Epoch 18/30\n",
      "469/469 [==============================] - 2s 4ms/step - loss: 0.0096 - accuracy: 0.9969\n",
      "Epoch 19/30\n",
      "469/469 [==============================] - 2s 4ms/step - loss: 0.0119 - accuracy: 0.9963\n",
      "Epoch 20/30\n",
      "469/469 [==============================] - 2s 4ms/step - loss: 0.0118 - accuracy: 0.9960\n",
      "Epoch 21/30\n",
      "469/469 [==============================] - 2s 4ms/step - loss: 0.0085 - accuracy: 0.9973\n",
      "Epoch 22/30\n",
      "469/469 [==============================] - 2s 5ms/step - loss: 0.0074 - accuracy: 0.9976\n",
      "Epoch 23/30\n",
      "469/469 [==============================] - 2s 4ms/step - loss: 0.0100 - accuracy: 0.9967\n",
      "Epoch 24/30\n",
      "469/469 [==============================] - 2s 4ms/step - loss: 0.0099 - accuracy: 0.9968\n",
      "Epoch 25/30\n",
      "469/469 [==============================] - 2s 4ms/step - loss: 0.0061 - accuracy: 0.9980\n",
      "Epoch 26/30\n",
      "469/469 [==============================] - 2s 4ms/step - loss: 0.0069 - accuracy: 0.9980\n",
      "Epoch 27/30\n",
      "469/469 [==============================] - 2s 5ms/step - loss: 0.0100 - accuracy: 0.9969\n",
      "Epoch 28/30\n",
      "469/469 [==============================] - 2s 5ms/step - loss: 0.0037 - accuracy: 0.9988\n",
      "Epoch 29/30\n",
      "469/469 [==============================] - 2s 4ms/step - loss: 0.0115 - accuracy: 0.9965\n",
      "Epoch 30/30\n",
      "469/469 [==============================] - 2s 4ms/step - loss: 0.0077 - accuracy: 0.9973: 1s - loss: 0.0079 - ac - ETA: 0s -\n",
      "Error of rounding weights to 1-decimal: 0.009999990463256836\n",
      "2560\n",
      "Epoch 1/30\n",
      "469/469 [==============================] - 4s 7ms/step - loss: 0.2330 - accuracy: 0.9318\n",
      "Epoch 2/30\n",
      "469/469 [==============================] - 3s 7ms/step - loss: 0.0825 - accuracy: 0.9746\n",
      "Epoch 3/30\n",
      "469/469 [==============================] - 3s 6ms/step - loss: 0.0548 - accuracy: 0.9829: 0s - loss: 0.053 - ETA: 0s - loss: 0.0549 - accuracy: 0.98\n",
      "Epoch 4/30\n",
      "469/469 [==============================] - 3s 6ms/step - loss: 0.0423 - accuracy: 0.9865\n",
      "Epoch 5/30\n"
     ]
    },
    {
     "name": "stdout",
     "output_type": "stream",
     "text": [
      "469/469 [==============================] - 3s 6ms/step - loss: 0.0323 - accuracy: 0.9893\n",
      "Epoch 6/30\n",
      "469/469 [==============================] - 3s 7ms/step - loss: 0.0260 - accuracy: 0.9922\n",
      "Epoch 7/30\n",
      "469/469 [==============================] - 3s 6ms/step - loss: 0.0231 - accuracy: 0.9923\n",
      "Epoch 8/30\n",
      "469/469 [==============================] - 3s 6ms/step - loss: 0.0222 - accuracy: 0.9927\n",
      "Epoch 9/30\n",
      "469/469 [==============================] - 3s 7ms/step - loss: 0.0186 - accuracy: 0.9937\n",
      "Epoch 10/30\n",
      "469/469 [==============================] - 3s 6ms/step - loss: 0.0164 - accuracy: 0.9944\n",
      "Epoch 11/30\n",
      "469/469 [==============================] - 3s 6ms/step - loss: 0.0173 - accuracy: 0.9944: 0s - loss: 0.0175 - accura\n",
      "Epoch 12/30\n",
      "469/469 [==============================] - 3s 6ms/step - loss: 0.0131 - accuracy: 0.9959\n",
      "Epoch 13/30\n",
      "469/469 [==============================] - 3s 7ms/step - loss: 0.0097 - accuracy: 0.9970\n",
      "Epoch 14/30\n",
      "469/469 [==============================] - 3s 7ms/step - loss: 0.0169 - accuracy: 0.9944\n",
      "Epoch 15/30\n",
      "469/469 [==============================] - 3s 7ms/step - loss: 0.0119 - accuracy: 0.9963\n",
      "Epoch 16/30\n",
      "469/469 [==============================] - 3s 7ms/step - loss: 0.0101 - accuracy: 0.9969\n",
      "Epoch 17/30\n",
      "469/469 [==============================] - 3s 7ms/step - loss: 0.0092 - accuracy: 0.9969\n",
      "Epoch 18/30\n",
      "469/469 [==============================] - 3s 7ms/step - loss: 0.0113 - accuracy: 0.9964: 0s - l\n",
      "Epoch 19/30\n",
      "469/469 [==============================] - 4s 8ms/step - loss: 0.0097 - accuracy: 0.9969\n",
      "Epoch 20/30\n",
      "469/469 [==============================] - 3s 6ms/step - loss: 0.0053 - accuracy: 0.9983: 0s - loss: 0.0054 - accuracy: \n",
      "Epoch 21/30\n",
      "469/469 [==============================] - 4s 8ms/step - loss: 0.0107 - accuracy: 0.9969\n",
      "Epoch 22/30\n",
      "469/469 [==============================] - 3s 7ms/step - loss: 0.0094 - accuracy: 0.9970\n",
      "Epoch 23/30\n",
      "469/469 [==============================] - 3s 6ms/step - loss: 0.0080 - accuracy: 0.9979\n",
      "Epoch 24/30\n",
      "469/469 [==============================] - 3s 6ms/step - loss: 0.0079 - accuracy: 0.9978\n",
      "Epoch 25/30\n",
      "469/469 [==============================] - 3s 6ms/step - loss: 0.0099 - accuracy: 0.9969\n",
      "Epoch 26/30\n",
      "469/469 [==============================] - 3s 6ms/step - loss: 0.0073 - accuracy: 0.9977\n",
      "Epoch 27/30\n",
      "469/469 [==============================] - 3s 7ms/step - loss: 0.0079 - accuracy: 0.9977\n",
      "Epoch 28/30\n",
      "469/469 [==============================] - 3s 7ms/step - loss: 0.0076 - accuracy: 0.9978\n",
      "Epoch 29/30\n",
      "469/469 [==============================] - 3s 7ms/step - loss: 0.0070 - accuracy: 0.9979: 0s -\n",
      "Epoch 30/30\n",
      "469/469 [==============================] - 3s 6ms/step - loss: 0.0047 - accuracy: 0.9984\n",
      "Error of rounding weights to 1-decimal: 0.007700026035308838\n",
      "5120\n",
      "Epoch 1/30\n",
      "469/469 [==============================] - 12s 23ms/step - loss: 0.2008 - accuracy: 0.9394\n",
      "Epoch 2/30\n",
      "469/469 [==============================] - 10s 22ms/step - loss: 0.0776 - accuracy: 0.9759\n",
      "Epoch 3/30\n",
      "469/469 [==============================] - 10s 22ms/step - loss: 0.0527 - accuracy: 0.9836\n",
      "Epoch 4/30\n",
      "469/469 [==============================] - 10s 22ms/step - loss: 0.0371 - accuracy: 0.9880\n",
      "Epoch 5/30\n",
      "469/469 [==============================] - 11s 23ms/step - loss: 0.0348 - accuracy: 0.9890\n",
      "Epoch 6/30\n",
      "469/469 [==============================] - 11s 23ms/step - loss: 0.0283 - accuracy: 0.9912\n",
      "Epoch 7/30\n",
      "469/469 [==============================] - 11s 24ms/step - loss: 0.0251 - accuracy: 0.9924\n",
      "Epoch 8/30\n",
      "469/469 [==============================] - 10s 22ms/step - loss: 0.0206 - accuracy: 0.9933\n",
      "Epoch 9/30\n",
      "469/469 [==============================] - 11s 23ms/step - loss: 0.0176 - accuracy: 0.99440s - loss: 0.0175 - accu\n",
      "Epoch 10/30\n",
      "469/469 [==============================] - 10s 22ms/step - loss: 0.0158 - accuracy: 0.9952\n",
      "Epoch 11/30\n",
      "469/469 [==============================] - 11s 23ms/step - loss: 0.0163 - accuracy: 0.9952\n",
      "Epoch 12/30\n",
      "469/469 [==============================] - 10s 22ms/step - loss: 0.0129 - accuracy: 0.99610s - loss: 0.0122 - accura\n",
      "Epoch 13/30\n",
      "469/469 [==============================] - 11s 23ms/step - loss: 0.0149 - accuracy: 0.9959\n",
      "Epoch 14/30\n",
      "469/469 [==============================] - 11s 22ms/step - loss: 0.0114 - accuracy: 0.9967\n",
      "Epoch 15/30\n",
      "469/469 [==============================] - 10s 22ms/step - loss: 0.0124 - accuracy: 0.99620s - loss: 0.0124 - ac\n",
      "Epoch 16/30\n",
      "469/469 [==============================] - 10s 22ms/step - loss: 0.0141 - accuracy: 0.99590s - loss: 0.0144 - ac - ETA: 0s - loss: 0.0143 - accura - ETA: 0s - loss: 0.0141 - accuracy: 0.\n",
      "Epoch 17/30\n",
      "469/469 [==============================] - 10s 22ms/step - loss: 0.0116 - accuracy: 0.9967\n",
      "Epoch 18/30\n",
      "469/469 [==============================] - 10s 22ms/step - loss: 0.0098 - accuracy: 0.9970\n",
      "Epoch 19/30\n",
      "469/469 [==============================] - 10s 22ms/step - loss: 0.0118 - accuracy: 0.99690s - l\n",
      "Epoch 20/30\n",
      "469/469 [==============================] - 10s 22ms/step - loss: 0.0083 - accuracy: 0.99760s - loss: 0.0078 \n",
      "Epoch 21/30\n",
      "469/469 [==============================] - 10s 22ms/step - loss: 0.0091 - accuracy: 0.9976\n",
      "Epoch 22/30\n",
      "469/469 [==============================] - 10s 22ms/step - loss: 0.0085 - accuracy: 0.9974\n",
      "Epoch 23/30\n",
      "469/469 [==============================] - 10s 22ms/step - loss: 0.0107 - accuracy: 0.9973\n",
      "Epoch 24/30\n",
      "469/469 [==============================] - 10s 22ms/step - loss: 0.0091 - accuracy: 0.9974\n",
      "Epoch 25/30\n",
      "469/469 [==============================] - 10s 22ms/step - loss: 0.0059 - accuracy: 0.9985\n",
      "Epoch 26/30\n",
      "469/469 [==============================] - 10s 22ms/step - loss: 0.0102 - accuracy: 0.9972\n",
      "Epoch 27/30\n",
      "469/469 [==============================] - 10s 22ms/step - loss: 0.0086 - accuracy: 0.9975\n",
      "Epoch 28/30\n",
      "469/469 [==============================] - 10s 22ms/step - loss: 0.0062 - accuracy: 0.9983\n",
      "Epoch 29/30\n",
      "469/469 [==============================] - 10s 22ms/step - loss: 0.0081 - accuracy: 0.9979TA: \n",
      "Epoch 30/30\n",
      "469/469 [==============================] - 10s 22ms/step - loss: 0.0059 - accuracy: 0.9984\n",
      "Error of rounding weights to 1-decimal: 0.0034000277519226074\n"
     ]
    },
    {
     "data": {
      "application/vnd.plotly.v1+json": {
       "config": {
        "plotlyServerURL": "https://plot.ly"
       },
       "data": [
        {
         "name": "pre_rounded_results",
         "type": "bar",
         "x": [
          "2L, 64u",
          "2L, 128u",
          "2L, 256u",
          "2L, 512u",
          "3L, 64u",
          "3L, 128u",
          "3L, 256u",
          "3L, 512u",
          "4L, 64u",
          "4L, 128u",
          "4L, 256u",
          "4L, 512u"
         ],
         "y": [
          0.9473000168800354,
          0.9557999968528748,
          0.9635999798774719,
          0.9629999995231628,
          0.9427000284194946,
          0.9562000036239624,
          0.9567999839782715,
          0.9645000100135803,
          0.9484999775886536,
          0.9585999846458435,
          0.9624000191688538,
          0.9646000266075134
         ]
        },
        {
         "name": "post_rounded_results",
         "type": "bar",
         "x": [
          "2L, 64u",
          "2L, 128u",
          "2L, 256u",
          "2L, 512u",
          "3L, 64u",
          "3L, 128u",
          "3L, 256u",
          "3L, 512u",
          "4L, 64u",
          "4L, 128u",
          "4L, 256u",
          "4L, 512u"
         ],
         "y": [
          0.9390000104904175,
          0.947700023651123,
          0.9588000178337097,
          0.9603000283241272,
          0.9276999831199646,
          0.9485999941825867,
          0.9519000053405762,
          0.9595000147819519,
          0.9370999932289124,
          0.9485999941825867,
          0.9546999931335449,
          0.9611999988555908
         ]
        }
       ],
       "layout": {
        "barmode": "group",
        "template": {
         "data": {
          "bar": [
           {
            "error_x": {
             "color": "#2a3f5f"
            },
            "error_y": {
             "color": "#2a3f5f"
            },
            "marker": {
             "line": {
              "color": "#E5ECF6",
              "width": 0.5
             },
             "pattern": {
              "fillmode": "overlay",
              "size": 10,
              "solidity": 0.2
             }
            },
            "type": "bar"
           }
          ],
          "barpolar": [
           {
            "marker": {
             "line": {
              "color": "#E5ECF6",
              "width": 0.5
             },
             "pattern": {
              "fillmode": "overlay",
              "size": 10,
              "solidity": 0.2
             }
            },
            "type": "barpolar"
           }
          ],
          "carpet": [
           {
            "aaxis": {
             "endlinecolor": "#2a3f5f",
             "gridcolor": "white",
             "linecolor": "white",
             "minorgridcolor": "white",
             "startlinecolor": "#2a3f5f"
            },
            "baxis": {
             "endlinecolor": "#2a3f5f",
             "gridcolor": "white",
             "linecolor": "white",
             "minorgridcolor": "white",
             "startlinecolor": "#2a3f5f"
            },
            "type": "carpet"
           }
          ],
          "choropleth": [
           {
            "colorbar": {
             "outlinewidth": 0,
             "ticks": ""
            },
            "type": "choropleth"
           }
          ],
          "contour": [
           {
            "colorbar": {
             "outlinewidth": 0,
             "ticks": ""
            },
            "colorscale": [
             [
              0,
              "#0d0887"
             ],
             [
              0.1111111111111111,
              "#46039f"
             ],
             [
              0.2222222222222222,
              "#7201a8"
             ],
             [
              0.3333333333333333,
              "#9c179e"
             ],
             [
              0.4444444444444444,
              "#bd3786"
             ],
             [
              0.5555555555555556,
              "#d8576b"
             ],
             [
              0.6666666666666666,
              "#ed7953"
             ],
             [
              0.7777777777777778,
              "#fb9f3a"
             ],
             [
              0.8888888888888888,
              "#fdca26"
             ],
             [
              1,
              "#f0f921"
             ]
            ],
            "type": "contour"
           }
          ],
          "contourcarpet": [
           {
            "colorbar": {
             "outlinewidth": 0,
             "ticks": ""
            },
            "type": "contourcarpet"
           }
          ],
          "heatmap": [
           {
            "colorbar": {
             "outlinewidth": 0,
             "ticks": ""
            },
            "colorscale": [
             [
              0,
              "#0d0887"
             ],
             [
              0.1111111111111111,
              "#46039f"
             ],
             [
              0.2222222222222222,
              "#7201a8"
             ],
             [
              0.3333333333333333,
              "#9c179e"
             ],
             [
              0.4444444444444444,
              "#bd3786"
             ],
             [
              0.5555555555555556,
              "#d8576b"
             ],
             [
              0.6666666666666666,
              "#ed7953"
             ],
             [
              0.7777777777777778,
              "#fb9f3a"
             ],
             [
              0.8888888888888888,
              "#fdca26"
             ],
             [
              1,
              "#f0f921"
             ]
            ],
            "type": "heatmap"
           }
          ],
          "heatmapgl": [
           {
            "colorbar": {
             "outlinewidth": 0,
             "ticks": ""
            },
            "colorscale": [
             [
              0,
              "#0d0887"
             ],
             [
              0.1111111111111111,
              "#46039f"
             ],
             [
              0.2222222222222222,
              "#7201a8"
             ],
             [
              0.3333333333333333,
              "#9c179e"
             ],
             [
              0.4444444444444444,
              "#bd3786"
             ],
             [
              0.5555555555555556,
              "#d8576b"
             ],
             [
              0.6666666666666666,
              "#ed7953"
             ],
             [
              0.7777777777777778,
              "#fb9f3a"
             ],
             [
              0.8888888888888888,
              "#fdca26"
             ],
             [
              1,
              "#f0f921"
             ]
            ],
            "type": "heatmapgl"
           }
          ],
          "histogram": [
           {
            "marker": {
             "pattern": {
              "fillmode": "overlay",
              "size": 10,
              "solidity": 0.2
             }
            },
            "type": "histogram"
           }
          ],
          "histogram2d": [
           {
            "colorbar": {
             "outlinewidth": 0,
             "ticks": ""
            },
            "colorscale": [
             [
              0,
              "#0d0887"
             ],
             [
              0.1111111111111111,
              "#46039f"
             ],
             [
              0.2222222222222222,
              "#7201a8"
             ],
             [
              0.3333333333333333,
              "#9c179e"
             ],
             [
              0.4444444444444444,
              "#bd3786"
             ],
             [
              0.5555555555555556,
              "#d8576b"
             ],
             [
              0.6666666666666666,
              "#ed7953"
             ],
             [
              0.7777777777777778,
              "#fb9f3a"
             ],
             [
              0.8888888888888888,
              "#fdca26"
             ],
             [
              1,
              "#f0f921"
             ]
            ],
            "type": "histogram2d"
           }
          ],
          "histogram2dcontour": [
           {
            "colorbar": {
             "outlinewidth": 0,
             "ticks": ""
            },
            "colorscale": [
             [
              0,
              "#0d0887"
             ],
             [
              0.1111111111111111,
              "#46039f"
             ],
             [
              0.2222222222222222,
              "#7201a8"
             ],
             [
              0.3333333333333333,
              "#9c179e"
             ],
             [
              0.4444444444444444,
              "#bd3786"
             ],
             [
              0.5555555555555556,
              "#d8576b"
             ],
             [
              0.6666666666666666,
              "#ed7953"
             ],
             [
              0.7777777777777778,
              "#fb9f3a"
             ],
             [
              0.8888888888888888,
              "#fdca26"
             ],
             [
              1,
              "#f0f921"
             ]
            ],
            "type": "histogram2dcontour"
           }
          ],
          "mesh3d": [
           {
            "colorbar": {
             "outlinewidth": 0,
             "ticks": ""
            },
            "type": "mesh3d"
           }
          ],
          "parcoords": [
           {
            "line": {
             "colorbar": {
              "outlinewidth": 0,
              "ticks": ""
             }
            },
            "type": "parcoords"
           }
          ],
          "pie": [
           {
            "automargin": true,
            "type": "pie"
           }
          ],
          "scatter": [
           {
            "marker": {
             "colorbar": {
              "outlinewidth": 0,
              "ticks": ""
             }
            },
            "type": "scatter"
           }
          ],
          "scatter3d": [
           {
            "line": {
             "colorbar": {
              "outlinewidth": 0,
              "ticks": ""
             }
            },
            "marker": {
             "colorbar": {
              "outlinewidth": 0,
              "ticks": ""
             }
            },
            "type": "scatter3d"
           }
          ],
          "scattercarpet": [
           {
            "marker": {
             "colorbar": {
              "outlinewidth": 0,
              "ticks": ""
             }
            },
            "type": "scattercarpet"
           }
          ],
          "scattergeo": [
           {
            "marker": {
             "colorbar": {
              "outlinewidth": 0,
              "ticks": ""
             }
            },
            "type": "scattergeo"
           }
          ],
          "scattergl": [
           {
            "marker": {
             "colorbar": {
              "outlinewidth": 0,
              "ticks": ""
             }
            },
            "type": "scattergl"
           }
          ],
          "scattermapbox": [
           {
            "marker": {
             "colorbar": {
              "outlinewidth": 0,
              "ticks": ""
             }
            },
            "type": "scattermapbox"
           }
          ],
          "scatterpolar": [
           {
            "marker": {
             "colorbar": {
              "outlinewidth": 0,
              "ticks": ""
             }
            },
            "type": "scatterpolar"
           }
          ],
          "scatterpolargl": [
           {
            "marker": {
             "colorbar": {
              "outlinewidth": 0,
              "ticks": ""
             }
            },
            "type": "scatterpolargl"
           }
          ],
          "scatterternary": [
           {
            "marker": {
             "colorbar": {
              "outlinewidth": 0,
              "ticks": ""
             }
            },
            "type": "scatterternary"
           }
          ],
          "surface": [
           {
            "colorbar": {
             "outlinewidth": 0,
             "ticks": ""
            },
            "colorscale": [
             [
              0,
              "#0d0887"
             ],
             [
              0.1111111111111111,
              "#46039f"
             ],
             [
              0.2222222222222222,
              "#7201a8"
             ],
             [
              0.3333333333333333,
              "#9c179e"
             ],
             [
              0.4444444444444444,
              "#bd3786"
             ],
             [
              0.5555555555555556,
              "#d8576b"
             ],
             [
              0.6666666666666666,
              "#ed7953"
             ],
             [
              0.7777777777777778,
              "#fb9f3a"
             ],
             [
              0.8888888888888888,
              "#fdca26"
             ],
             [
              1,
              "#f0f921"
             ]
            ],
            "type": "surface"
           }
          ],
          "table": [
           {
            "cells": {
             "fill": {
              "color": "#EBF0F8"
             },
             "line": {
              "color": "white"
             }
            },
            "header": {
             "fill": {
              "color": "#C8D4E3"
             },
             "line": {
              "color": "white"
             }
            },
            "type": "table"
           }
          ]
         },
         "layout": {
          "annotationdefaults": {
           "arrowcolor": "#2a3f5f",
           "arrowhead": 0,
           "arrowwidth": 1
          },
          "autotypenumbers": "strict",
          "coloraxis": {
           "colorbar": {
            "outlinewidth": 0,
            "ticks": ""
           }
          },
          "colorscale": {
           "diverging": [
            [
             0,
             "#8e0152"
            ],
            [
             0.1,
             "#c51b7d"
            ],
            [
             0.2,
             "#de77ae"
            ],
            [
             0.3,
             "#f1b6da"
            ],
            [
             0.4,
             "#fde0ef"
            ],
            [
             0.5,
             "#f7f7f7"
            ],
            [
             0.6,
             "#e6f5d0"
            ],
            [
             0.7,
             "#b8e186"
            ],
            [
             0.8,
             "#7fbc41"
            ],
            [
             0.9,
             "#4d9221"
            ],
            [
             1,
             "#276419"
            ]
           ],
           "sequential": [
            [
             0,
             "#0d0887"
            ],
            [
             0.1111111111111111,
             "#46039f"
            ],
            [
             0.2222222222222222,
             "#7201a8"
            ],
            [
             0.3333333333333333,
             "#9c179e"
            ],
            [
             0.4444444444444444,
             "#bd3786"
            ],
            [
             0.5555555555555556,
             "#d8576b"
            ],
            [
             0.6666666666666666,
             "#ed7953"
            ],
            [
             0.7777777777777778,
             "#fb9f3a"
            ],
            [
             0.8888888888888888,
             "#fdca26"
            ],
            [
             1,
             "#f0f921"
            ]
           ],
           "sequentialminus": [
            [
             0,
             "#0d0887"
            ],
            [
             0.1111111111111111,
             "#46039f"
            ],
            [
             0.2222222222222222,
             "#7201a8"
            ],
            [
             0.3333333333333333,
             "#9c179e"
            ],
            [
             0.4444444444444444,
             "#bd3786"
            ],
            [
             0.5555555555555556,
             "#d8576b"
            ],
            [
             0.6666666666666666,
             "#ed7953"
            ],
            [
             0.7777777777777778,
             "#fb9f3a"
            ],
            [
             0.8888888888888888,
             "#fdca26"
            ],
            [
             1,
             "#f0f921"
            ]
           ]
          },
          "colorway": [
           "#636efa",
           "#EF553B",
           "#00cc96",
           "#ab63fa",
           "#FFA15A",
           "#19d3f3",
           "#FF6692",
           "#B6E880",
           "#FF97FF",
           "#FECB52"
          ],
          "font": {
           "color": "#2a3f5f"
          },
          "geo": {
           "bgcolor": "white",
           "lakecolor": "white",
           "landcolor": "#E5ECF6",
           "showlakes": true,
           "showland": true,
           "subunitcolor": "white"
          },
          "hoverlabel": {
           "align": "left"
          },
          "hovermode": "closest",
          "mapbox": {
           "style": "light"
          },
          "paper_bgcolor": "white",
          "plot_bgcolor": "#E5ECF6",
          "polar": {
           "angularaxis": {
            "gridcolor": "white",
            "linecolor": "white",
            "ticks": ""
           },
           "bgcolor": "#E5ECF6",
           "radialaxis": {
            "gridcolor": "white",
            "linecolor": "white",
            "ticks": ""
           }
          },
          "scene": {
           "xaxis": {
            "backgroundcolor": "#E5ECF6",
            "gridcolor": "white",
            "gridwidth": 2,
            "linecolor": "white",
            "showbackground": true,
            "ticks": "",
            "zerolinecolor": "white"
           },
           "yaxis": {
            "backgroundcolor": "#E5ECF6",
            "gridcolor": "white",
            "gridwidth": 2,
            "linecolor": "white",
            "showbackground": true,
            "ticks": "",
            "zerolinecolor": "white"
           },
           "zaxis": {
            "backgroundcolor": "#E5ECF6",
            "gridcolor": "white",
            "gridwidth": 2,
            "linecolor": "white",
            "showbackground": true,
            "ticks": "",
            "zerolinecolor": "white"
           }
          },
          "shapedefaults": {
           "line": {
            "color": "#2a3f5f"
           }
          },
          "ternary": {
           "aaxis": {
            "gridcolor": "white",
            "linecolor": "white",
            "ticks": ""
           },
           "baxis": {
            "gridcolor": "white",
            "linecolor": "white",
            "ticks": ""
           },
           "bgcolor": "#E5ECF6",
           "caxis": {
            "gridcolor": "white",
            "linecolor": "white",
            "ticks": ""
           }
          },
          "title": {
           "x": 0.05
          },
          "xaxis": {
           "automargin": true,
           "gridcolor": "white",
           "linecolor": "white",
           "ticks": "",
           "title": {
            "standoff": 15
           },
           "zerolinecolor": "white",
           "zerolinewidth": 2
          },
          "yaxis": {
           "automargin": true,
           "gridcolor": "white",
           "linecolor": "white",
           "ticks": "",
           "title": {
            "standoff": 15
           },
           "zerolinecolor": "white",
           "zerolinewidth": 2
          }
         }
        }
       }
      },
      "text/html": [
       "<div>                            <div id=\"e52ca95d-4dfa-495b-b00d-1338aa153882\" class=\"plotly-graph-div\" style=\"height:525px; width:100%;\"></div>            <script type=\"text/javascript\">                require([\"plotly\"], function(Plotly) {                    window.PLOTLYENV=window.PLOTLYENV || {};                                    if (document.getElementById(\"e52ca95d-4dfa-495b-b00d-1338aa153882\")) {                    Plotly.newPlot(                        \"e52ca95d-4dfa-495b-b00d-1338aa153882\",                        [{\"name\":\"pre_rounded_results\",\"type\":\"bar\",\"x\":[\"2L, 64u\",\"2L, 128u\",\"2L, 256u\",\"2L, 512u\",\"3L, 64u\",\"3L, 128u\",\"3L, 256u\",\"3L, 512u\",\"4L, 64u\",\"4L, 128u\",\"4L, 256u\",\"4L, 512u\"],\"y\":[0.9473000168800354,0.9557999968528748,0.9635999798774719,0.9629999995231628,0.9427000284194946,0.9562000036239624,0.9567999839782715,0.9645000100135803,0.9484999775886536,0.9585999846458435,0.9624000191688538,0.9646000266075134]},{\"name\":\"post_rounded_results\",\"type\":\"bar\",\"x\":[\"2L, 64u\",\"2L, 128u\",\"2L, 256u\",\"2L, 512u\",\"3L, 64u\",\"3L, 128u\",\"3L, 256u\",\"3L, 512u\",\"4L, 64u\",\"4L, 128u\",\"4L, 256u\",\"4L, 512u\"],\"y\":[0.9390000104904175,0.947700023651123,0.9588000178337097,0.9603000283241272,0.9276999831199646,0.9485999941825867,0.9519000053405762,0.9595000147819519,0.9370999932289124,0.9485999941825867,0.9546999931335449,0.9611999988555908]}],                        {\"barmode\":\"group\",\"template\":{\"data\":{\"bar\":[{\"error_x\":{\"color\":\"#2a3f5f\"},\"error_y\":{\"color\":\"#2a3f5f\"},\"marker\":{\"line\":{\"color\":\"#E5ECF6\",\"width\":0.5},\"pattern\":{\"fillmode\":\"overlay\",\"size\":10,\"solidity\":0.2}},\"type\":\"bar\"}],\"barpolar\":[{\"marker\":{\"line\":{\"color\":\"#E5ECF6\",\"width\":0.5},\"pattern\":{\"fillmode\":\"overlay\",\"size\":10,\"solidity\":0.2}},\"type\":\"barpolar\"}],\"carpet\":[{\"aaxis\":{\"endlinecolor\":\"#2a3f5f\",\"gridcolor\":\"white\",\"linecolor\":\"white\",\"minorgridcolor\":\"white\",\"startlinecolor\":\"#2a3f5f\"},\"baxis\":{\"endlinecolor\":\"#2a3f5f\",\"gridcolor\":\"white\",\"linecolor\":\"white\",\"minorgridcolor\":\"white\",\"startlinecolor\":\"#2a3f5f\"},\"type\":\"carpet\"}],\"choropleth\":[{\"colorbar\":{\"outlinewidth\":0,\"ticks\":\"\"},\"type\":\"choropleth\"}],\"contour\":[{\"colorbar\":{\"outlinewidth\":0,\"ticks\":\"\"},\"colorscale\":[[0.0,\"#0d0887\"],[0.1111111111111111,\"#46039f\"],[0.2222222222222222,\"#7201a8\"],[0.3333333333333333,\"#9c179e\"],[0.4444444444444444,\"#bd3786\"],[0.5555555555555556,\"#d8576b\"],[0.6666666666666666,\"#ed7953\"],[0.7777777777777778,\"#fb9f3a\"],[0.8888888888888888,\"#fdca26\"],[1.0,\"#f0f921\"]],\"type\":\"contour\"}],\"contourcarpet\":[{\"colorbar\":{\"outlinewidth\":0,\"ticks\":\"\"},\"type\":\"contourcarpet\"}],\"heatmap\":[{\"colorbar\":{\"outlinewidth\":0,\"ticks\":\"\"},\"colorscale\":[[0.0,\"#0d0887\"],[0.1111111111111111,\"#46039f\"],[0.2222222222222222,\"#7201a8\"],[0.3333333333333333,\"#9c179e\"],[0.4444444444444444,\"#bd3786\"],[0.5555555555555556,\"#d8576b\"],[0.6666666666666666,\"#ed7953\"],[0.7777777777777778,\"#fb9f3a\"],[0.8888888888888888,\"#fdca26\"],[1.0,\"#f0f921\"]],\"type\":\"heatmap\"}],\"heatmapgl\":[{\"colorbar\":{\"outlinewidth\":0,\"ticks\":\"\"},\"colorscale\":[[0.0,\"#0d0887\"],[0.1111111111111111,\"#46039f\"],[0.2222222222222222,\"#7201a8\"],[0.3333333333333333,\"#9c179e\"],[0.4444444444444444,\"#bd3786\"],[0.5555555555555556,\"#d8576b\"],[0.6666666666666666,\"#ed7953\"],[0.7777777777777778,\"#fb9f3a\"],[0.8888888888888888,\"#fdca26\"],[1.0,\"#f0f921\"]],\"type\":\"heatmapgl\"}],\"histogram\":[{\"marker\":{\"pattern\":{\"fillmode\":\"overlay\",\"size\":10,\"solidity\":0.2}},\"type\":\"histogram\"}],\"histogram2d\":[{\"colorbar\":{\"outlinewidth\":0,\"ticks\":\"\"},\"colorscale\":[[0.0,\"#0d0887\"],[0.1111111111111111,\"#46039f\"],[0.2222222222222222,\"#7201a8\"],[0.3333333333333333,\"#9c179e\"],[0.4444444444444444,\"#bd3786\"],[0.5555555555555556,\"#d8576b\"],[0.6666666666666666,\"#ed7953\"],[0.7777777777777778,\"#fb9f3a\"],[0.8888888888888888,\"#fdca26\"],[1.0,\"#f0f921\"]],\"type\":\"histogram2d\"}],\"histogram2dcontour\":[{\"colorbar\":{\"outlinewidth\":0,\"ticks\":\"\"},\"colorscale\":[[0.0,\"#0d0887\"],[0.1111111111111111,\"#46039f\"],[0.2222222222222222,\"#7201a8\"],[0.3333333333333333,\"#9c179e\"],[0.4444444444444444,\"#bd3786\"],[0.5555555555555556,\"#d8576b\"],[0.6666666666666666,\"#ed7953\"],[0.7777777777777778,\"#fb9f3a\"],[0.8888888888888888,\"#fdca26\"],[1.0,\"#f0f921\"]],\"type\":\"histogram2dcontour\"}],\"mesh3d\":[{\"colorbar\":{\"outlinewidth\":0,\"ticks\":\"\"},\"type\":\"mesh3d\"}],\"parcoords\":[{\"line\":{\"colorbar\":{\"outlinewidth\":0,\"ticks\":\"\"}},\"type\":\"parcoords\"}],\"pie\":[{\"automargin\":true,\"type\":\"pie\"}],\"scatter\":[{\"marker\":{\"colorbar\":{\"outlinewidth\":0,\"ticks\":\"\"}},\"type\":\"scatter\"}],\"scatter3d\":[{\"line\":{\"colorbar\":{\"outlinewidth\":0,\"ticks\":\"\"}},\"marker\":{\"colorbar\":{\"outlinewidth\":0,\"ticks\":\"\"}},\"type\":\"scatter3d\"}],\"scattercarpet\":[{\"marker\":{\"colorbar\":{\"outlinewidth\":0,\"ticks\":\"\"}},\"type\":\"scattercarpet\"}],\"scattergeo\":[{\"marker\":{\"colorbar\":{\"outlinewidth\":0,\"ticks\":\"\"}},\"type\":\"scattergeo\"}],\"scattergl\":[{\"marker\":{\"colorbar\":{\"outlinewidth\":0,\"ticks\":\"\"}},\"type\":\"scattergl\"}],\"scattermapbox\":[{\"marker\":{\"colorbar\":{\"outlinewidth\":0,\"ticks\":\"\"}},\"type\":\"scattermapbox\"}],\"scatterpolar\":[{\"marker\":{\"colorbar\":{\"outlinewidth\":0,\"ticks\":\"\"}},\"type\":\"scatterpolar\"}],\"scatterpolargl\":[{\"marker\":{\"colorbar\":{\"outlinewidth\":0,\"ticks\":\"\"}},\"type\":\"scatterpolargl\"}],\"scatterternary\":[{\"marker\":{\"colorbar\":{\"outlinewidth\":0,\"ticks\":\"\"}},\"type\":\"scatterternary\"}],\"surface\":[{\"colorbar\":{\"outlinewidth\":0,\"ticks\":\"\"},\"colorscale\":[[0.0,\"#0d0887\"],[0.1111111111111111,\"#46039f\"],[0.2222222222222222,\"#7201a8\"],[0.3333333333333333,\"#9c179e\"],[0.4444444444444444,\"#bd3786\"],[0.5555555555555556,\"#d8576b\"],[0.6666666666666666,\"#ed7953\"],[0.7777777777777778,\"#fb9f3a\"],[0.8888888888888888,\"#fdca26\"],[1.0,\"#f0f921\"]],\"type\":\"surface\"}],\"table\":[{\"cells\":{\"fill\":{\"color\":\"#EBF0F8\"},\"line\":{\"color\":\"white\"}},\"header\":{\"fill\":{\"color\":\"#C8D4E3\"},\"line\":{\"color\":\"white\"}},\"type\":\"table\"}]},\"layout\":{\"annotationdefaults\":{\"arrowcolor\":\"#2a3f5f\",\"arrowhead\":0,\"arrowwidth\":1},\"autotypenumbers\":\"strict\",\"coloraxis\":{\"colorbar\":{\"outlinewidth\":0,\"ticks\":\"\"}},\"colorscale\":{\"diverging\":[[0,\"#8e0152\"],[0.1,\"#c51b7d\"],[0.2,\"#de77ae\"],[0.3,\"#f1b6da\"],[0.4,\"#fde0ef\"],[0.5,\"#f7f7f7\"],[0.6,\"#e6f5d0\"],[0.7,\"#b8e186\"],[0.8,\"#7fbc41\"],[0.9,\"#4d9221\"],[1,\"#276419\"]],\"sequential\":[[0.0,\"#0d0887\"],[0.1111111111111111,\"#46039f\"],[0.2222222222222222,\"#7201a8\"],[0.3333333333333333,\"#9c179e\"],[0.4444444444444444,\"#bd3786\"],[0.5555555555555556,\"#d8576b\"],[0.6666666666666666,\"#ed7953\"],[0.7777777777777778,\"#fb9f3a\"],[0.8888888888888888,\"#fdca26\"],[1.0,\"#f0f921\"]],\"sequentialminus\":[[0.0,\"#0d0887\"],[0.1111111111111111,\"#46039f\"],[0.2222222222222222,\"#7201a8\"],[0.3333333333333333,\"#9c179e\"],[0.4444444444444444,\"#bd3786\"],[0.5555555555555556,\"#d8576b\"],[0.6666666666666666,\"#ed7953\"],[0.7777777777777778,\"#fb9f3a\"],[0.8888888888888888,\"#fdca26\"],[1.0,\"#f0f921\"]]},\"colorway\":[\"#636efa\",\"#EF553B\",\"#00cc96\",\"#ab63fa\",\"#FFA15A\",\"#19d3f3\",\"#FF6692\",\"#B6E880\",\"#FF97FF\",\"#FECB52\"],\"font\":{\"color\":\"#2a3f5f\"},\"geo\":{\"bgcolor\":\"white\",\"lakecolor\":\"white\",\"landcolor\":\"#E5ECF6\",\"showlakes\":true,\"showland\":true,\"subunitcolor\":\"white\"},\"hoverlabel\":{\"align\":\"left\"},\"hovermode\":\"closest\",\"mapbox\":{\"style\":\"light\"},\"paper_bgcolor\":\"white\",\"plot_bgcolor\":\"#E5ECF6\",\"polar\":{\"angularaxis\":{\"gridcolor\":\"white\",\"linecolor\":\"white\",\"ticks\":\"\"},\"bgcolor\":\"#E5ECF6\",\"radialaxis\":{\"gridcolor\":\"white\",\"linecolor\":\"white\",\"ticks\":\"\"}},\"scene\":{\"xaxis\":{\"backgroundcolor\":\"#E5ECF6\",\"gridcolor\":\"white\",\"gridwidth\":2,\"linecolor\":\"white\",\"showbackground\":true,\"ticks\":\"\",\"zerolinecolor\":\"white\"},\"yaxis\":{\"backgroundcolor\":\"#E5ECF6\",\"gridcolor\":\"white\",\"gridwidth\":2,\"linecolor\":\"white\",\"showbackground\":true,\"ticks\":\"\",\"zerolinecolor\":\"white\"},\"zaxis\":{\"backgroundcolor\":\"#E5ECF6\",\"gridcolor\":\"white\",\"gridwidth\":2,\"linecolor\":\"white\",\"showbackground\":true,\"ticks\":\"\",\"zerolinecolor\":\"white\"}},\"shapedefaults\":{\"line\":{\"color\":\"#2a3f5f\"}},\"ternary\":{\"aaxis\":{\"gridcolor\":\"white\",\"linecolor\":\"white\",\"ticks\":\"\"},\"baxis\":{\"gridcolor\":\"white\",\"linecolor\":\"white\",\"ticks\":\"\"},\"bgcolor\":\"#E5ECF6\",\"caxis\":{\"gridcolor\":\"white\",\"linecolor\":\"white\",\"ticks\":\"\"}},\"title\":{\"x\":0.05},\"xaxis\":{\"automargin\":true,\"gridcolor\":\"white\",\"linecolor\":\"white\",\"ticks\":\"\",\"title\":{\"standoff\":15},\"zerolinecolor\":\"white\",\"zerolinewidth\":2},\"yaxis\":{\"automargin\":true,\"gridcolor\":\"white\",\"linecolor\":\"white\",\"ticks\":\"\",\"title\":{\"standoff\":15},\"zerolinecolor\":\"white\",\"zerolinewidth\":2}}}},                        {\"responsive\": true}                    ).then(function(){\n",
       "                            \n",
       "var gd = document.getElementById('e52ca95d-4dfa-495b-b00d-1338aa153882');\n",
       "var x = new MutationObserver(function (mutations, observer) {{\n",
       "        var display = window.getComputedStyle(gd).display;\n",
       "        if (!display || display === 'none') {{\n",
       "            console.log([gd, 'removed!']);\n",
       "            Plotly.purge(gd);\n",
       "            observer.disconnect();\n",
       "        }}\n",
       "}});\n",
       "\n",
       "// Listen for the removal of the full notebook cells\n",
       "var notebookContainer = gd.closest('#notebook-container');\n",
       "if (notebookContainer) {{\n",
       "    x.observe(notebookContainer, {childList: true});\n",
       "}}\n",
       "\n",
       "// Listen for the clearing of the current output cell\n",
       "var outputEl = gd.closest('.output');\n",
       "if (outputEl) {{\n",
       "    x.observe(outputEl, {childList: true});\n",
       "}}\n",
       "\n",
       "                        })                };                });            </script>        </div>"
      ]
     },
     "metadata": {},
     "output_type": "display_data"
    }
   ],
   "source": [
    "batch_size = 128\n",
    "epochs = 30\n",
    "units = [64,128,256,512]#[10,20,30,40,50,60,70,80,90,100,110,120,130,140,150,160,170,180,190,200,210,220,230,240,250,260,270,280,290,300]\n",
    "no_of_layers = [2,3,4]\n",
    "weight_rounding=1\n",
    "image_rounding=0\n",
    "x = []\n",
    "y = []\n",
    "z = []\n",
    "#Multi model setup\n",
    "for number_of_layers in no_of_layers:\n",
    "    for i in units:\n",
    "        print(i*10)\n",
    "        model = fit_and_evaluate_model(X_pca_train=X_pca_train, \n",
    "                                       y_train=y_train, \n",
    "                                       batch_size=batch_size, \n",
    "                                       epochs=epochs, \n",
    "                                       neurons=i,\n",
    "                                       num_classes=num_classes,\n",
    "                                       no_of_layers=number_of_layers)\n",
    "        [x,y,z] = generate_pre_and_post(model= model,\n",
    "                                        X_pca_test= X_pca_test,\n",
    "                                        y_test=y_test, \n",
    "                                        neurons=i, \n",
    "                                        weight_rounding=weight_rounding, \n",
    "                                        image_rounding=image_rounding,\n",
    "                                        no_of_layers=number_of_layers,\n",
    "                                        x=x, \n",
    "                                        y=y, \n",
    "                                        z=z)\n",
    "plot_accuracy_vs(x,y,z)\n"
   ]
  },
  {
   "cell_type": "code",
   "execution_count": null,
   "metadata": {},
   "outputs": [],
   "source": [
    "#Architecture documentation\n",
    "plot_accuracy_vs(x,y,z)\n",
    "df = pd.DataFrame(a)\n",
    "df[(df.max(axis=1) > 0.4) & (df.max(axis=1) < 0.6)].max(axis=1)"
   ]
  },
  {
   "cell_type": "code",
   "execution_count": null,
   "metadata": {},
   "outputs": [],
   "source": [
    "x = [\"2l,128u\", \"3l,128u\", \"2l,256u\", \"3l,256u\", \"2l,512u\", \"3l,512u\"]\n",
    "y = [0.9617000222206116, 0.9593999981880188, 0.9624000191688538, 0.9639000296592712, 0.9681000113487244, 0.96670001745224]\n",
    "z = [0.9556000232696533, 0.954200029373169, 0.9595000147819519, 0.9596999883651733, 0.9621000289916992, 0.9645000100135803]"
   ]
  },
  {
   "cell_type": "code",
   "execution_count": 7,
   "metadata": {},
   "outputs": [
    {
     "ename": "NameError",
     "evalue": "name 'x_test' is not defined",
     "output_type": "error",
     "traceback": [
      "\u001b[1;31m---------------------------------------------------------------------------\u001b[0m",
      "\u001b[1;31mNameError\u001b[0m                                 Traceback (most recent call last)",
      "\u001b[1;32m~\\AppData\\Local\\Temp/ipykernel_13368/453089913.py\u001b[0m in \u001b[0;36m<module>\u001b[1;34m\u001b[0m\n\u001b[0;32m      2\u001b[0m \u001b[1;32mimport\u001b[0m \u001b[0mrandom\u001b[0m\u001b[1;33m\u001b[0m\u001b[1;33m\u001b[0m\u001b[0m\n\u001b[0;32m      3\u001b[0m \u001b[0mcurrent_image\u001b[0m \u001b[1;33m=\u001b[0m \u001b[1;36m210\u001b[0m\u001b[1;31m#random.randint(0, len(x_test))\u001b[0m\u001b[1;33m\u001b[0m\u001b[1;33m\u001b[0m\u001b[0m\n\u001b[1;32m----> 4\u001b[1;33m \u001b[0mplt\u001b[0m\u001b[1;33m.\u001b[0m\u001b[0mimshow\u001b[0m\u001b[1;33m(\u001b[0m\u001b[0mx_test\u001b[0m\u001b[1;33m[\u001b[0m\u001b[0mcurrent_image\u001b[0m\u001b[1;33m]\u001b[0m\u001b[1;33m.\u001b[0m\u001b[0mreshape\u001b[0m\u001b[1;33m(\u001b[0m\u001b[1;36m28\u001b[0m\u001b[1;33m,\u001b[0m\u001b[1;36m28\u001b[0m\u001b[1;33m)\u001b[0m\u001b[1;33m)\u001b[0m\u001b[1;33m\u001b[0m\u001b[1;33m\u001b[0m\u001b[0m\n\u001b[0m\u001b[0;32m      5\u001b[0m \u001b[0mplt\u001b[0m\u001b[1;33m.\u001b[0m\u001b[0mshow\u001b[0m\u001b[1;33m(\u001b[0m\u001b[1;33m)\u001b[0m\u001b[1;33m\u001b[0m\u001b[1;33m\u001b[0m\u001b[0m\n\u001b[0;32m      6\u001b[0m \u001b[0mprint\u001b[0m\u001b[1;33m(\u001b[0m\u001b[0my_test\u001b[0m\u001b[1;33m[\u001b[0m\u001b[0mcurrent_image\u001b[0m\u001b[1;33m]\u001b[0m\u001b[1;33m)\u001b[0m\u001b[1;33m\u001b[0m\u001b[1;33m\u001b[0m\u001b[0m\n",
      "\u001b[1;31mNameError\u001b[0m: name 'x_test' is not defined"
     ]
    }
   ],
   "source": [
    "#Direct evaluation\n",
    "import random\n",
    "current_image = 210#random.randint(0, len(x_test))\n",
    "plt.imshow(x_test[current_image].reshape(28,28))\n",
    "plt.show()\n",
    "print(y_test[current_image])\n",
    "input_image = (X_pca_test[current_image]).round(0).astype(int)\n",
    "a = model.predict(X_pca_test.round(0))\n",
    "n=0\n",
    "for i in a[current_image]:\n",
    "    print(\"certancy of class {}: {:,.7f}\".format(n, i))\n",
    "    n+=1\n",
    "input_image"
   ]
  },
  {
   "cell_type": "code",
   "execution_count": 6,
   "metadata": {},
   "outputs": [
    {
     "name": "stdout",
     "output_type": "stream",
     "text": [
      "Certancy of class 0: 0.0000000\n",
      "Certancy of class 1: 0.0000000\n",
      "Certancy of class 2: 0.0000000\n",
      "Certancy of class 3: 0.0000000\n",
      "Certancy of class 4: 0.0392410\n",
      "Certancy of class 5: 0.0000000\n",
      "Certancy of class 6: 0.9607590\n",
      "Certancy of class 7: 0.0000000\n",
      "Certancy of class 8: 0.0000000\n",
      "Certancy of class 9: 0.0000000\n"
     ]
    }
   ],
   "source": [
    "from math import exp\n",
    "current_image = 210\n",
    "def execute_relu(neuron_vector: list) -> pd.Series:\n",
    "    n = pd.Series(neuron_vector)\n",
    "    n[n < 0] = 0\n",
    "    return n\n",
    "\n",
    "def execute_layer(Weight_matrix: pd.DataFrame, input_neurons: pd.Series) -> pd.Series:\n",
    "    q=[]\n",
    "    for i in range(Weight_matrix.shape[1]):\n",
    "        q.append(sum(Weight_matrix[i]*input_neurons))\n",
    "    layer_vector = execute_relu(q)\n",
    "    return pd.Series(q).append(pd.Series(1)).reset_index(drop=True) #Added the one for the next bias\n",
    "def execute_softmax(just_before_output):\n",
    "    exps= []\n",
    "    for i in just_before_output:\n",
    "        exps.append(exp(i))\n",
    "    q = pd.Series(exps)\n",
    "\n",
    "    p0 = q[0] / q.sum()\n",
    "    p1 = q[1] / q.sum()\n",
    "    p2 = q[2] / q.sum()\n",
    "    p3 = q[3] / q.sum()\n",
    "    p4 = q[4] / q.sum()\n",
    "    p5 = q[5] / q.sum()\n",
    "    p6 = q[6] / q.sum()\n",
    "    p7 = q[7] / q.sum()\n",
    "    p8 = q[8] / q.sum()\n",
    "    p9 = q[9] / q.sum()\n",
    "    total =[p0,p1,p2,p3,p4,p5,p6,p7,p8,p9]\n",
    "    n = 0\n",
    "    for i in total:\n",
    "        print(\"Certancy of class {}: {:,.7f}\".format(n, i))\n",
    "        n+=1\n",
    "\n",
    "W1 = pd.DataFrame(model.layers[0].get_weights()[0]).append(pd.DataFrame(model.layers[0].get_weights()[1]).T).reset_index(drop=True)\n",
    "W2 = pd.DataFrame(model.layers[1].get_weights()[0]).append(pd.DataFrame(model.layers[1].get_weights()[1]).T).reset_index(drop=True)\n",
    "W3 = pd.DataFrame(model.layers[2].get_weights()[0]).append(pd.DataFrame(model.layers[2].get_weights()[1]).T).reset_index(drop=True)\n",
    "input_img = pd.Series(X_pca_test.round(0)[current_image]).append(pd.Series(1)).reset_index(drop=True)\n",
    "\n",
    "neurons_h1 = execute_layer(W1, input_img)\n",
    "neurons_h2 = execute_layer(W2, neurons_h1)\n",
    "just_before_output = execute_layer(W3, neurons_h2)\n",
    "\n",
    "execute_softmax(just_before_output=just_before_output)"
   ]
  }
 ],
 "metadata": {
  "colab": {
   "collapsed_sections": [
    "3gZLZT9Kt0al"
   ],
   "name": "Proof of weight reduction",
   "provenance": [],
   "toc_visible": true
  },
  "kernelspec": {
   "display_name": "Python 3 (ipykernel)",
   "language": "python",
   "name": "python3"
  },
  "language_info": {
   "codemirror_mode": {
    "name": "ipython",
    "version": 3
   },
   "file_extension": ".py",
   "mimetype": "text/x-python",
   "name": "python",
   "nbconvert_exporter": "python",
   "pygments_lexer": "ipython3",
   "version": "3.9.7"
  }
 },
 "nbformat": 4,
 "nbformat_minor": 1
}
