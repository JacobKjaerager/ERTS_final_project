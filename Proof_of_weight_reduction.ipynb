{
  "nbformat": 4,
  "nbformat_minor": 0,
  "metadata": {
    "colab": {
      "name": "Proof of weight reduction",
      "provenance": [],
      "collapsed_sections": [
        "3gZLZT9Kt0al"
      ],
      "toc_visible": true
    },
    "kernelspec": {
      "display_name": "Python 3",
      "language": "python",
      "name": "python3"
    },
    "language_info": {
      "codemirror_mode": {
        "name": "ipython",
        "version": 3
      },
      "file_extension": ".py",
      "mimetype": "text/x-python",
      "name": "python",
      "nbconvert_exporter": "python",
      "pygments_lexer": "ipython3",
      "version": "3.7.0"
    }
  },
  "cells": [
    {
      "cell_type": "markdown",
      "metadata": {
        "id": "92NVcfVZt0ae"
      },
      "source": [
        "# Simple MNIST convnet\n",
        "\n",
        "**Author:** [fchollet](https://twitter.com/fchollet)<br>\n",
        "**Date created:** 2015/06/19<br>\n",
        "**Last modified:** 2020/04/21<br>\n",
        "**Description:** A simple convnet that achieves ~99% test accuracy on MNIST."
      ]
    },
    {
      "cell_type": "markdown",
      "metadata": {
        "id": "3gZLZT9Kt0al"
      },
      "source": [
        "## Setup"
      ]
    },
    {
      "cell_type": "code",
      "metadata": {
        "id": "Dhy7acfqt0am"
      },
      "source": [
        "import numpy as np\n",
        "from tensorflow import keras\n",
        "from tensorflow.keras import layers\n",
        "from sklearn.decomposition import PCA"
      ],
      "execution_count": 55,
      "outputs": []
    },
    {
      "cell_type": "markdown",
      "metadata": {
        "id": "yYEE9-2Mt0ap"
      },
      "source": [
        "## Prepare the data"
      ]
    },
    {
      "cell_type": "code",
      "metadata": {
        "id": "ANCytu_Pt0ap",
        "colab": {
          "base_uri": "https://localhost:8080/"
        },
        "outputId": "fc30bc7e-5d54-4f55-92d8-3c72d7519be5"
      },
      "source": [
        "# Model / data parameters\n",
        "num_classes = 10\n",
        "input_shape = 80\n",
        "\n",
        "# the data, split between train and test sets\n",
        "(x_train, y_train), (x_test, y_test) = keras.datasets.mnist.load_data()\n",
        "\n",
        "# Scale images to the [0, 1] range\n",
        "x_train = x_train.astype(\"float32\") / 255\n",
        "x_test = x_test.astype(\"float32\") / 255\n",
        "\n",
        "reshaped_training_data = x_train.ravel().reshape(x_train.shape[0], x_train.shape[1]*x_train.shape[2])\n",
        "reshaped_test_data = x_test.ravel().reshape(x_test.shape[0], x_test.shape[1]*x_test.shape[2])\n",
        "\n",
        "print(\"x_train shape:\", reshaped_training_data.shape)\n",
        "print(reshaped_training_data.shape[0], \"train samples\")\n",
        "print(reshaped_test_data.shape[0], \"test samples\")\n",
        "\n",
        "# convert class vectors to binary class matrices\n",
        "y_train = keras.utils.to_categorical(y_train, num_classes)\n",
        "y_test = keras.utils.to_categorical(y_test, num_classes)"
      ],
      "execution_count": 56,
      "outputs": [
        {
          "output_type": "stream",
          "name": "stdout",
          "text": [
            "x_train shape: (60000, 784)\n",
            "60000 train samples\n",
            "10000 test samples\n"
          ]
        }
      ]
    },
    {
      "cell_type": "code",
      "metadata": {
        "id": "0MwLNdRRv8Y8"
      },
      "source": [
        "pca = PCA(n_components=input_shape)\n",
        "X_pca_train = pca.fit_transform(reshaped_training_data)\n",
        "X_pca_test = pca.transform(reshaped_test_data)"
      ],
      "execution_count": 57,
      "outputs": []
    },
    {
      "cell_type": "markdown",
      "metadata": {
        "id": "CtfMy4ZPt0ar"
      },
      "source": [
        "## Build the model"
      ]
    },
    {
      "cell_type": "code",
      "metadata": {
        "id": "90kwSHKMt0as",
        "colab": {
          "base_uri": "https://localhost:8080/"
        },
        "outputId": "1a1ec48f-1bd6-416b-aa17-4153c62b14eb"
      },
      "source": [
        "model = keras.Sequential(\n",
        "    [\n",
        "        keras.Input(shape=input_shape),\n",
        "        layers.Dense(20, activation=\"relu\"),\n",
        "        layers.Dense(20, activation=\"relu\"),\n",
        "        layers.Dense(num_classes, activation=\"softmax\"),\n",
        "    ]\n",
        ")\n",
        "\n",
        "model.summary()"
      ],
      "execution_count": 58,
      "outputs": [
        {
          "output_type": "stream",
          "name": "stdout",
          "text": [
            "Model: \"sequential_4\"\n",
            "_________________________________________________________________\n",
            " Layer (type)                Output Shape              Param #   \n",
            "=================================================================\n",
            " dense_12 (Dense)            (None, 20)                1620      \n",
            "                                                                 \n",
            " dense_13 (Dense)            (None, 20)                420       \n",
            "                                                                 \n",
            " dense_14 (Dense)            (None, 10)                210       \n",
            "                                                                 \n",
            "=================================================================\n",
            "Total params: 2,250\n",
            "Trainable params: 2,250\n",
            "Non-trainable params: 0\n",
            "_________________________________________________________________\n"
          ]
        }
      ]
    },
    {
      "cell_type": "markdown",
      "metadata": {
        "id": "tVe47Ypat0at"
      },
      "source": [
        "## Train the model"
      ]
    },
    {
      "cell_type": "code",
      "metadata": {
        "id": "jKfICz3_t0au",
        "colab": {
          "base_uri": "https://localhost:8080/"
        },
        "outputId": "f7e8d84e-b088-4906-acc0-a4c52c3ba041"
      },
      "source": [
        "batch_size = 128\n",
        "epochs = 15\n",
        "\n",
        "model.compile(loss=\"categorical_crossentropy\", optimizer=\"adam\", metrics=[\"accuracy\"])\n",
        "\n",
        "model.fit(X_pca_train, y_train, batch_size=batch_size, epochs=epochs)"
      ],
      "execution_count": 59,
      "outputs": [
        {
          "output_type": "stream",
          "name": "stdout",
          "text": [
            "Epoch 1/15\n",
            "469/469 [==============================] - 1s 2ms/step - loss: 0.9742 - accuracy: 0.7013\n",
            "Epoch 2/15\n",
            "469/469 [==============================] - 1s 2ms/step - loss: 0.3021 - accuracy: 0.9118\n",
            "Epoch 3/15\n",
            "469/469 [==============================] - 1s 2ms/step - loss: 0.2391 - accuracy: 0.9290\n",
            "Epoch 4/15\n",
            "469/469 [==============================] - 1s 2ms/step - loss: 0.2091 - accuracy: 0.9380\n",
            "Epoch 5/15\n",
            "469/469 [==============================] - 1s 2ms/step - loss: 0.1892 - accuracy: 0.9438\n",
            "Epoch 6/15\n",
            "469/469 [==============================] - 1s 2ms/step - loss: 0.1751 - accuracy: 0.9477\n",
            "Epoch 7/15\n",
            "469/469 [==============================] - 1s 2ms/step - loss: 0.1645 - accuracy: 0.9510\n",
            "Epoch 8/15\n",
            "469/469 [==============================] - 1s 2ms/step - loss: 0.1557 - accuracy: 0.9536\n",
            "Epoch 9/15\n",
            "469/469 [==============================] - 1s 2ms/step - loss: 0.1488 - accuracy: 0.9561\n",
            "Epoch 10/15\n",
            "469/469 [==============================] - 1s 2ms/step - loss: 0.1430 - accuracy: 0.9575\n",
            "Epoch 11/15\n",
            "469/469 [==============================] - 1s 2ms/step - loss: 0.1383 - accuracy: 0.9594\n",
            "Epoch 12/15\n",
            "469/469 [==============================] - 1s 2ms/step - loss: 0.1339 - accuracy: 0.9604\n",
            "Epoch 13/15\n",
            "469/469 [==============================] - 1s 2ms/step - loss: 0.1304 - accuracy: 0.9610\n",
            "Epoch 14/15\n",
            "469/469 [==============================] - 1s 2ms/step - loss: 0.1270 - accuracy: 0.9624\n",
            "Epoch 15/15\n",
            "469/469 [==============================] - 1s 2ms/step - loss: 0.1239 - accuracy: 0.9630\n"
          ]
        },
        {
          "output_type": "execute_result",
          "data": {
            "text/plain": [
              "<keras.callbacks.History at 0x7f573c954590>"
            ]
          },
          "metadata": {},
          "execution_count": 59
        }
      ]
    },
    {
      "cell_type": "markdown",
      "metadata": {
        "id": "EinUYtgJt0aw"
      },
      "source": [
        "## Evaluate the trained model"
      ]
    },
    {
      "cell_type": "code",
      "metadata": {
        "id": "1qS3xx9Kt0ax",
        "colab": {
          "base_uri": "https://localhost:8080/"
        },
        "outputId": "dc5dbe1f-bcb2-4835-ef66-cc5d27dd136c"
      },
      "source": [
        "score = model.evaluate(X_pca_test, y_test, verbose=0)\n",
        "print(\"Test loss:\", score[0])\n",
        "print(\"Test accuracy:\", score[1])"
      ],
      "execution_count": 60,
      "outputs": [
        {
          "output_type": "stream",
          "name": "stdout",
          "text": [
            "Test loss: 0.1414734572172165\n",
            "Test accuracy: 0.958299994468689\n"
          ]
        }
      ]
    },
    {
      "cell_type": "code",
      "metadata": {
        "id": "7froBCuewf9s",
        "colab": {
          "base_uri": "https://localhost:8080/"
        },
        "outputId": "558f1cdb-918c-4f04-ee0c-df1a4dbefbe1"
      },
      "source": [
        "score = model.evaluate(X_pca_train, y_train, verbose=0)\n",
        "print(\"Train loss:\", score[0])\n",
        "print(\"Train accuracy:\", score[1])"
      ],
      "execution_count": 61,
      "outputs": [
        {
          "output_type": "stream",
          "name": "stdout",
          "text": [
            "Train loss: 0.11746692657470703\n",
            "Train accuracy: 0.9659333229064941\n"
          ]
        }
      ]
    },
    {
      "cell_type": "code",
      "metadata": {
        "id": "6H6ociapIp7t"
      },
      "source": [
        "oldWeights = model.get_weights()"
      ],
      "execution_count": 62,
      "outputs": []
    },
    {
      "cell_type": "code",
      "metadata": {
        "id": "DRo-73ghw0Wg",
        "colab": {
          "base_uri": "https://localhost:8080/"
        },
        "outputId": "8f54f4ee-bc3b-4ecd-c358-2efa2b47655c"
      },
      "source": [
        "weights = []\n",
        "\n",
        "for layer in oldWeights:\n",
        "  weights.append(layer.round(2))\n",
        "\n",
        "model.set_weights(weights)\n",
        "model.get_weights()[0][0][0]"
      ],
      "execution_count": 63,
      "outputs": [
        {
          "output_type": "execute_result",
          "data": {
            "text/plain": [
              "0.05"
            ]
          },
          "metadata": {},
          "execution_count": 63
        }
      ]
    },
    {
      "cell_type": "code",
      "metadata": {
        "colab": {
          "base_uri": "https://localhost:8080/"
        },
        "id": "rYpytjvHHLya",
        "outputId": "ab155c58-523c-4820-f7c6-44e1ff925aca"
      },
      "source": [
        "score1 = model.evaluate(X_pca_train, y_train, verbose=0)\n",
        "print(\"Train loss:\", score1[0])\n",
        "print(\"Train accuracy:\", score1[1])\n",
        "\n",
        "(score[1]-score1[1])*100"
      ],
      "execution_count": 64,
      "outputs": [
        {
          "output_type": "stream",
          "name": "stdout",
          "text": [
            "Train loss: 0.1175757497549057\n",
            "Train accuracy: 0.9659833312034607\n"
          ]
        },
        {
          "output_type": "execute_result",
          "data": {
            "text/plain": [
              "-0.0050008296966552734"
            ]
          },
          "metadata": {},
          "execution_count": 64
        }
      ]
    },
    {
      "cell_type": "code",
      "metadata": {
        "colab": {
          "base_uri": "https://localhost:8080/"
        },
        "id": "s2EyulrHJTK9",
        "outputId": "9e36f1aa-b1ac-428e-eac0-dd56354dc38a"
      },
      "source": [
        "for layer in model.get_weights():\n",
        "  print(layer.max())"
      ],
      "execution_count": 71,
      "outputs": [
        {
          "output_type": "stream",
          "name": "stdout",
          "text": [
            "0.78\n",
            "0.81\n",
            "0.87\n",
            "0.62\n",
            "1.19\n",
            "0.52\n"
          ]
        },
        {
          "output_type": "execute_result",
          "data": {
            "text/plain": [
              "0.87"
            ]
          },
          "metadata": {},
          "execution_count": 71
        }
      ]
    }
  ]
}