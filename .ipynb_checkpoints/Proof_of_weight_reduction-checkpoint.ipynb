{
 "cells": [
  {
   "cell_type": "code",
   "execution_count": 1,
   "metadata": {
    "id": "Dhy7acfqt0am"
   },
   "outputs": [],
   "source": [
    "import numpy as np\n",
    "from tensorflow import keras\n",
    "from tensorflow.keras import layers\n",
    "from sklearn.decomposition import PCA\n",
    "import matplotlib.pyplot as plt"
   ]
  },
  {
   "cell_type": "markdown",
   "metadata": {
    "id": "yYEE9-2Mt0ap"
   },
   "source": [
    "## Prepare the data"
   ]
  },
  {
   "cell_type": "code",
   "execution_count": 2,
   "metadata": {
    "colab": {
     "base_uri": "https://localhost:8080/"
    },
    "id": "ANCytu_Pt0ap",
    "outputId": "fc30bc7e-5d54-4f55-92d8-3c72d7519be5"
   },
   "outputs": [
    {
     "name": "stdout",
     "output_type": "stream",
     "text": [
      "x_train shape: (60000, 784)\n",
      "60000 train samples\n",
      "10000 test samples\n"
     ]
    }
   ],
   "source": [
    "# Model / data parameters\n",
    "num_classes = 10\n",
    "input_shape = 80\n",
    "\n",
    "# the data, split between train and test sets\n",
    "(x_train, y_train), (x_test, y_test) = keras.datasets.mnist.load_data()\n",
    "\n",
    "# Scale images to the [0, 1] range\n",
    "x_train = x_train.astype(\"float32\") / 255\n",
    "x_test = x_test.astype(\"float32\") / 255\n",
    "\n",
    "reshaped_training_data = x_train.ravel().reshape(x_train.shape[0], x_train.shape[1]*x_train.shape[2])\n",
    "reshaped_test_data = x_test.ravel().reshape(x_test.shape[0], x_test.shape[1]*x_test.shape[2])\n",
    "\n",
    "print(\"x_train shape:\", reshaped_training_data.shape)\n",
    "print(reshaped_training_data.shape[0], \"train samples\")\n",
    "print(reshaped_test_data.shape[0], \"test samples\")\n",
    "\n",
    "# convert class vectors to binary class matrices\n",
    "y_train = keras.utils.to_categorical(y_train, num_classes)\n",
    "y_test = keras.utils.to_categorical(y_test, num_classes)"
   ]
  },
  {
   "cell_type": "code",
   "execution_count": 3,
   "metadata": {
    "id": "0MwLNdRRv8Y8"
   },
   "outputs": [],
   "source": [
    "pca = PCA(n_components=input_shape)\n",
    "X_pca_train = pca.fit_transform(reshaped_training_data)\n",
    "X_pca_test = pca.transform(reshaped_test_data)"
   ]
  },
  {
   "cell_type": "markdown",
   "metadata": {
    "id": "CtfMy4ZPt0ar"
   },
   "source": [
    "## Build the model"
   ]
  },
  {
   "cell_type": "code",
   "execution_count": 4,
   "metadata": {
    "colab": {
     "base_uri": "https://localhost:8080/"
    },
    "id": "90kwSHKMt0as",
    "outputId": "1a1ec48f-1bd6-416b-aa17-4153c62b14eb"
   },
   "outputs": [
    {
     "name": "stdout",
     "output_type": "stream",
     "text": [
      "Model: \"sequential\"\n",
      "_________________________________________________________________\n",
      " Layer (type)                Output Shape              Param #   \n",
      "=================================================================\n",
      " dense (Dense)               (None, 20)                1620      \n",
      "                                                                 \n",
      " dense_1 (Dense)             (None, 20)                420       \n",
      "                                                                 \n",
      " dense_2 (Dense)             (None, 10)                210       \n",
      "                                                                 \n",
      "=================================================================\n",
      "Total params: 2,250\n",
      "Trainable params: 2,250\n",
      "Non-trainable params: 0\n",
      "_________________________________________________________________\n"
     ]
    }
   ],
   "source": [
    "model = keras.Sequential(\n",
    "    [\n",
    "        keras.Input(shape=input_shape),\n",
    "        layers.Dense(20, activation=\"relu\"),\n",
    "        layers.Dense(20, activation=\"relu\"),\n",
    "        layers.Dense(num_classes, activation=\"softmax\"),\n",
    "    ]\n",
    ")\n",
    "\n",
    "model.summary()"
   ]
  },
  {
   "cell_type": "markdown",
   "metadata": {
    "id": "tVe47Ypat0at"
   },
   "source": [
    "## Train the model"
   ]
  },
  {
   "cell_type": "code",
   "execution_count": 5,
   "metadata": {
    "colab": {
     "base_uri": "https://localhost:8080/"
    },
    "id": "jKfICz3_t0au",
    "outputId": "f7e8d84e-b088-4906-acc0-a4c52c3ba041"
   },
   "outputs": [
    {
     "name": "stdout",
     "output_type": "stream",
     "text": [
      "Epoch 1/15\n",
      "469/469 [==============================] - 2s 2ms/step - loss: 0.9477 - accuracy: 0.7142\n",
      "Epoch 2/15\n",
      "469/469 [==============================] - 1s 2ms/step - loss: 0.3003 - accuracy: 0.9126\n",
      "Epoch 3/15\n",
      "469/469 [==============================] - 1s 2ms/step - loss: 0.2352 - accuracy: 0.9314\n",
      "Epoch 4/15\n",
      "469/469 [==============================] - 1s 2ms/step - loss: 0.2033 - accuracy: 0.9402\n",
      "Epoch 5/15\n",
      "469/469 [==============================] - 1s 2ms/step - loss: 0.1842 - accuracy: 0.9457\n",
      "Epoch 6/15\n",
      "469/469 [==============================] - 1s 2ms/step - loss: 0.1707 - accuracy: 0.9497\n",
      "Epoch 7/15\n",
      "469/469 [==============================] - 1s 2ms/step - loss: 0.1603 - accuracy: 0.9526\n",
      "Epoch 8/15\n",
      "469/469 [==============================] - 1s 3ms/step - loss: 0.1525 - accuracy: 0.9552\n",
      "Epoch 9/15\n",
      "469/469 [==============================] - 1s 3ms/step - loss: 0.1463 - accuracy: 0.9562: 2s - loss: 0.1322  - ETA: 1s -\n",
      "Epoch 10/15\n",
      "469/469 [==============================] - 1s 2ms/step - loss: 0.1409 - accuracy: 0.9582\n",
      "Epoch 11/15\n",
      "469/469 [==============================] - 1s 2ms/step - loss: 0.1370 - accuracy: 0.9596\n",
      "Epoch 12/15\n",
      "469/469 [==============================] - 1s 2ms/step - loss: 0.1332 - accuracy: 0.9603\n",
      "Epoch 13/15\n",
      "469/469 [==============================] - 1s 2ms/step - loss: 0.1298 - accuracy: 0.9609\n",
      "Epoch 14/15\n",
      "469/469 [==============================] - 1s 2ms/step - loss: 0.1265 - accuracy: 0.9624\n",
      "Epoch 15/15\n",
      "469/469 [==============================] - 1s 2ms/step - loss: 0.1240 - accuracy: 0.9629\n"
     ]
    },
    {
     "data": {
      "text/plain": [
       "<keras.callbacks.History at 0x1b101b99a90>"
      ]
     },
     "execution_count": 5,
     "metadata": {},
     "output_type": "execute_result"
    }
   ],
   "source": []
  },
  {
   "cell_type": "markdown",
   "metadata": {
    "id": "EinUYtgJt0aw"
   },
   "source": [
    "## Evaluate the trained model"
   ]
  },
  {
   "cell_type": "code",
   "execution_count": 6,
   "metadata": {
    "colab": {
     "base_uri": "https://localhost:8080/"
    },
    "id": "1qS3xx9Kt0ax",
    "outputId": "dc5dbe1f-bcb2-4835-ef66-cc5d27dd136c"
   },
   "outputs": [
    {
     "name": "stdout",
     "output_type": "stream",
     "text": [
      "Test loss: 0.1345892995595932\n",
      "Test accuracy: 0.958899974822998\n"
     ]
    }
   ],
   "source": [
    "batch_size = 128\n",
    "epochs = 15\n",
    "model.compile(loss=\"categorical_crossentropy\", optimizer=\"adam\", metrics=[\"accuracy\"])\n",
    "model.fit(X_pca_train, y_train, batch_size=batch_size, epochs=epochs)\n",
    "score = model.evaluate(X_pca_test, y_test, verbose=0)\n",
    "print(\"Test loss:\", score[0])\n",
    "print(\"Test accuracy:\", score[1])"
   ]
  },
  {
   "cell_type": "code",
   "execution_count": 7,
   "metadata": {
    "colab": {
     "base_uri": "https://localhost:8080/"
    },
    "id": "7froBCuewf9s",
    "outputId": "558f1cdb-918c-4f04-ee0c-df1a4dbefbe1"
   },
   "outputs": [
    {
     "name": "stdout",
     "output_type": "stream",
     "text": [
      "Train loss: 0.11657503247261047\n",
      "Train accuracy: 0.965499997138977\n"
     ]
    }
   ],
   "source": [
    "score = model.evaluate(X_pca_train, y_train, verbose=0)\n",
    "print(\"Train loss:\", score[0])\n",
    "print(\"Train accuracy:\", score[1])"
   ]
  },
  {
   "cell_type": "code",
   "execution_count": 8,
   "metadata": {
    "id": "6H6ociapIp7t"
   },
   "outputs": [],
   "source": [
    "oldWeights = model.get_weights()"
   ]
  },
  {
   "cell_type": "code",
   "execution_count": 9,
   "metadata": {
    "colab": {
     "base_uri": "https://localhost:8080/"
    },
    "id": "DRo-73ghw0Wg",
    "outputId": "8f54f4ee-bc3b-4ecd-c358-2efa2b47655c"
   },
   "outputs": [
    {
     "data": {
      "text/plain": [
       "-0.07"
      ]
     },
     "execution_count": 9,
     "metadata": {},
     "output_type": "execute_result"
    }
   ],
   "source": [
    "weights = []\n",
    "\n",
    "for layer in oldWeights:\n",
    "  weights.append(layer.round(2))\n",
    "\n",
    "model.set_weights(weights)\n",
    "model.get_weights()[0][0][0]"
   ]
  },
  {
   "cell_type": "code",
   "execution_count": 10,
   "metadata": {
    "colab": {
     "base_uri": "https://localhost:8080/"
    },
    "id": "rYpytjvHHLya",
    "outputId": "ab155c58-523c-4820-f7c6-44e1ff925aca"
   },
   "outputs": [
    {
     "name": "stdout",
     "output_type": "stream",
     "text": [
      "Train loss: 0.11660978943109512\n",
      "Train accuracy: 0.9655166864395142\n"
     ]
    },
    {
     "data": {
      "text/plain": [
       "-0.0016689300537109375"
      ]
     },
     "execution_count": 10,
     "metadata": {},
     "output_type": "execute_result"
    }
   ],
   "source": [
    "score1 = model.evaluate(X_pca_train, y_train, verbose=0)\n",
    "print(\"Train loss:\", score1[0])\n",
    "print(\"Train accuracy:\", score1[1])\n",
    "\n",
    "(score[1]-score1[1])*100"
   ]
  },
  {
   "cell_type": "code",
   "execution_count": 11,
   "metadata": {
    "colab": {
     "base_uri": "https://localhost:8080/"
    },
    "id": "s2EyulrHJTK9",
    "outputId": "9e36f1aa-b1ac-428e-eac0-dd56354dc38a"
   },
   "outputs": [
    {
     "name": "stdout",
     "output_type": "stream",
     "text": [
      "0.78\n",
      "0.82\n",
      "1.09\n",
      "0.69\n",
      "0.88\n",
      "0.44\n"
     ]
    }
   ],
   "source": [
    "for layer in model.get_weights():\n",
    "  print(layer.max())"
   ]
  }
 ],
 "metadata": {
  "colab": {
   "collapsed_sections": [
    "3gZLZT9Kt0al"
   ],
   "name": "Proof of weight reduction",
   "provenance": [],
   "toc_visible": true
  },
  "kernelspec": {
   "display_name": "Python 3 (ipykernel)",
   "language": "python",
   "name": "python3"
  },
  "language_info": {
   "codemirror_mode": {
    "name": "ipython",
    "version": 3
   },
   "file_extension": ".py",
   "mimetype": "text/x-python",
   "name": "python",
   "nbconvert_exporter": "python",
   "pygments_lexer": "ipython3",
   "version": "3.9.7"
  }
 },
 "nbformat": 4,
 "nbformat_minor": 1
}
